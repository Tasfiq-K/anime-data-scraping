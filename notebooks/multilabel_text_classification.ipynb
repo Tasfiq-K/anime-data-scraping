{
  "nbformat": 4,
  "nbformat_minor": 0,
  "metadata": {
    "colab": {
      "provenance": [],
      "toc_visible": true,
      "gpuType": "T4"
    },
    "kernelspec": {
      "name": "python3",
      "display_name": "Python 3"
    },
    "language_info": {
      "name": "python"
    },
    "accelerator": "GPU",
    "widgets": {
      "application/vnd.jupyter.widget-state+json": {
        "b5dad9f3abad4cd591ac1f1e494619cb": {
          "model_module": "@jupyter-widgets/controls",
          "model_name": "HBoxModel",
          "model_module_version": "1.5.0",
          "state": {
            "_dom_classes": [],
            "_model_module": "@jupyter-widgets/controls",
            "_model_module_version": "1.5.0",
            "_model_name": "HBoxModel",
            "_view_count": null,
            "_view_module": "@jupyter-widgets/controls",
            "_view_module_version": "1.5.0",
            "_view_name": "HBoxView",
            "box_style": "",
            "children": [
              "IPY_MODEL_b0d2144e3cf043d986f4484de9b2dd07",
              "IPY_MODEL_0ba3fcc93f2444bf8bfdd5d104cd3f7c",
              "IPY_MODEL_1ddfcea861ab4fc9a7c5eb9adf535a21"
            ],
            "layout": "IPY_MODEL_5f17d0b24f9b4a69827b4656eed347be"
          }
        },
        "b0d2144e3cf043d986f4484de9b2dd07": {
          "model_module": "@jupyter-widgets/controls",
          "model_name": "HTMLModel",
          "model_module_version": "1.5.0",
          "state": {
            "_dom_classes": [],
            "_model_module": "@jupyter-widgets/controls",
            "_model_module_version": "1.5.0",
            "_model_name": "HTMLModel",
            "_view_count": null,
            "_view_module": "@jupyter-widgets/controls",
            "_view_module_version": "1.5.0",
            "_view_name": "HTMLView",
            "description": "",
            "description_tooltip": null,
            "layout": "IPY_MODEL_fdaf25ecaf5f4630a0f496bb716e20ea",
            "placeholder": "​",
            "style": "IPY_MODEL_ea91df7511f440e3b8ba585494cdc983",
            "value": "Downloading (…)lve/main/config.json: 100%"
          }
        },
        "0ba3fcc93f2444bf8bfdd5d104cd3f7c": {
          "model_module": "@jupyter-widgets/controls",
          "model_name": "FloatProgressModel",
          "model_module_version": "1.5.0",
          "state": {
            "_dom_classes": [],
            "_model_module": "@jupyter-widgets/controls",
            "_model_module_version": "1.5.0",
            "_model_name": "FloatProgressModel",
            "_view_count": null,
            "_view_module": "@jupyter-widgets/controls",
            "_view_module_version": "1.5.0",
            "_view_name": "ProgressView",
            "bar_style": "success",
            "description": "",
            "description_tooltip": null,
            "layout": "IPY_MODEL_459f458f55a44d3fbd2bad85be9e266f",
            "max": 480,
            "min": 0,
            "orientation": "horizontal",
            "style": "IPY_MODEL_91921952e42c499c93ca637834cf9434",
            "value": 480
          }
        },
        "1ddfcea861ab4fc9a7c5eb9adf535a21": {
          "model_module": "@jupyter-widgets/controls",
          "model_name": "HTMLModel",
          "model_module_version": "1.5.0",
          "state": {
            "_dom_classes": [],
            "_model_module": "@jupyter-widgets/controls",
            "_model_module_version": "1.5.0",
            "_model_name": "HTMLModel",
            "_view_count": null,
            "_view_module": "@jupyter-widgets/controls",
            "_view_module_version": "1.5.0",
            "_view_name": "HTMLView",
            "description": "",
            "description_tooltip": null,
            "layout": "IPY_MODEL_f4340d71300845d580e97b208921c09d",
            "placeholder": "​",
            "style": "IPY_MODEL_7ba3968051b94b58a651b707950b2b69",
            "value": " 480/480 [00:00&lt;00:00, 30.5kB/s]"
          }
        },
        "5f17d0b24f9b4a69827b4656eed347be": {
          "model_module": "@jupyter-widgets/base",
          "model_name": "LayoutModel",
          "model_module_version": "1.2.0",
          "state": {
            "_model_module": "@jupyter-widgets/base",
            "_model_module_version": "1.2.0",
            "_model_name": "LayoutModel",
            "_view_count": null,
            "_view_module": "@jupyter-widgets/base",
            "_view_module_version": "1.2.0",
            "_view_name": "LayoutView",
            "align_content": null,
            "align_items": null,
            "align_self": null,
            "border": null,
            "bottom": null,
            "display": null,
            "flex": null,
            "flex_flow": null,
            "grid_area": null,
            "grid_auto_columns": null,
            "grid_auto_flow": null,
            "grid_auto_rows": null,
            "grid_column": null,
            "grid_gap": null,
            "grid_row": null,
            "grid_template_areas": null,
            "grid_template_columns": null,
            "grid_template_rows": null,
            "height": null,
            "justify_content": null,
            "justify_items": null,
            "left": null,
            "margin": null,
            "max_height": null,
            "max_width": null,
            "min_height": null,
            "min_width": null,
            "object_fit": null,
            "object_position": null,
            "order": null,
            "overflow": null,
            "overflow_x": null,
            "overflow_y": null,
            "padding": null,
            "right": null,
            "top": null,
            "visibility": null,
            "width": null
          }
        },
        "fdaf25ecaf5f4630a0f496bb716e20ea": {
          "model_module": "@jupyter-widgets/base",
          "model_name": "LayoutModel",
          "model_module_version": "1.2.0",
          "state": {
            "_model_module": "@jupyter-widgets/base",
            "_model_module_version": "1.2.0",
            "_model_name": "LayoutModel",
            "_view_count": null,
            "_view_module": "@jupyter-widgets/base",
            "_view_module_version": "1.2.0",
            "_view_name": "LayoutView",
            "align_content": null,
            "align_items": null,
            "align_self": null,
            "border": null,
            "bottom": null,
            "display": null,
            "flex": null,
            "flex_flow": null,
            "grid_area": null,
            "grid_auto_columns": null,
            "grid_auto_flow": null,
            "grid_auto_rows": null,
            "grid_column": null,
            "grid_gap": null,
            "grid_row": null,
            "grid_template_areas": null,
            "grid_template_columns": null,
            "grid_template_rows": null,
            "height": null,
            "justify_content": null,
            "justify_items": null,
            "left": null,
            "margin": null,
            "max_height": null,
            "max_width": null,
            "min_height": null,
            "min_width": null,
            "object_fit": null,
            "object_position": null,
            "order": null,
            "overflow": null,
            "overflow_x": null,
            "overflow_y": null,
            "padding": null,
            "right": null,
            "top": null,
            "visibility": null,
            "width": null
          }
        },
        "ea91df7511f440e3b8ba585494cdc983": {
          "model_module": "@jupyter-widgets/controls",
          "model_name": "DescriptionStyleModel",
          "model_module_version": "1.5.0",
          "state": {
            "_model_module": "@jupyter-widgets/controls",
            "_model_module_version": "1.5.0",
            "_model_name": "DescriptionStyleModel",
            "_view_count": null,
            "_view_module": "@jupyter-widgets/base",
            "_view_module_version": "1.2.0",
            "_view_name": "StyleView",
            "description_width": ""
          }
        },
        "459f458f55a44d3fbd2bad85be9e266f": {
          "model_module": "@jupyter-widgets/base",
          "model_name": "LayoutModel",
          "model_module_version": "1.2.0",
          "state": {
            "_model_module": "@jupyter-widgets/base",
            "_model_module_version": "1.2.0",
            "_model_name": "LayoutModel",
            "_view_count": null,
            "_view_module": "@jupyter-widgets/base",
            "_view_module_version": "1.2.0",
            "_view_name": "LayoutView",
            "align_content": null,
            "align_items": null,
            "align_self": null,
            "border": null,
            "bottom": null,
            "display": null,
            "flex": null,
            "flex_flow": null,
            "grid_area": null,
            "grid_auto_columns": null,
            "grid_auto_flow": null,
            "grid_auto_rows": null,
            "grid_column": null,
            "grid_gap": null,
            "grid_row": null,
            "grid_template_areas": null,
            "grid_template_columns": null,
            "grid_template_rows": null,
            "height": null,
            "justify_content": null,
            "justify_items": null,
            "left": null,
            "margin": null,
            "max_height": null,
            "max_width": null,
            "min_height": null,
            "min_width": null,
            "object_fit": null,
            "object_position": null,
            "order": null,
            "overflow": null,
            "overflow_x": null,
            "overflow_y": null,
            "padding": null,
            "right": null,
            "top": null,
            "visibility": null,
            "width": null
          }
        },
        "91921952e42c499c93ca637834cf9434": {
          "model_module": "@jupyter-widgets/controls",
          "model_name": "ProgressStyleModel",
          "model_module_version": "1.5.0",
          "state": {
            "_model_module": "@jupyter-widgets/controls",
            "_model_module_version": "1.5.0",
            "_model_name": "ProgressStyleModel",
            "_view_count": null,
            "_view_module": "@jupyter-widgets/base",
            "_view_module_version": "1.2.0",
            "_view_name": "StyleView",
            "bar_color": null,
            "description_width": ""
          }
        },
        "f4340d71300845d580e97b208921c09d": {
          "model_module": "@jupyter-widgets/base",
          "model_name": "LayoutModel",
          "model_module_version": "1.2.0",
          "state": {
            "_model_module": "@jupyter-widgets/base",
            "_model_module_version": "1.2.0",
            "_model_name": "LayoutModel",
            "_view_count": null,
            "_view_module": "@jupyter-widgets/base",
            "_view_module_version": "1.2.0",
            "_view_name": "LayoutView",
            "align_content": null,
            "align_items": null,
            "align_self": null,
            "border": null,
            "bottom": null,
            "display": null,
            "flex": null,
            "flex_flow": null,
            "grid_area": null,
            "grid_auto_columns": null,
            "grid_auto_flow": null,
            "grid_auto_rows": null,
            "grid_column": null,
            "grid_gap": null,
            "grid_row": null,
            "grid_template_areas": null,
            "grid_template_columns": null,
            "grid_template_rows": null,
            "height": null,
            "justify_content": null,
            "justify_items": null,
            "left": null,
            "margin": null,
            "max_height": null,
            "max_width": null,
            "min_height": null,
            "min_width": null,
            "object_fit": null,
            "object_position": null,
            "order": null,
            "overflow": null,
            "overflow_x": null,
            "overflow_y": null,
            "padding": null,
            "right": null,
            "top": null,
            "visibility": null,
            "width": null
          }
        },
        "7ba3968051b94b58a651b707950b2b69": {
          "model_module": "@jupyter-widgets/controls",
          "model_name": "DescriptionStyleModel",
          "model_module_version": "1.5.0",
          "state": {
            "_model_module": "@jupyter-widgets/controls",
            "_model_module_version": "1.5.0",
            "_model_name": "DescriptionStyleModel",
            "_view_count": null,
            "_view_module": "@jupyter-widgets/base",
            "_view_module_version": "1.2.0",
            "_view_name": "StyleView",
            "description_width": ""
          }
        },
        "b39a14b7a61d4bc29d2e23d908f734b7": {
          "model_module": "@jupyter-widgets/controls",
          "model_name": "HBoxModel",
          "model_module_version": "1.5.0",
          "state": {
            "_dom_classes": [],
            "_model_module": "@jupyter-widgets/controls",
            "_model_module_version": "1.5.0",
            "_model_name": "HBoxModel",
            "_view_count": null,
            "_view_module": "@jupyter-widgets/controls",
            "_view_module_version": "1.5.0",
            "_view_name": "HBoxView",
            "box_style": "",
            "children": [
              "IPY_MODEL_07220d5de2594c44ac25f05c7a6dd0a3",
              "IPY_MODEL_b030cf30e40a44b8b2eb134320e31d3d",
              "IPY_MODEL_4197d27b6d28485a924db467a7e2b60a"
            ],
            "layout": "IPY_MODEL_d1552b2b146e4201b098de2d1ba97eff"
          }
        },
        "07220d5de2594c44ac25f05c7a6dd0a3": {
          "model_module": "@jupyter-widgets/controls",
          "model_name": "HTMLModel",
          "model_module_version": "1.5.0",
          "state": {
            "_dom_classes": [],
            "_model_module": "@jupyter-widgets/controls",
            "_model_module_version": "1.5.0",
            "_model_name": "HTMLModel",
            "_view_count": null,
            "_view_module": "@jupyter-widgets/controls",
            "_view_module_version": "1.5.0",
            "_view_name": "HTMLView",
            "description": "",
            "description_tooltip": null,
            "layout": "IPY_MODEL_71ba595f23a94a3289ae46b26114d920",
            "placeholder": "​",
            "style": "IPY_MODEL_69eb9a2f91354cfa81fb28371055ea91",
            "value": "Downloading (…)olve/main/vocab.json: 100%"
          }
        },
        "b030cf30e40a44b8b2eb134320e31d3d": {
          "model_module": "@jupyter-widgets/controls",
          "model_name": "FloatProgressModel",
          "model_module_version": "1.5.0",
          "state": {
            "_dom_classes": [],
            "_model_module": "@jupyter-widgets/controls",
            "_model_module_version": "1.5.0",
            "_model_name": "FloatProgressModel",
            "_view_count": null,
            "_view_module": "@jupyter-widgets/controls",
            "_view_module_version": "1.5.0",
            "_view_name": "ProgressView",
            "bar_style": "success",
            "description": "",
            "description_tooltip": null,
            "layout": "IPY_MODEL_3d8f1a10e9aa40949d9c725ce6499790",
            "max": 898823,
            "min": 0,
            "orientation": "horizontal",
            "style": "IPY_MODEL_5483b7df81444e0c8d321f5c61648607",
            "value": 898823
          }
        },
        "4197d27b6d28485a924db467a7e2b60a": {
          "model_module": "@jupyter-widgets/controls",
          "model_name": "HTMLModel",
          "model_module_version": "1.5.0",
          "state": {
            "_dom_classes": [],
            "_model_module": "@jupyter-widgets/controls",
            "_model_module_version": "1.5.0",
            "_model_name": "HTMLModel",
            "_view_count": null,
            "_view_module": "@jupyter-widgets/controls",
            "_view_module_version": "1.5.0",
            "_view_name": "HTMLView",
            "description": "",
            "description_tooltip": null,
            "layout": "IPY_MODEL_f795ba941dc748058f7e065d88e3cc13",
            "placeholder": "​",
            "style": "IPY_MODEL_f1fb55e464ec433f8b90b74b32f09b7b",
            "value": " 899k/899k [00:00&lt;00:00, 25.3MB/s]"
          }
        },
        "d1552b2b146e4201b098de2d1ba97eff": {
          "model_module": "@jupyter-widgets/base",
          "model_name": "LayoutModel",
          "model_module_version": "1.2.0",
          "state": {
            "_model_module": "@jupyter-widgets/base",
            "_model_module_version": "1.2.0",
            "_model_name": "LayoutModel",
            "_view_count": null,
            "_view_module": "@jupyter-widgets/base",
            "_view_module_version": "1.2.0",
            "_view_name": "LayoutView",
            "align_content": null,
            "align_items": null,
            "align_self": null,
            "border": null,
            "bottom": null,
            "display": null,
            "flex": null,
            "flex_flow": null,
            "grid_area": null,
            "grid_auto_columns": null,
            "grid_auto_flow": null,
            "grid_auto_rows": null,
            "grid_column": null,
            "grid_gap": null,
            "grid_row": null,
            "grid_template_areas": null,
            "grid_template_columns": null,
            "grid_template_rows": null,
            "height": null,
            "justify_content": null,
            "justify_items": null,
            "left": null,
            "margin": null,
            "max_height": null,
            "max_width": null,
            "min_height": null,
            "min_width": null,
            "object_fit": null,
            "object_position": null,
            "order": null,
            "overflow": null,
            "overflow_x": null,
            "overflow_y": null,
            "padding": null,
            "right": null,
            "top": null,
            "visibility": null,
            "width": null
          }
        },
        "71ba595f23a94a3289ae46b26114d920": {
          "model_module": "@jupyter-widgets/base",
          "model_name": "LayoutModel",
          "model_module_version": "1.2.0",
          "state": {
            "_model_module": "@jupyter-widgets/base",
            "_model_module_version": "1.2.0",
            "_model_name": "LayoutModel",
            "_view_count": null,
            "_view_module": "@jupyter-widgets/base",
            "_view_module_version": "1.2.0",
            "_view_name": "LayoutView",
            "align_content": null,
            "align_items": null,
            "align_self": null,
            "border": null,
            "bottom": null,
            "display": null,
            "flex": null,
            "flex_flow": null,
            "grid_area": null,
            "grid_auto_columns": null,
            "grid_auto_flow": null,
            "grid_auto_rows": null,
            "grid_column": null,
            "grid_gap": null,
            "grid_row": null,
            "grid_template_areas": null,
            "grid_template_columns": null,
            "grid_template_rows": null,
            "height": null,
            "justify_content": null,
            "justify_items": null,
            "left": null,
            "margin": null,
            "max_height": null,
            "max_width": null,
            "min_height": null,
            "min_width": null,
            "object_fit": null,
            "object_position": null,
            "order": null,
            "overflow": null,
            "overflow_x": null,
            "overflow_y": null,
            "padding": null,
            "right": null,
            "top": null,
            "visibility": null,
            "width": null
          }
        },
        "69eb9a2f91354cfa81fb28371055ea91": {
          "model_module": "@jupyter-widgets/controls",
          "model_name": "DescriptionStyleModel",
          "model_module_version": "1.5.0",
          "state": {
            "_model_module": "@jupyter-widgets/controls",
            "_model_module_version": "1.5.0",
            "_model_name": "DescriptionStyleModel",
            "_view_count": null,
            "_view_module": "@jupyter-widgets/base",
            "_view_module_version": "1.2.0",
            "_view_name": "StyleView",
            "description_width": ""
          }
        },
        "3d8f1a10e9aa40949d9c725ce6499790": {
          "model_module": "@jupyter-widgets/base",
          "model_name": "LayoutModel",
          "model_module_version": "1.2.0",
          "state": {
            "_model_module": "@jupyter-widgets/base",
            "_model_module_version": "1.2.0",
            "_model_name": "LayoutModel",
            "_view_count": null,
            "_view_module": "@jupyter-widgets/base",
            "_view_module_version": "1.2.0",
            "_view_name": "LayoutView",
            "align_content": null,
            "align_items": null,
            "align_self": null,
            "border": null,
            "bottom": null,
            "display": null,
            "flex": null,
            "flex_flow": null,
            "grid_area": null,
            "grid_auto_columns": null,
            "grid_auto_flow": null,
            "grid_auto_rows": null,
            "grid_column": null,
            "grid_gap": null,
            "grid_row": null,
            "grid_template_areas": null,
            "grid_template_columns": null,
            "grid_template_rows": null,
            "height": null,
            "justify_content": null,
            "justify_items": null,
            "left": null,
            "margin": null,
            "max_height": null,
            "max_width": null,
            "min_height": null,
            "min_width": null,
            "object_fit": null,
            "object_position": null,
            "order": null,
            "overflow": null,
            "overflow_x": null,
            "overflow_y": null,
            "padding": null,
            "right": null,
            "top": null,
            "visibility": null,
            "width": null
          }
        },
        "5483b7df81444e0c8d321f5c61648607": {
          "model_module": "@jupyter-widgets/controls",
          "model_name": "ProgressStyleModel",
          "model_module_version": "1.5.0",
          "state": {
            "_model_module": "@jupyter-widgets/controls",
            "_model_module_version": "1.5.0",
            "_model_name": "ProgressStyleModel",
            "_view_count": null,
            "_view_module": "@jupyter-widgets/base",
            "_view_module_version": "1.2.0",
            "_view_name": "StyleView",
            "bar_color": null,
            "description_width": ""
          }
        },
        "f795ba941dc748058f7e065d88e3cc13": {
          "model_module": "@jupyter-widgets/base",
          "model_name": "LayoutModel",
          "model_module_version": "1.2.0",
          "state": {
            "_model_module": "@jupyter-widgets/base",
            "_model_module_version": "1.2.0",
            "_model_name": "LayoutModel",
            "_view_count": null,
            "_view_module": "@jupyter-widgets/base",
            "_view_module_version": "1.2.0",
            "_view_name": "LayoutView",
            "align_content": null,
            "align_items": null,
            "align_self": null,
            "border": null,
            "bottom": null,
            "display": null,
            "flex": null,
            "flex_flow": null,
            "grid_area": null,
            "grid_auto_columns": null,
            "grid_auto_flow": null,
            "grid_auto_rows": null,
            "grid_column": null,
            "grid_gap": null,
            "grid_row": null,
            "grid_template_areas": null,
            "grid_template_columns": null,
            "grid_template_rows": null,
            "height": null,
            "justify_content": null,
            "justify_items": null,
            "left": null,
            "margin": null,
            "max_height": null,
            "max_width": null,
            "min_height": null,
            "min_width": null,
            "object_fit": null,
            "object_position": null,
            "order": null,
            "overflow": null,
            "overflow_x": null,
            "overflow_y": null,
            "padding": null,
            "right": null,
            "top": null,
            "visibility": null,
            "width": null
          }
        },
        "f1fb55e464ec433f8b90b74b32f09b7b": {
          "model_module": "@jupyter-widgets/controls",
          "model_name": "DescriptionStyleModel",
          "model_module_version": "1.5.0",
          "state": {
            "_model_module": "@jupyter-widgets/controls",
            "_model_module_version": "1.5.0",
            "_model_name": "DescriptionStyleModel",
            "_view_count": null,
            "_view_module": "@jupyter-widgets/base",
            "_view_module_version": "1.2.0",
            "_view_name": "StyleView",
            "description_width": ""
          }
        },
        "3e31e1a0342c482e898a1d41e8156a49": {
          "model_module": "@jupyter-widgets/controls",
          "model_name": "HBoxModel",
          "model_module_version": "1.5.0",
          "state": {
            "_dom_classes": [],
            "_model_module": "@jupyter-widgets/controls",
            "_model_module_version": "1.5.0",
            "_model_name": "HBoxModel",
            "_view_count": null,
            "_view_module": "@jupyter-widgets/controls",
            "_view_module_version": "1.5.0",
            "_view_name": "HBoxView",
            "box_style": "",
            "children": [
              "IPY_MODEL_e149af2ee40b4b569e06e577721896d8",
              "IPY_MODEL_9bc126862e854249ac53451d5d440fdf",
              "IPY_MODEL_e5f27770106344949e720b16316882d8"
            ],
            "layout": "IPY_MODEL_6d3de34d356f447e8c51953f39cb4bff"
          }
        },
        "e149af2ee40b4b569e06e577721896d8": {
          "model_module": "@jupyter-widgets/controls",
          "model_name": "HTMLModel",
          "model_module_version": "1.5.0",
          "state": {
            "_dom_classes": [],
            "_model_module": "@jupyter-widgets/controls",
            "_model_module_version": "1.5.0",
            "_model_name": "HTMLModel",
            "_view_count": null,
            "_view_module": "@jupyter-widgets/controls",
            "_view_module_version": "1.5.0",
            "_view_name": "HTMLView",
            "description": "",
            "description_tooltip": null,
            "layout": "IPY_MODEL_fdf47906c3804f79b301b96bfb5a4fde",
            "placeholder": "​",
            "style": "IPY_MODEL_861272b136654502b9d025492b766bf1",
            "value": "Downloading (…)olve/main/merges.txt: 100%"
          }
        },
        "9bc126862e854249ac53451d5d440fdf": {
          "model_module": "@jupyter-widgets/controls",
          "model_name": "FloatProgressModel",
          "model_module_version": "1.5.0",
          "state": {
            "_dom_classes": [],
            "_model_module": "@jupyter-widgets/controls",
            "_model_module_version": "1.5.0",
            "_model_name": "FloatProgressModel",
            "_view_count": null,
            "_view_module": "@jupyter-widgets/controls",
            "_view_module_version": "1.5.0",
            "_view_name": "ProgressView",
            "bar_style": "success",
            "description": "",
            "description_tooltip": null,
            "layout": "IPY_MODEL_cd6ba2b812854a1d8bef3174ad508cd0",
            "max": 456318,
            "min": 0,
            "orientation": "horizontal",
            "style": "IPY_MODEL_de45038f3db043f7939362036fbb8343",
            "value": 456318
          }
        },
        "e5f27770106344949e720b16316882d8": {
          "model_module": "@jupyter-widgets/controls",
          "model_name": "HTMLModel",
          "model_module_version": "1.5.0",
          "state": {
            "_dom_classes": [],
            "_model_module": "@jupyter-widgets/controls",
            "_model_module_version": "1.5.0",
            "_model_name": "HTMLModel",
            "_view_count": null,
            "_view_module": "@jupyter-widgets/controls",
            "_view_module_version": "1.5.0",
            "_view_name": "HTMLView",
            "description": "",
            "description_tooltip": null,
            "layout": "IPY_MODEL_db128d8e4bde424d8e6a464925ff7710",
            "placeholder": "​",
            "style": "IPY_MODEL_16f02c73b65f44bba6ea71de25dfbc67",
            "value": " 456k/456k [00:00&lt;00:00, 20.0MB/s]"
          }
        },
        "6d3de34d356f447e8c51953f39cb4bff": {
          "model_module": "@jupyter-widgets/base",
          "model_name": "LayoutModel",
          "model_module_version": "1.2.0",
          "state": {
            "_model_module": "@jupyter-widgets/base",
            "_model_module_version": "1.2.0",
            "_model_name": "LayoutModel",
            "_view_count": null,
            "_view_module": "@jupyter-widgets/base",
            "_view_module_version": "1.2.0",
            "_view_name": "LayoutView",
            "align_content": null,
            "align_items": null,
            "align_self": null,
            "border": null,
            "bottom": null,
            "display": null,
            "flex": null,
            "flex_flow": null,
            "grid_area": null,
            "grid_auto_columns": null,
            "grid_auto_flow": null,
            "grid_auto_rows": null,
            "grid_column": null,
            "grid_gap": null,
            "grid_row": null,
            "grid_template_areas": null,
            "grid_template_columns": null,
            "grid_template_rows": null,
            "height": null,
            "justify_content": null,
            "justify_items": null,
            "left": null,
            "margin": null,
            "max_height": null,
            "max_width": null,
            "min_height": null,
            "min_width": null,
            "object_fit": null,
            "object_position": null,
            "order": null,
            "overflow": null,
            "overflow_x": null,
            "overflow_y": null,
            "padding": null,
            "right": null,
            "top": null,
            "visibility": null,
            "width": null
          }
        },
        "fdf47906c3804f79b301b96bfb5a4fde": {
          "model_module": "@jupyter-widgets/base",
          "model_name": "LayoutModel",
          "model_module_version": "1.2.0",
          "state": {
            "_model_module": "@jupyter-widgets/base",
            "_model_module_version": "1.2.0",
            "_model_name": "LayoutModel",
            "_view_count": null,
            "_view_module": "@jupyter-widgets/base",
            "_view_module_version": "1.2.0",
            "_view_name": "LayoutView",
            "align_content": null,
            "align_items": null,
            "align_self": null,
            "border": null,
            "bottom": null,
            "display": null,
            "flex": null,
            "flex_flow": null,
            "grid_area": null,
            "grid_auto_columns": null,
            "grid_auto_flow": null,
            "grid_auto_rows": null,
            "grid_column": null,
            "grid_gap": null,
            "grid_row": null,
            "grid_template_areas": null,
            "grid_template_columns": null,
            "grid_template_rows": null,
            "height": null,
            "justify_content": null,
            "justify_items": null,
            "left": null,
            "margin": null,
            "max_height": null,
            "max_width": null,
            "min_height": null,
            "min_width": null,
            "object_fit": null,
            "object_position": null,
            "order": null,
            "overflow": null,
            "overflow_x": null,
            "overflow_y": null,
            "padding": null,
            "right": null,
            "top": null,
            "visibility": null,
            "width": null
          }
        },
        "861272b136654502b9d025492b766bf1": {
          "model_module": "@jupyter-widgets/controls",
          "model_name": "DescriptionStyleModel",
          "model_module_version": "1.5.0",
          "state": {
            "_model_module": "@jupyter-widgets/controls",
            "_model_module_version": "1.5.0",
            "_model_name": "DescriptionStyleModel",
            "_view_count": null,
            "_view_module": "@jupyter-widgets/base",
            "_view_module_version": "1.2.0",
            "_view_name": "StyleView",
            "description_width": ""
          }
        },
        "cd6ba2b812854a1d8bef3174ad508cd0": {
          "model_module": "@jupyter-widgets/base",
          "model_name": "LayoutModel",
          "model_module_version": "1.2.0",
          "state": {
            "_model_module": "@jupyter-widgets/base",
            "_model_module_version": "1.2.0",
            "_model_name": "LayoutModel",
            "_view_count": null,
            "_view_module": "@jupyter-widgets/base",
            "_view_module_version": "1.2.0",
            "_view_name": "LayoutView",
            "align_content": null,
            "align_items": null,
            "align_self": null,
            "border": null,
            "bottom": null,
            "display": null,
            "flex": null,
            "flex_flow": null,
            "grid_area": null,
            "grid_auto_columns": null,
            "grid_auto_flow": null,
            "grid_auto_rows": null,
            "grid_column": null,
            "grid_gap": null,
            "grid_row": null,
            "grid_template_areas": null,
            "grid_template_columns": null,
            "grid_template_rows": null,
            "height": null,
            "justify_content": null,
            "justify_items": null,
            "left": null,
            "margin": null,
            "max_height": null,
            "max_width": null,
            "min_height": null,
            "min_width": null,
            "object_fit": null,
            "object_position": null,
            "order": null,
            "overflow": null,
            "overflow_x": null,
            "overflow_y": null,
            "padding": null,
            "right": null,
            "top": null,
            "visibility": null,
            "width": null
          }
        },
        "de45038f3db043f7939362036fbb8343": {
          "model_module": "@jupyter-widgets/controls",
          "model_name": "ProgressStyleModel",
          "model_module_version": "1.5.0",
          "state": {
            "_model_module": "@jupyter-widgets/controls",
            "_model_module_version": "1.5.0",
            "_model_name": "ProgressStyleModel",
            "_view_count": null,
            "_view_module": "@jupyter-widgets/base",
            "_view_module_version": "1.2.0",
            "_view_name": "StyleView",
            "bar_color": null,
            "description_width": ""
          }
        },
        "db128d8e4bde424d8e6a464925ff7710": {
          "model_module": "@jupyter-widgets/base",
          "model_name": "LayoutModel",
          "model_module_version": "1.2.0",
          "state": {
            "_model_module": "@jupyter-widgets/base",
            "_model_module_version": "1.2.0",
            "_model_name": "LayoutModel",
            "_view_count": null,
            "_view_module": "@jupyter-widgets/base",
            "_view_module_version": "1.2.0",
            "_view_name": "LayoutView",
            "align_content": null,
            "align_items": null,
            "align_self": null,
            "border": null,
            "bottom": null,
            "display": null,
            "flex": null,
            "flex_flow": null,
            "grid_area": null,
            "grid_auto_columns": null,
            "grid_auto_flow": null,
            "grid_auto_rows": null,
            "grid_column": null,
            "grid_gap": null,
            "grid_row": null,
            "grid_template_areas": null,
            "grid_template_columns": null,
            "grid_template_rows": null,
            "height": null,
            "justify_content": null,
            "justify_items": null,
            "left": null,
            "margin": null,
            "max_height": null,
            "max_width": null,
            "min_height": null,
            "min_width": null,
            "object_fit": null,
            "object_position": null,
            "order": null,
            "overflow": null,
            "overflow_x": null,
            "overflow_y": null,
            "padding": null,
            "right": null,
            "top": null,
            "visibility": null,
            "width": null
          }
        },
        "16f02c73b65f44bba6ea71de25dfbc67": {
          "model_module": "@jupyter-widgets/controls",
          "model_name": "DescriptionStyleModel",
          "model_module_version": "1.5.0",
          "state": {
            "_model_module": "@jupyter-widgets/controls",
            "_model_module_version": "1.5.0",
            "_model_name": "DescriptionStyleModel",
            "_view_count": null,
            "_view_module": "@jupyter-widgets/base",
            "_view_module_version": "1.2.0",
            "_view_name": "StyleView",
            "description_width": ""
          }
        },
        "6345212d4fc6443a81605faf998fe400": {
          "model_module": "@jupyter-widgets/controls",
          "model_name": "HBoxModel",
          "model_module_version": "1.5.0",
          "state": {
            "_dom_classes": [],
            "_model_module": "@jupyter-widgets/controls",
            "_model_module_version": "1.5.0",
            "_model_name": "HBoxModel",
            "_view_count": null,
            "_view_module": "@jupyter-widgets/controls",
            "_view_module_version": "1.5.0",
            "_view_name": "HBoxView",
            "box_style": "",
            "children": [
              "IPY_MODEL_98af93976f614b5784ca57db18aca912",
              "IPY_MODEL_e297aaa4b2094ae78acce41cbd21e81b",
              "IPY_MODEL_92e810b27fc947faa059a04917db21ff"
            ],
            "layout": "IPY_MODEL_58536d8d8f0f405d91d88f5cf124593d"
          }
        },
        "98af93976f614b5784ca57db18aca912": {
          "model_module": "@jupyter-widgets/controls",
          "model_name": "HTMLModel",
          "model_module_version": "1.5.0",
          "state": {
            "_dom_classes": [],
            "_model_module": "@jupyter-widgets/controls",
            "_model_module_version": "1.5.0",
            "_model_name": "HTMLModel",
            "_view_count": null,
            "_view_module": "@jupyter-widgets/controls",
            "_view_module_version": "1.5.0",
            "_view_name": "HTMLView",
            "description": "",
            "description_tooltip": null,
            "layout": "IPY_MODEL_9a31a7dd0cfe44f49ecea4396102c69e",
            "placeholder": "​",
            "style": "IPY_MODEL_401fb93769a741a8b779467f4cbe57d6",
            "value": "Downloading (…)/main/tokenizer.json: 100%"
          }
        },
        "e297aaa4b2094ae78acce41cbd21e81b": {
          "model_module": "@jupyter-widgets/controls",
          "model_name": "FloatProgressModel",
          "model_module_version": "1.5.0",
          "state": {
            "_dom_classes": [],
            "_model_module": "@jupyter-widgets/controls",
            "_model_module_version": "1.5.0",
            "_model_name": "FloatProgressModel",
            "_view_count": null,
            "_view_module": "@jupyter-widgets/controls",
            "_view_module_version": "1.5.0",
            "_view_name": "ProgressView",
            "bar_style": "success",
            "description": "",
            "description_tooltip": null,
            "layout": "IPY_MODEL_3460dd2359cd4bff8d7c16b72565e310",
            "max": 1355863,
            "min": 0,
            "orientation": "horizontal",
            "style": "IPY_MODEL_3a175eeb24b344ba8e6f1d81406a936b",
            "value": 1355863
          }
        },
        "92e810b27fc947faa059a04917db21ff": {
          "model_module": "@jupyter-widgets/controls",
          "model_name": "HTMLModel",
          "model_module_version": "1.5.0",
          "state": {
            "_dom_classes": [],
            "_model_module": "@jupyter-widgets/controls",
            "_model_module_version": "1.5.0",
            "_model_name": "HTMLModel",
            "_view_count": null,
            "_view_module": "@jupyter-widgets/controls",
            "_view_module_version": "1.5.0",
            "_view_name": "HTMLView",
            "description": "",
            "description_tooltip": null,
            "layout": "IPY_MODEL_ad4aa2b089544922a38804b944955a52",
            "placeholder": "​",
            "style": "IPY_MODEL_a456582d3aa940869d2cf8ed9e882b92",
            "value": " 1.36M/1.36M [00:00&lt;00:00, 5.75MB/s]"
          }
        },
        "58536d8d8f0f405d91d88f5cf124593d": {
          "model_module": "@jupyter-widgets/base",
          "model_name": "LayoutModel",
          "model_module_version": "1.2.0",
          "state": {
            "_model_module": "@jupyter-widgets/base",
            "_model_module_version": "1.2.0",
            "_model_name": "LayoutModel",
            "_view_count": null,
            "_view_module": "@jupyter-widgets/base",
            "_view_module_version": "1.2.0",
            "_view_name": "LayoutView",
            "align_content": null,
            "align_items": null,
            "align_self": null,
            "border": null,
            "bottom": null,
            "display": null,
            "flex": null,
            "flex_flow": null,
            "grid_area": null,
            "grid_auto_columns": null,
            "grid_auto_flow": null,
            "grid_auto_rows": null,
            "grid_column": null,
            "grid_gap": null,
            "grid_row": null,
            "grid_template_areas": null,
            "grid_template_columns": null,
            "grid_template_rows": null,
            "height": null,
            "justify_content": null,
            "justify_items": null,
            "left": null,
            "margin": null,
            "max_height": null,
            "max_width": null,
            "min_height": null,
            "min_width": null,
            "object_fit": null,
            "object_position": null,
            "order": null,
            "overflow": null,
            "overflow_x": null,
            "overflow_y": null,
            "padding": null,
            "right": null,
            "top": null,
            "visibility": null,
            "width": null
          }
        },
        "9a31a7dd0cfe44f49ecea4396102c69e": {
          "model_module": "@jupyter-widgets/base",
          "model_name": "LayoutModel",
          "model_module_version": "1.2.0",
          "state": {
            "_model_module": "@jupyter-widgets/base",
            "_model_module_version": "1.2.0",
            "_model_name": "LayoutModel",
            "_view_count": null,
            "_view_module": "@jupyter-widgets/base",
            "_view_module_version": "1.2.0",
            "_view_name": "LayoutView",
            "align_content": null,
            "align_items": null,
            "align_self": null,
            "border": null,
            "bottom": null,
            "display": null,
            "flex": null,
            "flex_flow": null,
            "grid_area": null,
            "grid_auto_columns": null,
            "grid_auto_flow": null,
            "grid_auto_rows": null,
            "grid_column": null,
            "grid_gap": null,
            "grid_row": null,
            "grid_template_areas": null,
            "grid_template_columns": null,
            "grid_template_rows": null,
            "height": null,
            "justify_content": null,
            "justify_items": null,
            "left": null,
            "margin": null,
            "max_height": null,
            "max_width": null,
            "min_height": null,
            "min_width": null,
            "object_fit": null,
            "object_position": null,
            "order": null,
            "overflow": null,
            "overflow_x": null,
            "overflow_y": null,
            "padding": null,
            "right": null,
            "top": null,
            "visibility": null,
            "width": null
          }
        },
        "401fb93769a741a8b779467f4cbe57d6": {
          "model_module": "@jupyter-widgets/controls",
          "model_name": "DescriptionStyleModel",
          "model_module_version": "1.5.0",
          "state": {
            "_model_module": "@jupyter-widgets/controls",
            "_model_module_version": "1.5.0",
            "_model_name": "DescriptionStyleModel",
            "_view_count": null,
            "_view_module": "@jupyter-widgets/base",
            "_view_module_version": "1.2.0",
            "_view_name": "StyleView",
            "description_width": ""
          }
        },
        "3460dd2359cd4bff8d7c16b72565e310": {
          "model_module": "@jupyter-widgets/base",
          "model_name": "LayoutModel",
          "model_module_version": "1.2.0",
          "state": {
            "_model_module": "@jupyter-widgets/base",
            "_model_module_version": "1.2.0",
            "_model_name": "LayoutModel",
            "_view_count": null,
            "_view_module": "@jupyter-widgets/base",
            "_view_module_version": "1.2.0",
            "_view_name": "LayoutView",
            "align_content": null,
            "align_items": null,
            "align_self": null,
            "border": null,
            "bottom": null,
            "display": null,
            "flex": null,
            "flex_flow": null,
            "grid_area": null,
            "grid_auto_columns": null,
            "grid_auto_flow": null,
            "grid_auto_rows": null,
            "grid_column": null,
            "grid_gap": null,
            "grid_row": null,
            "grid_template_areas": null,
            "grid_template_columns": null,
            "grid_template_rows": null,
            "height": null,
            "justify_content": null,
            "justify_items": null,
            "left": null,
            "margin": null,
            "max_height": null,
            "max_width": null,
            "min_height": null,
            "min_width": null,
            "object_fit": null,
            "object_position": null,
            "order": null,
            "overflow": null,
            "overflow_x": null,
            "overflow_y": null,
            "padding": null,
            "right": null,
            "top": null,
            "visibility": null,
            "width": null
          }
        },
        "3a175eeb24b344ba8e6f1d81406a936b": {
          "model_module": "@jupyter-widgets/controls",
          "model_name": "ProgressStyleModel",
          "model_module_version": "1.5.0",
          "state": {
            "_model_module": "@jupyter-widgets/controls",
            "_model_module_version": "1.5.0",
            "_model_name": "ProgressStyleModel",
            "_view_count": null,
            "_view_module": "@jupyter-widgets/base",
            "_view_module_version": "1.2.0",
            "_view_name": "StyleView",
            "bar_color": null,
            "description_width": ""
          }
        },
        "ad4aa2b089544922a38804b944955a52": {
          "model_module": "@jupyter-widgets/base",
          "model_name": "LayoutModel",
          "model_module_version": "1.2.0",
          "state": {
            "_model_module": "@jupyter-widgets/base",
            "_model_module_version": "1.2.0",
            "_model_name": "LayoutModel",
            "_view_count": null,
            "_view_module": "@jupyter-widgets/base",
            "_view_module_version": "1.2.0",
            "_view_name": "LayoutView",
            "align_content": null,
            "align_items": null,
            "align_self": null,
            "border": null,
            "bottom": null,
            "display": null,
            "flex": null,
            "flex_flow": null,
            "grid_area": null,
            "grid_auto_columns": null,
            "grid_auto_flow": null,
            "grid_auto_rows": null,
            "grid_column": null,
            "grid_gap": null,
            "grid_row": null,
            "grid_template_areas": null,
            "grid_template_columns": null,
            "grid_template_rows": null,
            "height": null,
            "justify_content": null,
            "justify_items": null,
            "left": null,
            "margin": null,
            "max_height": null,
            "max_width": null,
            "min_height": null,
            "min_width": null,
            "object_fit": null,
            "object_position": null,
            "order": null,
            "overflow": null,
            "overflow_x": null,
            "overflow_y": null,
            "padding": null,
            "right": null,
            "top": null,
            "visibility": null,
            "width": null
          }
        },
        "a456582d3aa940869d2cf8ed9e882b92": {
          "model_module": "@jupyter-widgets/controls",
          "model_name": "DescriptionStyleModel",
          "model_module_version": "1.5.0",
          "state": {
            "_model_module": "@jupyter-widgets/controls",
            "_model_module_version": "1.5.0",
            "_model_name": "DescriptionStyleModel",
            "_view_count": null,
            "_view_module": "@jupyter-widgets/base",
            "_view_module_version": "1.2.0",
            "_view_name": "StyleView",
            "description_width": ""
          }
        },
        "c058e2692b784709921e01702b683a65": {
          "model_module": "@jupyter-widgets/controls",
          "model_name": "HBoxModel",
          "model_module_version": "1.5.0",
          "state": {
            "_dom_classes": [],
            "_model_module": "@jupyter-widgets/controls",
            "_model_module_version": "1.5.0",
            "_model_name": "HBoxModel",
            "_view_count": null,
            "_view_module": "@jupyter-widgets/controls",
            "_view_module_version": "1.5.0",
            "_view_name": "HBoxView",
            "box_style": "",
            "children": [
              "IPY_MODEL_a60fd8f95be441c2bdcccb45b143205e",
              "IPY_MODEL_9414eb41f2bd493d848cf1005c055068",
              "IPY_MODEL_b816ae49178242708fcb1f01bf846832"
            ],
            "layout": "IPY_MODEL_c5ae2e319ef84f67bbe67a490617534e"
          }
        },
        "a60fd8f95be441c2bdcccb45b143205e": {
          "model_module": "@jupyter-widgets/controls",
          "model_name": "HTMLModel",
          "model_module_version": "1.5.0",
          "state": {
            "_dom_classes": [],
            "_model_module": "@jupyter-widgets/controls",
            "_model_module_version": "1.5.0",
            "_model_name": "HTMLModel",
            "_view_count": null,
            "_view_module": "@jupyter-widgets/controls",
            "_view_module_version": "1.5.0",
            "_view_name": "HTMLView",
            "description": "",
            "description_tooltip": null,
            "layout": "IPY_MODEL_a5cec3a4986348e0928784cd987d01b5",
            "placeholder": "​",
            "style": "IPY_MODEL_630776e2ff2641519e3486fbd3a2e9b8",
            "value": "Downloading model.safetensors: 100%"
          }
        },
        "9414eb41f2bd493d848cf1005c055068": {
          "model_module": "@jupyter-widgets/controls",
          "model_name": "FloatProgressModel",
          "model_module_version": "1.5.0",
          "state": {
            "_dom_classes": [],
            "_model_module": "@jupyter-widgets/controls",
            "_model_module_version": "1.5.0",
            "_model_name": "FloatProgressModel",
            "_view_count": null,
            "_view_module": "@jupyter-widgets/controls",
            "_view_module_version": "1.5.0",
            "_view_name": "ProgressView",
            "bar_style": "success",
            "description": "",
            "description_tooltip": null,
            "layout": "IPY_MODEL_327fe74493bb4da3bc2fd4efabf0739e",
            "max": 331055963,
            "min": 0,
            "orientation": "horizontal",
            "style": "IPY_MODEL_4b3e5279ccff4f6fbd2169b89519c1c8",
            "value": 331055963
          }
        },
        "b816ae49178242708fcb1f01bf846832": {
          "model_module": "@jupyter-widgets/controls",
          "model_name": "HTMLModel",
          "model_module_version": "1.5.0",
          "state": {
            "_dom_classes": [],
            "_model_module": "@jupyter-widgets/controls",
            "_model_module_version": "1.5.0",
            "_model_name": "HTMLModel",
            "_view_count": null,
            "_view_module": "@jupyter-widgets/controls",
            "_view_module_version": "1.5.0",
            "_view_name": "HTMLView",
            "description": "",
            "description_tooltip": null,
            "layout": "IPY_MODEL_c8f5168d5d594e508315736f34e56f7e",
            "placeholder": "​",
            "style": "IPY_MODEL_d520fda50ace452c942e629e82adaf02",
            "value": " 331M/331M [00:01&lt;00:00, 251MB/s]"
          }
        },
        "c5ae2e319ef84f67bbe67a490617534e": {
          "model_module": "@jupyter-widgets/base",
          "model_name": "LayoutModel",
          "model_module_version": "1.2.0",
          "state": {
            "_model_module": "@jupyter-widgets/base",
            "_model_module_version": "1.2.0",
            "_model_name": "LayoutModel",
            "_view_count": null,
            "_view_module": "@jupyter-widgets/base",
            "_view_module_version": "1.2.0",
            "_view_name": "LayoutView",
            "align_content": null,
            "align_items": null,
            "align_self": null,
            "border": null,
            "bottom": null,
            "display": null,
            "flex": null,
            "flex_flow": null,
            "grid_area": null,
            "grid_auto_columns": null,
            "grid_auto_flow": null,
            "grid_auto_rows": null,
            "grid_column": null,
            "grid_gap": null,
            "grid_row": null,
            "grid_template_areas": null,
            "grid_template_columns": null,
            "grid_template_rows": null,
            "height": null,
            "justify_content": null,
            "justify_items": null,
            "left": null,
            "margin": null,
            "max_height": null,
            "max_width": null,
            "min_height": null,
            "min_width": null,
            "object_fit": null,
            "object_position": null,
            "order": null,
            "overflow": null,
            "overflow_x": null,
            "overflow_y": null,
            "padding": null,
            "right": null,
            "top": null,
            "visibility": null,
            "width": null
          }
        },
        "a5cec3a4986348e0928784cd987d01b5": {
          "model_module": "@jupyter-widgets/base",
          "model_name": "LayoutModel",
          "model_module_version": "1.2.0",
          "state": {
            "_model_module": "@jupyter-widgets/base",
            "_model_module_version": "1.2.0",
            "_model_name": "LayoutModel",
            "_view_count": null,
            "_view_module": "@jupyter-widgets/base",
            "_view_module_version": "1.2.0",
            "_view_name": "LayoutView",
            "align_content": null,
            "align_items": null,
            "align_self": null,
            "border": null,
            "bottom": null,
            "display": null,
            "flex": null,
            "flex_flow": null,
            "grid_area": null,
            "grid_auto_columns": null,
            "grid_auto_flow": null,
            "grid_auto_rows": null,
            "grid_column": null,
            "grid_gap": null,
            "grid_row": null,
            "grid_template_areas": null,
            "grid_template_columns": null,
            "grid_template_rows": null,
            "height": null,
            "justify_content": null,
            "justify_items": null,
            "left": null,
            "margin": null,
            "max_height": null,
            "max_width": null,
            "min_height": null,
            "min_width": null,
            "object_fit": null,
            "object_position": null,
            "order": null,
            "overflow": null,
            "overflow_x": null,
            "overflow_y": null,
            "padding": null,
            "right": null,
            "top": null,
            "visibility": null,
            "width": null
          }
        },
        "630776e2ff2641519e3486fbd3a2e9b8": {
          "model_module": "@jupyter-widgets/controls",
          "model_name": "DescriptionStyleModel",
          "model_module_version": "1.5.0",
          "state": {
            "_model_module": "@jupyter-widgets/controls",
            "_model_module_version": "1.5.0",
            "_model_name": "DescriptionStyleModel",
            "_view_count": null,
            "_view_module": "@jupyter-widgets/base",
            "_view_module_version": "1.2.0",
            "_view_name": "StyleView",
            "description_width": ""
          }
        },
        "327fe74493bb4da3bc2fd4efabf0739e": {
          "model_module": "@jupyter-widgets/base",
          "model_name": "LayoutModel",
          "model_module_version": "1.2.0",
          "state": {
            "_model_module": "@jupyter-widgets/base",
            "_model_module_version": "1.2.0",
            "_model_name": "LayoutModel",
            "_view_count": null,
            "_view_module": "@jupyter-widgets/base",
            "_view_module_version": "1.2.0",
            "_view_name": "LayoutView",
            "align_content": null,
            "align_items": null,
            "align_self": null,
            "border": null,
            "bottom": null,
            "display": null,
            "flex": null,
            "flex_flow": null,
            "grid_area": null,
            "grid_auto_columns": null,
            "grid_auto_flow": null,
            "grid_auto_rows": null,
            "grid_column": null,
            "grid_gap": null,
            "grid_row": null,
            "grid_template_areas": null,
            "grid_template_columns": null,
            "grid_template_rows": null,
            "height": null,
            "justify_content": null,
            "justify_items": null,
            "left": null,
            "margin": null,
            "max_height": null,
            "max_width": null,
            "min_height": null,
            "min_width": null,
            "object_fit": null,
            "object_position": null,
            "order": null,
            "overflow": null,
            "overflow_x": null,
            "overflow_y": null,
            "padding": null,
            "right": null,
            "top": null,
            "visibility": null,
            "width": null
          }
        },
        "4b3e5279ccff4f6fbd2169b89519c1c8": {
          "model_module": "@jupyter-widgets/controls",
          "model_name": "ProgressStyleModel",
          "model_module_version": "1.5.0",
          "state": {
            "_model_module": "@jupyter-widgets/controls",
            "_model_module_version": "1.5.0",
            "_model_name": "ProgressStyleModel",
            "_view_count": null,
            "_view_module": "@jupyter-widgets/base",
            "_view_module_version": "1.2.0",
            "_view_name": "StyleView",
            "bar_color": null,
            "description_width": ""
          }
        },
        "c8f5168d5d594e508315736f34e56f7e": {
          "model_module": "@jupyter-widgets/base",
          "model_name": "LayoutModel",
          "model_module_version": "1.2.0",
          "state": {
            "_model_module": "@jupyter-widgets/base",
            "_model_module_version": "1.2.0",
            "_model_name": "LayoutModel",
            "_view_count": null,
            "_view_module": "@jupyter-widgets/base",
            "_view_module_version": "1.2.0",
            "_view_name": "LayoutView",
            "align_content": null,
            "align_items": null,
            "align_self": null,
            "border": null,
            "bottom": null,
            "display": null,
            "flex": null,
            "flex_flow": null,
            "grid_area": null,
            "grid_auto_columns": null,
            "grid_auto_flow": null,
            "grid_auto_rows": null,
            "grid_column": null,
            "grid_gap": null,
            "grid_row": null,
            "grid_template_areas": null,
            "grid_template_columns": null,
            "grid_template_rows": null,
            "height": null,
            "justify_content": null,
            "justify_items": null,
            "left": null,
            "margin": null,
            "max_height": null,
            "max_width": null,
            "min_height": null,
            "min_width": null,
            "object_fit": null,
            "object_position": null,
            "order": null,
            "overflow": null,
            "overflow_x": null,
            "overflow_y": null,
            "padding": null,
            "right": null,
            "top": null,
            "visibility": null,
            "width": null
          }
        },
        "d520fda50ace452c942e629e82adaf02": {
          "model_module": "@jupyter-widgets/controls",
          "model_name": "DescriptionStyleModel",
          "model_module_version": "1.5.0",
          "state": {
            "_model_module": "@jupyter-widgets/controls",
            "_model_module_version": "1.5.0",
            "_model_name": "DescriptionStyleModel",
            "_view_count": null,
            "_view_module": "@jupyter-widgets/base",
            "_view_module_version": "1.2.0",
            "_view_name": "StyleView",
            "description_width": ""
          }
        }
      }
    }
  },
  "cells": [
    {
      "cell_type": "markdown",
      "source": [
        "## Setting up and importing"
      ],
      "metadata": {
        "id": "-rfLBqAYzXFH"
      }
    },
    {
      "cell_type": "code",
      "execution_count": null,
      "metadata": {
        "id": "RLpeLS3dDKwi"
      },
      "outputs": [],
      "source": [
        "%reload_ext autoreload\n",
        "%autoreload 2\n",
        "%matplotlib inline"
      ]
    },
    {
      "cell_type": "code",
      "source": [
        "from google.colab import drive\n",
        "drive.mount('/content/drive')"
      ],
      "metadata": {
        "colab": {
          "base_uri": "https://localhost:8080/"
        },
        "id": "zLD4aQgZTbjC",
        "outputId": "d6cd235d-e802-41ce-9344-468ff9f053f3"
      },
      "execution_count": null,
      "outputs": [
        {
          "output_type": "stream",
          "name": "stdout",
          "text": [
            "Mounted at /content/drive\n"
          ]
        }
      ]
    },
    {
      "cell_type": "code",
      "source": [
        "!pip install -Uqq torch"
      ],
      "metadata": {
        "id": "J5ZcYEqG5Tif"
      },
      "execution_count": null,
      "outputs": []
    },
    {
      "cell_type": "code",
      "source": [
        "!pip install -Uqq transformers[sentencepiece] transformers[torch] datasets evaluate ohmeow-blurr nbdev"
      ],
      "metadata": {
        "id": "9aWDcBKTTFvG"
      },
      "execution_count": null,
      "outputs": []
    },
    {
      "cell_type": "code",
      "source": [
        "import pandas as pd\n",
        "import os\n",
        "import json"
      ],
      "metadata": {
        "id": "gAfoucsCTIm_"
      },
      "execution_count": null,
      "outputs": []
    },
    {
      "cell_type": "code",
      "source": [
        "import torch\n",
        "import transformers\n",
        "from transformers import AutoModelForSequenceClassification, AutoConfig\n",
        "from fastai.text.all import *\n",
        "from blurr.text.data.all import *\n",
        "from blurr.text.modeling.all import *"
      ],
      "metadata": {
        "id": "TE6vBdi0TRjz"
      },
      "execution_count": null,
      "outputs": []
    },
    {
      "cell_type": "code",
      "source": [
        "%cd /content/drive/MyDrive/datasets/NLP/"
      ],
      "metadata": {
        "colab": {
          "base_uri": "https://localhost:8080/"
        },
        "id": "m8g2d9r7TKw9",
        "outputId": "742f6260-af3c-4a0d-e3f3-078361f71f5e"
      },
      "execution_count": null,
      "outputs": [
        {
          "output_type": "stream",
          "name": "stdout",
          "text": [
            "/content/drive/MyDrive/datasets/NLP\n"
          ]
        }
      ]
    },
    {
      "cell_type": "code",
      "source": [
        "!ls"
      ],
      "metadata": {
        "colab": {
          "base_uri": "https://localhost:8080/"
        },
        "id": "DUQtw-k6TM1t",
        "outputId": "8de33107-51f5-4fd5-ca39-f677071450e6"
      },
      "execution_count": null,
      "outputs": [
        {
          "output_type": "stream",
          "name": "stdout",
          "text": [
            "dataloaders\t\t\t    papersWithCode_data_singleLabel.csv\n",
            "models\t\t\t\t    papersWithCode_processed.csv\n",
            "papersWithCode_data.csv\t\t    task_types_encoded.json\n",
            "papersWithCode_data_multiLabel.csv\n"
          ]
        }
      ]
    },
    {
      "cell_type": "code",
      "source": [
        "df = pd.read_csv(\"papersWithCode_data_singleLabel.csv\")"
      ],
      "metadata": {
        "id": "2mNhB1-yTOHo"
      },
      "execution_count": null,
      "outputs": []
    },
    {
      "cell_type": "code",
      "source": [
        "df.info()"
      ],
      "metadata": {
        "colab": {
          "base_uri": "https://localhost:8080/"
        },
        "id": "wPYontitTXu5",
        "outputId": "f428fbe3-083b-4612-df3d-5a8787c3a38e"
      },
      "execution_count": null,
      "outputs": [
        {
          "output_type": "stream",
          "name": "stdout",
          "text": [
            "<class 'pandas.core.frame.DataFrame'>\n",
            "RangeIndex: 17861 entries, 0 to 17860\n",
            "Data columns (total 6 columns):\n",
            " #   Column         Non-Null Count  Dtype \n",
            "---  ------         --------------  ----- \n",
            " 0   title          17861 non-null  object\n",
            " 1   abstract       17861 non-null  object\n",
            " 2   datasets_used  17861 non-null  object\n",
            " 3   methods        17861 non-null  object\n",
            " 4   tasks          17861 non-null  object\n",
            " 5   task           17861 non-null  object\n",
            "dtypes: object(6)\n",
            "memory usage: 837.4+ KB\n"
          ]
        }
      ]
    },
    {
      "cell_type": "code",
      "source": [
        "df.head()"
      ],
      "metadata": {
        "colab": {
          "base_uri": "https://localhost:8080/",
          "height": 1000
        },
        "id": "1MLxvaRaWLhd",
        "outputId": "e6200024-b3f8-4284-8b5b-184e4d1fd45e"
      },
      "execution_count": null,
      "outputs": [
        {
          "output_type": "execute_result",
          "data": {
            "text/plain": [
              "                                                                                                                                                     title  \\\n",
              "0                                                           A Lumen Segmentation Method in Ureteroscopy Images based on a Deep Residual U-Net architecture   \n",
              "1  Classification without (Proper) Representation: Political Heterogeneity in Social Media and Its Implications for Classification and Behavioral Analysis   \n",
              "2                                                   Multi-cropping Contrastive Learning and Domain Consistency for Unsupervised Image-to-Image Translation   \n",
              "3                                                                       Pretrained Language Model based Web Search Ranking: From Relevance to Satisfaction   \n",
              "4                                                                       A Deep Learning Approach for Determining Effects of Tuta Absoluta in Tomato Plants   \n",
              "\n",
              "                                                                                                                                                                                                                                                                                                                                                                                                                                                                                                                                                                                                                  abstract  \\\n",
              "0  Ureteroscopy is becoming the first surgical treatment option for the majority of urinary affections. This procedure is performed using an endoscope which provides the surgeon with the visual information necessary to navigate inside the urinary tract. Having in mind the development of surgical assistance systems, that could enhance the performance of surgeon, the task of lumen segmentation is a fundamental part since this is the visual reference which marks the path that the endoscope should follow. This is something that has not been analyzed in ureteroscopy data before. However, this task...   \n",
              "1  Reddit is home to a broad spectrum of political activity, and users signal their political affiliations in multiple ways—from self-declarations to community participation. Frequently, computational studies have treated political users as a single bloc, both in developing models to infer political leaning and in studying political behavior. Here, we test this assumption of political users and show that commonly-used political-inference models do not generalize, indicating heterogeneous types of political users. The models remain imprecise at best for most users, regardless of which sources ...   \n",
              "2  Recently, unsupervised image-to-image translation methods based on contrastive learning have achieved state-of-the-art results in many tasks. However, in the previous works, the negatives are sampled from the input image itself, which inspires us to design a data augmentation method to improve the quality of the selected negatives. Moreover, the previous methods only preserve the content consistency via patch-wise contrastive learning in the embedding space, which ignores the domain consistency between the generated images and the real images of the target domain. In this paper, we propose...   \n",
              "3  Search engine plays a crucial role in satisfying users' diverse information needs. Recently, Pretrained Language Models (PLMs) based text ranking models have achieved huge success in web search. However, many state-of-the-art text ranking approaches only focus on core relevance while ignoring other dimensions that contribute to user satisfaction, e.g., document quality, recency, authority, etc. In this work, we focus on ranking user satisfaction rather than relevance in web search, and propose a PLM-based framework, namely SAT-Ranker, which comprehensively models different dimensions of us...   \n",
              "4  Early quantification of Tuta absoluta pest's effects in tomato plants is a very important factor in controlling and preventing serious damages of the pest. The invasion of Tuta absoluta is considered a major threat to tomato production causing heavy loss ranging from 80 to 100 percent when not properly managed. Therefore, real-time and early quantification of tomato leaf miner Tuta absoluta, can play an important role in addressing the issue of pest management and enhance farmers' decisions. In this study, we propose a Convolutional Neural Network (CNN) approach in determining the effects ...   \n",
              "\n",
              "      datasets_used  \\\n",
              "0  ['Add Datasets']   \n",
              "1  ['Add Datasets']   \n",
              "2  ['Add Datasets']   \n",
              "3  ['Add Datasets']   \n",
              "4  ['PlantVillage']   \n",
              "\n",
              "                                                                                                                                                                                                                                                                                                                                                                        methods  \\\n",
              "0                                                                                                                                                                                                                                                                                               ['Concatenated Skip Connection', 'Convolution', 'Max Pooling', 'ReLU', 'U-Net']   \n",
              "1                                                                                         ['Absolute Position Encodings', 'Adam', 'BPE', 'Dense Connections', 'Dropout', 'Label Smoothing', 'Layer Normalization', 'Linear Layer', 'Multi-Head Attention', 'Position-Wise Feed-Forward Layer', 'Residual Connection', 'Scaled Dot-Product Attention', 'Softmax', 'Transformer']   \n",
              "2                                                                                             ['Average Pooling', 'Channel attention', 'Contrastive Learning', 'Convolution', 'Coordinate attention', 'Dense Connections', 'Global Average Pooling', 'Kaiming Initialization', 'Max Pooling', 'ReLU', 'SENet', 'Sigmoid Activation', 'Softmax', 'Squeeze-and-Excitation Block']   \n",
              "3                                                                                                                                                                                                                                                                                                                                                                     ['Focus']   \n",
              "4  ['1x1 Convolution', 'Adam', 'Auxiliary Classifier', 'Average Pooling', 'Batch Normalization', 'Bottleneck Residual Block', 'Convolution', 'Dense Connections', 'Dropout', 'Global Average Pooling', 'Inception-v3', 'Inception-v3 Module', 'Kaiming Initialization', 'Label Smoothing', 'Max Pooling', 'ReLU', 'Residual Block', 'Residual Connection', 'ResNet', 'Softmax']   \n",
              "\n",
              "                                                                                                                                   tasks  \\\n",
              "0                                                                                                                           ['Navigate']   \n",
              "1                                                                                                                     ['Classification']   \n",
              "2  ['Contrastive Learning', 'Data Augmentation', 'Image-to-Image Translation', 'Translation', 'Unsupervised Image-To-Image Translation']   \n",
              "3                                                                                                                 ['Language Modelling']   \n",
              "4                                                                                                                         ['Management']   \n",
              "\n",
              "                   task  \n",
              "0              Navigate  \n",
              "1        Classification  \n",
              "2  Contrastive Learning  \n",
              "3    Language Modelling  \n",
              "4            Management  "
            ],
            "text/html": [
              "\n",
              "  <div id=\"df-09bc475e-8ed4-496a-a445-25f64c82c16b\" class=\"colab-df-container\">\n",
              "    <div>\n",
              "<style scoped>\n",
              "    .dataframe tbody tr th:only-of-type {\n",
              "        vertical-align: middle;\n",
              "    }\n",
              "\n",
              "    .dataframe tbody tr th {\n",
              "        vertical-align: top;\n",
              "    }\n",
              "\n",
              "    .dataframe thead th {\n",
              "        text-align: right;\n",
              "    }\n",
              "</style>\n",
              "<table border=\"1\" class=\"dataframe\">\n",
              "  <thead>\n",
              "    <tr style=\"text-align: right;\">\n",
              "      <th></th>\n",
              "      <th>title</th>\n",
              "      <th>abstract</th>\n",
              "      <th>datasets_used</th>\n",
              "      <th>methods</th>\n",
              "      <th>tasks</th>\n",
              "      <th>task</th>\n",
              "    </tr>\n",
              "  </thead>\n",
              "  <tbody>\n",
              "    <tr>\n",
              "      <th>0</th>\n",
              "      <td>A Lumen Segmentation Method in Ureteroscopy Images based on a Deep Residual U-Net architecture</td>\n",
              "      <td>Ureteroscopy is becoming the first surgical treatment option for the majority of urinary affections. This procedure is performed using an endoscope which provides the surgeon with the visual information necessary to navigate inside the urinary tract. Having in mind the development of surgical assistance systems, that could enhance the performance of surgeon, the task of lumen segmentation is a fundamental part since this is the visual reference which marks the path that the endoscope should follow. This is something that has not been analyzed in ureteroscopy data before. However, this task...</td>\n",
              "      <td>['Add Datasets']</td>\n",
              "      <td>['Concatenated Skip Connection', 'Convolution', 'Max Pooling', 'ReLU', 'U-Net']</td>\n",
              "      <td>['Navigate']</td>\n",
              "      <td>Navigate</td>\n",
              "    </tr>\n",
              "    <tr>\n",
              "      <th>1</th>\n",
              "      <td>Classification without (Proper) Representation: Political Heterogeneity in Social Media and Its Implications for Classification and Behavioral Analysis</td>\n",
              "      <td>Reddit is home to a broad spectrum of political activity, and users signal their political affiliations in multiple ways—from self-declarations to community participation. Frequently, computational studies have treated political users as a single bloc, both in developing models to infer political leaning and in studying political behavior. Here, we test this assumption of political users and show that commonly-used political-inference models do not generalize, indicating heterogeneous types of political users. The models remain imprecise at best for most users, regardless of which sources ...</td>\n",
              "      <td>['Add Datasets']</td>\n",
              "      <td>['Absolute Position Encodings', 'Adam', 'BPE', 'Dense Connections', 'Dropout', 'Label Smoothing', 'Layer Normalization', 'Linear Layer', 'Multi-Head Attention', 'Position-Wise Feed-Forward Layer', 'Residual Connection', 'Scaled Dot-Product Attention', 'Softmax', 'Transformer']</td>\n",
              "      <td>['Classification']</td>\n",
              "      <td>Classification</td>\n",
              "    </tr>\n",
              "    <tr>\n",
              "      <th>2</th>\n",
              "      <td>Multi-cropping Contrastive Learning and Domain Consistency for Unsupervised Image-to-Image Translation</td>\n",
              "      <td>Recently, unsupervised image-to-image translation methods based on contrastive learning have achieved state-of-the-art results in many tasks. However, in the previous works, the negatives are sampled from the input image itself, which inspires us to design a data augmentation method to improve the quality of the selected negatives. Moreover, the previous methods only preserve the content consistency via patch-wise contrastive learning in the embedding space, which ignores the domain consistency between the generated images and the real images of the target domain. In this paper, we propose...</td>\n",
              "      <td>['Add Datasets']</td>\n",
              "      <td>['Average Pooling', 'Channel attention', 'Contrastive Learning', 'Convolution', 'Coordinate attention', 'Dense Connections', 'Global Average Pooling', 'Kaiming Initialization', 'Max Pooling', 'ReLU', 'SENet', 'Sigmoid Activation', 'Softmax', 'Squeeze-and-Excitation Block']</td>\n",
              "      <td>['Contrastive Learning', 'Data Augmentation', 'Image-to-Image Translation', 'Translation', 'Unsupervised Image-To-Image Translation']</td>\n",
              "      <td>Contrastive Learning</td>\n",
              "    </tr>\n",
              "    <tr>\n",
              "      <th>3</th>\n",
              "      <td>Pretrained Language Model based Web Search Ranking: From Relevance to Satisfaction</td>\n",
              "      <td>Search engine plays a crucial role in satisfying users' diverse information needs. Recently, Pretrained Language Models (PLMs) based text ranking models have achieved huge success in web search. However, many state-of-the-art text ranking approaches only focus on core relevance while ignoring other dimensions that contribute to user satisfaction, e.g., document quality, recency, authority, etc. In this work, we focus on ranking user satisfaction rather than relevance in web search, and propose a PLM-based framework, namely SAT-Ranker, which comprehensively models different dimensions of us...</td>\n",
              "      <td>['Add Datasets']</td>\n",
              "      <td>['Focus']</td>\n",
              "      <td>['Language Modelling']</td>\n",
              "      <td>Language Modelling</td>\n",
              "    </tr>\n",
              "    <tr>\n",
              "      <th>4</th>\n",
              "      <td>A Deep Learning Approach for Determining Effects of Tuta Absoluta in Tomato Plants</td>\n",
              "      <td>Early quantification of Tuta absoluta pest's effects in tomato plants is a very important factor in controlling and preventing serious damages of the pest. The invasion of Tuta absoluta is considered a major threat to tomato production causing heavy loss ranging from 80 to 100 percent when not properly managed. Therefore, real-time and early quantification of tomato leaf miner Tuta absoluta, can play an important role in addressing the issue of pest management and enhance farmers' decisions. In this study, we propose a Convolutional Neural Network (CNN) approach in determining the effects ...</td>\n",
              "      <td>['PlantVillage']</td>\n",
              "      <td>['1x1 Convolution', 'Adam', 'Auxiliary Classifier', 'Average Pooling', 'Batch Normalization', 'Bottleneck Residual Block', 'Convolution', 'Dense Connections', 'Dropout', 'Global Average Pooling', 'Inception-v3', 'Inception-v3 Module', 'Kaiming Initialization', 'Label Smoothing', 'Max Pooling', 'ReLU', 'Residual Block', 'Residual Connection', 'ResNet', 'Softmax']</td>\n",
              "      <td>['Management']</td>\n",
              "      <td>Management</td>\n",
              "    </tr>\n",
              "  </tbody>\n",
              "</table>\n",
              "</div>\n",
              "    <div class=\"colab-df-buttons\">\n",
              "\n",
              "  <div class=\"colab-df-container\">\n",
              "    <button class=\"colab-df-convert\" onclick=\"convertToInteractive('df-09bc475e-8ed4-496a-a445-25f64c82c16b')\"\n",
              "            title=\"Convert this dataframe to an interactive table.\"\n",
              "            style=\"display:none;\">\n",
              "\n",
              "  <svg xmlns=\"http://www.w3.org/2000/svg\" height=\"24px\" viewBox=\"0 -960 960 960\">\n",
              "    <path d=\"M120-120v-720h720v720H120Zm60-500h600v-160H180v160Zm220 220h160v-160H400v160Zm0 220h160v-160H400v160ZM180-400h160v-160H180v160Zm440 0h160v-160H620v160ZM180-180h160v-160H180v160Zm440 0h160v-160H620v160Z\"/>\n",
              "  </svg>\n",
              "    </button>\n",
              "\n",
              "  <style>\n",
              "    .colab-df-container {\n",
              "      display:flex;\n",
              "      gap: 12px;\n",
              "    }\n",
              "\n",
              "    .colab-df-convert {\n",
              "      background-color: #E8F0FE;\n",
              "      border: none;\n",
              "      border-radius: 50%;\n",
              "      cursor: pointer;\n",
              "      display: none;\n",
              "      fill: #1967D2;\n",
              "      height: 32px;\n",
              "      padding: 0 0 0 0;\n",
              "      width: 32px;\n",
              "    }\n",
              "\n",
              "    .colab-df-convert:hover {\n",
              "      background-color: #E2EBFA;\n",
              "      box-shadow: 0px 1px 2px rgba(60, 64, 67, 0.3), 0px 1px 3px 1px rgba(60, 64, 67, 0.15);\n",
              "      fill: #174EA6;\n",
              "    }\n",
              "\n",
              "    .colab-df-buttons div {\n",
              "      margin-bottom: 4px;\n",
              "    }\n",
              "\n",
              "    [theme=dark] .colab-df-convert {\n",
              "      background-color: #3B4455;\n",
              "      fill: #D2E3FC;\n",
              "    }\n",
              "\n",
              "    [theme=dark] .colab-df-convert:hover {\n",
              "      background-color: #434B5C;\n",
              "      box-shadow: 0px 1px 3px 1px rgba(0, 0, 0, 0.15);\n",
              "      filter: drop-shadow(0px 1px 2px rgba(0, 0, 0, 0.3));\n",
              "      fill: #FFFFFF;\n",
              "    }\n",
              "  </style>\n",
              "\n",
              "    <script>\n",
              "      const buttonEl =\n",
              "        document.querySelector('#df-09bc475e-8ed4-496a-a445-25f64c82c16b button.colab-df-convert');\n",
              "      buttonEl.style.display =\n",
              "        google.colab.kernel.accessAllowed ? 'block' : 'none';\n",
              "\n",
              "      async function convertToInteractive(key) {\n",
              "        const element = document.querySelector('#df-09bc475e-8ed4-496a-a445-25f64c82c16b');\n",
              "        const dataTable =\n",
              "          await google.colab.kernel.invokeFunction('convertToInteractive',\n",
              "                                                    [key], {});\n",
              "        if (!dataTable) return;\n",
              "\n",
              "        const docLinkHtml = 'Like what you see? Visit the ' +\n",
              "          '<a target=\"_blank\" href=https://colab.research.google.com/notebooks/data_table.ipynb>data table notebook</a>'\n",
              "          + ' to learn more about interactive tables.';\n",
              "        element.innerHTML = '';\n",
              "        dataTable['output_type'] = 'display_data';\n",
              "        await google.colab.output.renderOutput(dataTable, element);\n",
              "        const docLink = document.createElement('div');\n",
              "        docLink.innerHTML = docLinkHtml;\n",
              "        element.appendChild(docLink);\n",
              "      }\n",
              "    </script>\n",
              "  </div>\n",
              "\n",
              "\n",
              "<div id=\"df-f9b9c9f3-1142-4073-a293-f588cb0a6d25\">\n",
              "  <button class=\"colab-df-quickchart\" onclick=\"quickchart('df-f9b9c9f3-1142-4073-a293-f588cb0a6d25')\"\n",
              "            title=\"Suggest charts.\"\n",
              "            style=\"display:none;\">\n",
              "\n",
              "<svg xmlns=\"http://www.w3.org/2000/svg\" height=\"24px\"viewBox=\"0 0 24 24\"\n",
              "     width=\"24px\">\n",
              "    <g>\n",
              "        <path d=\"M19 3H5c-1.1 0-2 .9-2 2v14c0 1.1.9 2 2 2h14c1.1 0 2-.9 2-2V5c0-1.1-.9-2-2-2zM9 17H7v-7h2v7zm4 0h-2V7h2v10zm4 0h-2v-4h2v4z\"/>\n",
              "    </g>\n",
              "</svg>\n",
              "  </button>\n",
              "\n",
              "<style>\n",
              "  .colab-df-quickchart {\n",
              "    background-color: #E8F0FE;\n",
              "    border: none;\n",
              "    border-radius: 50%;\n",
              "    cursor: pointer;\n",
              "    display: none;\n",
              "    fill: #1967D2;\n",
              "    height: 32px;\n",
              "    padding: 0 0 0 0;\n",
              "    width: 32px;\n",
              "  }\n",
              "\n",
              "  .colab-df-quickchart:hover {\n",
              "    background-color: #E2EBFA;\n",
              "    box-shadow: 0px 1px 2px rgba(60, 64, 67, 0.3), 0px 1px 3px 1px rgba(60, 64, 67, 0.15);\n",
              "    fill: #174EA6;\n",
              "  }\n",
              "\n",
              "  [theme=dark] .colab-df-quickchart {\n",
              "    background-color: #3B4455;\n",
              "    fill: #D2E3FC;\n",
              "  }\n",
              "\n",
              "  [theme=dark] .colab-df-quickchart:hover {\n",
              "    background-color: #434B5C;\n",
              "    box-shadow: 0px 1px 3px 1px rgba(0, 0, 0, 0.15);\n",
              "    filter: drop-shadow(0px 1px 2px rgba(0, 0, 0, 0.3));\n",
              "    fill: #FFFFFF;\n",
              "  }\n",
              "</style>\n",
              "\n",
              "  <script>\n",
              "    async function quickchart(key) {\n",
              "      const charts = await google.colab.kernel.invokeFunction(\n",
              "          'suggestCharts', [key], {});\n",
              "    }\n",
              "    (() => {\n",
              "      let quickchartButtonEl =\n",
              "        document.querySelector('#df-f9b9c9f3-1142-4073-a293-f588cb0a6d25 button');\n",
              "      quickchartButtonEl.style.display =\n",
              "        google.colab.kernel.accessAllowed ? 'block' : 'none';\n",
              "    })();\n",
              "  </script>\n",
              "</div>\n",
              "    </div>\n",
              "  </div>\n"
            ]
          },
          "metadata": {},
          "execution_count": 15
        }
      ]
    },
    {
      "cell_type": "code",
      "source": [
        "# df"
      ],
      "metadata": {
        "id": "xhGOqYj0syyR"
      },
      "execution_count": null,
      "outputs": []
    },
    {
      "cell_type": "code",
      "source": [
        "tasks_list = df['tasks'].to_list()\n",
        "task_count = {}\n",
        "\n",
        "for tasks in tasks_list:\n",
        "    task_list = eval(tasks)\n",
        "    for task in task_list:\n",
        "        if task in task_count.keys():\n",
        "            task_count[task] += 1\n",
        "        else:\n",
        "            task_count[task] = 1\n",
        "print(f\"Number of Tasks: {len(task_count)}\")\n",
        "print(task_count)"
      ],
      "metadata": {
        "colab": {
          "base_uri": "https://localhost:8080/"
        },
        "id": "ZCKYIxQUWQb8",
        "outputId": "22a863f7-c58e-4e0a-9408-e2b947be8496"
      },
      "execution_count": null,
      "outputs": [
        {
          "output_type": "stream",
          "name": "stdout",
          "text": [
            "Number of Tasks: 2186\n",
            "{'Navigate': 45, 'Classification': 708, 'Contrastive Learning': 277, 'Data Augmentation': 543, 'Image-to-Image Translation': 145, 'Translation': 879, 'Unsupervised Image-To-Image Translation': 18, 'Language Modelling': 1333, 'Management': 219, 'Adversarial Robustness': 42, 'Knowledge Distillation': 244, 'Model Compression': 142, 'General Classification': 928, 'object-detection': 967, 'Object Detection': 1068, 'Human Mesh Recovery': 2, 'Question Answering': 572, 'Visual Question Answering': 81, 'Visual Question Answering (VQA)': 114, 'Domain Adaptation': 233, 'Image Generation': 421, 'Unsupervised Domain Adaptation': 54, 'Exposure Fairness': 1, 'Fairness': 66, 'Recommendation Systems': 119, 'Retrieval': 573, 'Tumor Segmentation': 78, 'Quantization': 277, 'Clone Detection': 13, 'Code Search': 14, 'Image Classification': 945, 'Clustering': 327, 'Partial Domain Adaptation': 2, 'Transfer Learning': 752, 'Denoising': 407, 'Natural Language Understanding': 227, 'Fine-Grained Image Classification': 29, 'Machine Translation': 627, 'NMT': 138, 'Medical Diagnosis': 27, 'Time Series Analysis': 493, 'Time Series Classification': 54, 'Representation Learning': 663, 'severity prediction': 4, 'Data Visualization': 14, 'Multi-Label Image Classification': 8, 'Multi-Task Learning': 189, 'Semantic Parsing': 94, 'Style Transfer': 129, 'Action Detection': 36, 'Action Recognition': 204, 'Region Proposal': 49, 'Skeleton Based Action Recognition': 41, 'Decision Making': 256, 'Event Detection': 35, 'Leadership Inference': 3, 'Disentanglement': 139, 'Voice Conversion': 47, 'Machine Reading Comprehension': 59, 'Reading Comprehension': 118, 'Speaker Verification': 39, 'Inductive Bias': 133, 'Scheduling': 68, 'Human-Object Interaction Detection': 7, 'Semantic Segmentation': 1168, '3D Object Classification': 5, 'Novel Concepts': 6, 'Object Recognition': 109, 'Domain Generalization': 56, 'Video Understanding': 48, 'Multi-agent Reinforcement Learning': 61, 'Abstractive Text Summarization': 104, 'Generative Question Answering': 5, 'Question Generation': 40, 'Question-Generation': 36, 'Re-Ranking': 47, 'text similarity': 14, 'Image Segmentation': 380, 'Medical Image Segmentation': 188, 'regression': 205, 'Vocal Bursts Intensity Prediction': 135, 'Scene Labeling': 2, 'Zero-Shot Learning': 79, 'Graph Embedding': 55, 'Knowledge Graph Embedding': 9, 'speech-recognition': 359, 'Speech Recognition': 376, 'Node Classification': 81, 'Automatic Speech Recognition': 195, 'Automatic Speech Recognition (ASR)': 191, 'Federated Learning': 74, 'text annotation': 6, 'Text Spotting': 13, 'Activity Recognition': 61, 'Relation Extraction': 132, 'Temporal Relation Extraction': 8, 'Fish Detection': 2, 'Electroencephalogram (EEG)': 55, 'Multivariate Time Series Forecasting': 17, 'Probabilistic Time Series Forecasting': 3, 'Time Series Forecasting': 89, 'Text Summarization': 113, 'Traffic Sign Detection': 8, 'Traffic Sign Recognition': 9, 'Conditional Image Generation': 46, 'Semantic correspondence': 6, 'Semantic Similarity': 84, 'Semantic Textual Similarity': 128, 'Sentence Embeddings': 75, 'Sentiment Analysis': 400, 'Depth Estimation': 84, 'Monocular Depth Estimation': 30, 'Self-Supervised Learning': 271, 'BIG-bench Machine Learning': 222, 'Extractive Summarization': 19, 'Extractive Text Summarization': 11, 'Multiple-choice': 41, 'Word Embeddings': 380, 'Feature Engineering': 78, 'Instance Segmentation': 259, 'Program induction': 3, 'Informativeness': 31, 'Face Alignment': 19, 'Gaze Estimation': 7, 'Head Pose Estimation': 6, 'Pose Estimation': 192, 'Benchmarking': 145, 'Graph Regression': 17, 'Initial Structure to Relaxed Energy (IS2RE), Direct': 2, 'Property Prediction': 20, 'Image Captioning': 129, 'Optical Flow Estimation': 95, 'Neural Architecture Search': 290, 'named-entity-recognition': 208, 'Named Entity Recognition': 218, 'Named Entity Recognition (NER)': 231, 'NER': 151, 'Instruction Following': 29, 'Science Question Answering': 4, 'Marketing': 24, 'Audio Generation': 12, 'Computed Tomography (CT)': 79, 'Face Swapping': 41, 'Image Super-Resolution': 145, 'Super-Resolution': 245, 'Sentence Classification': 32, 'text-classification': 283, 'Text Classification': 336, 'LEMMA': 17, 'Document Embedding': 5, 'Information Retrieval': 171, 'Keyphrase Extraction': 5, 'Keyword Extraction': 9, 'AutoML': 32, 'Plant Phenotyping': 2, 'Scene Generation': 7, 'Model Selection': 41, 'Q-Learning': 466, 'Intent Recognition': 7, 'Sentence Embedding': 51, 'Sentence-Embedding': 48, 'slot-filling': 35, 'Slot Filling': 41, 'Spoken Language Understanding': 43, 'Knowledge Probing': 6, 'Privacy Preserving': 51, 'Natural Language Inference': 196, 'Atari Games': 93, 'Reinforcement Learning (RL)': 923, 'Open Vocabulary Object Detection': 5, 'Template Matching': 12, 'Miscellaneous': 3, 'Emotion Recognition': 112, 'Autonomous Driving': 214, 'D4RL': 15, 'Imitation Learning': 56, 'reinforcement-learning': 788, 'Activity Prediction': 2, 'Human Activity Recognition': 35, 'Visual Commonsense Reasoning': 14, 'Data-to-Text Generation': 19, 'Sentence Fusion': 6, 'Text Generation': 383, 'Deblurring': 53, 'Image Deblurring': 22, 'Image Reconstruction': 113, 'Dependency Parsing': 74, 'Part-Of-Speech Tagging': 50, 'XLM-R': 92, 'Traveling Salesman Problem': 4, 'Fault Detection': 15, 'Anomaly Detection': 268, 'Out of Distribution (OOD) Detection': 29, 'SSIM': 82, 'Sarcasm Detection': 12, 'Lane Detection': 15, 'Object Tracking': 76, 'Active Learning': 59, 'Anatomy': 64, 'Bilevel Optimization': 5, 'Second-order methods': 2, 'Breast Cancer Detection': 12, 'graph construction': 15, 'Knowledge Graphs': 82, 'Graph Classification': 54, 'Lesion Segmentation': 60, 'Optical Character Recognition': 24, 'Optical Character Recognition (OCR)': 64, 'Visual Speech Recognition': 10, 'Action Analysis': 3, 'Image Retrieval': 99, 'Deep Clustering': 21, 'Document AI': 3, 'Entity Linking': 30, 'Motion Detection': 2, 'Language Identification': 51, 'Bayesian Optimization': 38, 'Image Augmentation': 30, 'Out-of-Distribution Generalization': 14, 'Semi-Supervised Image Classification': 27, 'Hyperparameter Optimization': 20, 'Meta-Learning': 109, 'Person Re-Identification': 56, 'Person Retrieval': 5, 'Text based Person Retrieval': 1, 'Text-based Person Retrieval': 1, 'Video-Based Person Re-Identification': 6, '2D Pose Estimation': 7, '3D Human Pose Estimation': 48, '3D Multi-Person Pose Estimation': 3, '3D Pose Estimation': 23, 'Multimodal Emotion Recognition': 13, '3D Reconstruction': 45, 'Referring Expression': 17, 'Vision and Language Navigation': 5, 'Few-Shot Object Detection': 16, 'Cross-Lingual Transfer': 72, 'Zero-Shot Cross-Lingual Transfer': 23, 'Gesture Generation': 6, 'Foreground Segmentation': 5, 'Stock Market Prediction': 9, 'Aspect-Based Sentiment Analysis (ABSA)': 39, 'Scene Understanding': 56, 'Human motion prediction': 12, 'motion prediction': 29, 'Left Ventricle Segmentation': 1, 'POS': 71, 'Continuous Control': 90, 'Link Prediction': 56, 'Network Embedding': 10, 'Retinal Vessel Segmentation': 23, 'Action Classification': 37, 'Pose Prediction': 9, 'Temporal Action Localization': 111, 'Video Alignment': 2, '3D Part Segmentation': 14, '3D Point Cloud Classification': 22, 'Few-Shot 3D Point Cloud Classification': 5, 'Few-Shot Learning': 148, 'Time Series Prediction': 23, 'Edge-computing': 49, 'Philosophy': 20, 'Video Object Detection': 15, 'Weakly-supervised Learning': 18, 'Weakly Supervised Object Detection': 10, 'Document Summarization': 43, 'Multi-Document Summarization': 17, 'Variational Inference': 91, 'Spelling Correction': 8, 'Ensemble Learning': 53, 'Graph Attention': 50, 'Trajectory Prediction': 50, 'Face Generation': 41, 'Dimensionality Reduction': 114, 'Grammatical Error Correction': 25, 'Dota 2': 2, 'Starcraft': 22, 'Response Generation': 68, 'Scene Text Detection': 23, 'Text Detection': 38, 'Real-Time Object Detection': 52, 'Audio-Visual Speech Recognition': 6, 'Lipreading': 9, 'Lemmatization': 12, 'Autonomous Vehicles': 91, 'Occupation prediction': 2, 'Saliency Detection': 22, 'Real-Time Visual Tracking': 2, 'Visual Object Tracking': 21, 'Visual Tracking': 19, 'Graph Matching': 7, 'Adversarial Attack': 73, 'Image Dehazing': 28, 'Single Image Dehazing': 10, 'Change Detection': 49, 'Multiple Instance Learning': 32, 'Bayesian Inference': 35, 'Probabilistic Programming': 3, 'Image Enhancement': 40, 'Image Restoration': 86, 'Model Optimization': 11, 'Stock Price Prediction': 14, 'Real-time Instance Segmentation': 8, 'Panoptic Segmentation': 54, 'Dynamic Time Warping': 74, 'Metric Learning': 37, 'Temporal Sequences': 13, 'Gaussian Processes': 35, 'Paraphrase Identification': 25, 'Text Matching': 25, 'feature selection': 61, 'Image Denoising': 73, 'Masked Language Modeling': 83, 'Visual Reasoning': 27, 'Local Distortion': 1, 'MS-SSIM': 13, '3D Face Reconstruction': 11, 'Face Recognition': 90, 'Face Reconstruction': 15, 'Robot Navigation': 21, 'Vocal Bursts Valence Prediction': 41, 'Indoor Localization': 6, 'Document Translation': 5, 'Word Translation': 11, 'Flare Removal': 2, 'Image Compression': 57, 'Image Registration': 39, 'Infrared And Visible Image Fusion': 4, 'Low-Light Image Enhancement': 11, 'Low-light Pedestrian Detection': 1, 'Multispectral Object Detection': 2, 'Pedestrian Detection': 39, 'Thermal Infrared Pedestrian Detection': 1, 'Learning Semantic Representations': 4, 'Model extraction': 5, 'Sentence Pair Modeling': 2, 'energy management': 17, 'Event Extraction': 20, 'Video Reconstruction': 3, 'Word Alignment': 25, 'Outlier Detection': 35, 'Fraud Detection': 20, 'Text-to-Image Generation': 30, 'Sentiment Classification': 90, 'Emotion Recognition in Conversation': 14, 'Data Compression': 20, 'Video Generation': 43, '3D Classification': 7, 'Misinformation': 39, 'Binarization': 34, 'Out-of-Distribution Detection': 37, 'Natural Questions': 9, 'Density Estimation': 56, 'Non-Intrusive Load Monitoring': 7, 'Cultural Vocal Bursts Intensity Prediction': 14, 'Unsupervised Semantic Segmentation': 6, 'Object Localization': 41, 'Event-based vision': 2, 'OpenAI Gym': 45, 'Lexical Simplification': 7, 'Text Simplification': 24, 'Document-level Relation Extraction': 4, 'Music Modeling': 9, 'Lip Reading': 13, 'Instrument Recognition': 1, 'Music Generation': 46, 'Speaker Recognition': 24, 'Dialog Relation Extraction': 2, 'relation explanation': 1, 'Graph Generation': 34, 'Graph Representation Learning': 47, 'Memorization': 34, 'Vehicle Re-Identification': 5, 'Graph Learning': 54, 'Graph Property Prediction': 5, 'Semi-Supervised Object Detection': 4, 'Brain Tumor Segmentation': 47, 'Stochastic Optimization': 28, 'Fake News Detection': 41, 'Unsupervised Anomaly Detection': 43, 'Topic Models': 19, 'Crowd Counting': 25, 'Document Level Machine Translation': 9, 'Toxic Spans Detection': 15, 'Gender Classification': 7, 'Gender Prediction': 6, 'Video Compression': 22, 'Dictionary Learning': 18, 'Learning Theory': 13, 'Binary Classification': 103, 'Majority Voting Classifier': 1, 'Persian Sentiment Analysis': 3, 'Partially Observable Reinforcement Learning': 5, 'Drug Discovery': 53, 'Unsupervised Pre-training': 32, 'Dialogue Generation': 40, 'Speech Synthesis': 116, 'Speech Enhancement': 69, 'Electromyography (EMG)': 6, 'SST-2': 10, 'Humanitarian': 10, 'Traffic Prediction': 34, 'Tensor Decomposition': 17, 'Document Ranking': 29, 'Paraphrase Generation': 18, 'Quantum Machine Learning': 9, 'Speech Separation': 20, 'Probing Language Models': 3, 'Hardware Aware Neural Architecture Search': 4, 'Bias Detection': 8, 'Movie Recommendation': 5, 'Fine-Grained Visual Categorization': 5, 'Action Recognition In Videos': 15, 'Sound Event Detection': 7, 'Video Prediction': 42, 'Surface Normal Estimation': 5, 'Self-Driving Cars': 31, 'Weakly-Supervised Object Localization': 9, 'Chatbot': 49, 'Explainable artificial intelligence': 28, 'XAI': 5, 'Safe Exploration': 3, 'Document Classification': 43, 'Image Forensics': 4, 'Image Manipulation': 43, 'Satire Detection': 4, 'Audio Fingerprint': 1, 'Music Information Retrieval': 18, 'Handwriting generation': 1, 'Handwritten Word Generation': 1, 'Diabetic Retinopathy Grading': 2, 'AMR Parsing': 12, 'Hate Speech Detection': 49, 'TAG': 55, 'Image Matting': 11, 'Motion Estimation': 19, 'Video Matting': 1, 'Fashion Synthesis': 1, 'Image Stitching': 3, 'Virtual Try-on': 10, 'General Knowledge': 11, 'Sentence Ordering': 7, 'Sentence Similarity': 21, 'Rain Removal': 27, 'Single Image Deraining': 13, 'Relation Classification': 31, 'Retrosynthesis': 12, 'SMAC': 10, 'SMAC+': 8, 'Medical Visual Question Answering': 5, '6D Pose Estimation': 11, '6D Pose Estimation using RGB': 8, 'Multi-Armed Bandits': 6, 'Feature Importance': 24, 'Single-step retrosynthesis': 7, 'Code Generation': 57, 'Speech Emotion Recognition': 31, 'Document Image Classification': 10, 'Sequential Recommendation': 18, 'Activity Recognition In Videos': 1, 'No real Data Binarization': 1, 'Synthetic Data Binarization': 1, 'Synthetic Data Generation': 26, 'Face Anti-Spoofing': 13, 'Organ Segmentation': 27, 'Generalized Zero-Shot Learning': 10, 'Robust Speech Recognition': 8, 'MORPH': 14, 'Code Completion': 11, 'Pseudo Label': 28, 'Talking Face Generation': 4, 'whole slide images': 30, 'Aspect Extraction': 9, 'Keyphrase Generation': 8, 'Small Object Detection': 15, 'Matrix Completion': 8, 'Spatial Interpolation': 1, 'Video Frame Interpolation': 17, 'Hyperspectral Image Classification': 16, 'Audio captioning': 9, 'Image Inpainting': 55, 'Network Pruning': 51, 'Code Translation': 9, 'Video Background Subtraction': 3, 'Video Anomaly Detection': 21, 'One-Shot Learning': 19, 'Next-basket recommendation': 1, 'Noisy Speech Recognition': 1, \"Montezuma's Revenge\": 8, '3D Semantic Scene Completion': 6, 'Stereo Matching': 15, 'Grounded Situation Recognition': 4, 'Situation Recognition': 2, 'Visual Grounding': 31, 'Weakly supervised Semantic Segmentation': 30, 'Weakly-Supervised Semantic Segmentation': 31, 'Chunking': 12, 'Interpretable Machine Learning': 12, 'Referring Expression Comprehension': 16, 'Referring Expression Segmentation': 9, 'Language Acquisition': 7, 'Personalized Federated Learning': 4, 'Meme Classification': 5, 'Sequential Image Classification': 11, 'Face Detection': 30, 'Facial Landmark Detection': 9, 'Mutual Information Estimation': 3, 'Video Question Answering': 10, 'Video Retrieval': 24, 'Continual Learning': 54, 'Relation Network': 8, 'Human Detection': 28, 'Multi-Object Tracking': 19, 'Word Sense Disambiguation': 37, 'Pneumonia Detection': 9, 'Thoracic Disease Classification': 2, 'Semantic Role Labeling': 29, 'Coreference Resolution': 31, 'Linguistic Acceptability': 23, 'Open-Domain Question Answering': 37, 'One-Shot Object Detection': 4, 'Cardiac Segmentation': 12, 'TriviaQA': 11, 'Offline RL': 45, 'Multimodal Sentiment Analysis': 19, 'Blocking': 12, 'Multi-class Classification': 34, 'Propaganda detection': 13, 'Sparse Representation-based Classification': 1, 'Video Classification': 39, 'Audio Super-Resolution': 5, 'Multimodal Text and Image Classification': 2, 'News Annotation': 1, 'News Classification': 8, 'Robot Manipulation': 12, 'Unseen Object Instance Segmentation': 2, 'HDR Reconstruction': 1, 'Automated Essay Scoring': 7, 'Hard Attention': 14, 'Face Hallucination': 3, 'STS': 41, 'Skull Stripping': 5, 'Extreme Summarization': 2, 'Data Integration': 8, 'Gravitational Wave Detection': 1, 'Facial Expression Recognition': 27, 'Facial Expression Recognition (FER)': 31, 'Hyperspectral Image Super-Resolution': 6, 'Video Description': 5, 'backdoor defense': 1, 'Data Poisoning': 10, 'Disaster Response': 9, 'Human Parsing': 13, 'Entity Embeddings': 14, 'Colorization': 27, 'Image Colorization': 8, 'Scene Parsing': 24, 'Imputation': 41, 'Brain Decoding': 4, 'Formal Logic': 1, 'Cross-Modal Retrieval': 19, 'Multimodal Deep Learning': 14, 'Scene Flow Estimation': 5, 'Dialogue State Tracking': 21, 'End-To-End Dialogue Modelling': 2, 'Multi-domain Dialogue State Tracking': 6, 'Open-Ended Question Answering': 31, 'Scene Text Recognition': 24, 'Specificity': 80, 'Efficient Exploration': 22, 'Knowledge Graph Embeddings': 8, 'Multi-hop Question Answering': 9, 'RGB Salient Object Detection': 15, 'Salient Object Detection': 36, 'Satellite Image Classification': 5, 'Multimodal Abstractive Text Summarization': 1, 'Value prediction': 7, 'Myocardium Segmentation': 4, 'Head Detection': 6, '3D Action Recognition': 5, 'Depth Prediction': 20, 'intent-classification': 32, 'Intent Classification': 33, 'Medical Concept Normalization': 2, 'Medical Relation Extraction': 3, 'Sentence-Pair Classification': 11, 'Point Cloud Classification': 21, 'Generalization Bounds': 5, 'DeepFake Detection': 22, 'Keypoint Detection': 25, 'Burst Image Reconstruction': 2, 'Burst Image Super-Resolution': 2, 'Multi-Frame Super-Resolution': 4, 'Action Quality Assessment': 4, 'Hierarchical Reinforcement Learning': 10, 'Malware Analysis': 4, 'Vulnerability Detection': 11, 'Multi Label Text Classification': 13, 'Multi-Label Text Classification': 18, 'Collaborative Filtering': 38, 'Entity Alignment': 6, 'Face Identification': 6, 'Person Identification': 6, 'Saliency Prediction': 25, 'Video Recognition': 36, 'Knowledge Graph Completion': 13, 'Text-to-Video Generation': 5, 'Answer Generation': 16, 'Cloze Test': 7, 'Readmission Prediction': 2, 'Aesthetics Quality Assessment': 1, 'Few-Shot Image Classification': 18, 'Music Transcription': 7, 'Answer Selection': 13, 'Sign Language Recognition': 23, 'Extractive Question-Answering': 10, 'Nuclei Classification': 2, 'Text to Video Retrieval': 5, 'Entity Typing': 13, 'Pedestrian Trajectory Prediction': 14, 'Texture Classification': 6, 'Boundary Detection': 10, 'Automatic Sleep Stage Classification': 2, 'Sleep Stage Detection': 2, 'Sleep Staging': 4, 'Real-Time Semantic Segmentation': 26, 'Medical Report Generation': 7, 'Image-Variation': 2, 'Physical Simulations': 3, 'Fine-Grained Visual Recognition': 4, 'Sensor Fusion': 13, 'Citation Prediction': 5, 'graph partitioning': 8, 'Image-level Supervised Instance Segmentation': 3, 'Weakly-supervised instance segmentation': 4, 'Program Synthesis': 18, 'Emotion Classification': 24, 'Starcraft II': 14, 'Disparity Estimation': 7, 'Superpixels': 8, 'Image Clustering': 16, 'Time Series Clustering': 6, '3D Object Detection': 62, \"Bird's-Eye View Semantic Segmentation\": 2, 'Scene Classification': 27, 'Cross-Lingual Question Answering': 4, 'Multi-task Language Understanding': 10, 'coreference-resolution': 24, 'Joint Entity and Relation Extraction': 8, 'Combinatorial Optimization': 33, 'One-Class Classification': 11, 'Traffic Accident Detection': 2, 'Headline Generation': 7, 'Causal Inference': 16, '3D Medical Imaging Segmentation': 5, 'Video Instance Segmentation': 8, 'Video Segmentation': 17, 'Video Semantic Segmentation': 39, 'Model-based Reinforcement Learning': 27, 'Visual Navigation': 8, 'Face Reenactment': 6, 'Texture Synthesis': 10, 'Face Image Quality': 3, 'Face Image Quality Assessment': 3, 'Image Quality Assessment': 34, 'Image Quality Estimation': 2, 'Goal-Oriented Dialogue Systems': 5, 'Interactive Evaluation of Dialog': 1, 'Task-Oriented Dialogue Systems': 21, 'User Simulation': 1, 'Toxic Comment Classification': 3, 'Subjectivity Analysis': 4, 'Word Similarity': 25, 'Hand Pose Estimation': 17, 'Ad-Hoc Information Retrieval': 7, 'Cloud Detection': 4, 'Camera Relocalization': 4, 'RTE': 10, 'Dense Video Captioning': 5, 'Temporal Action Proposal Generation': 1, 'Video Captioning': 33, 'Model Editing': 3, 'Abusive Language': 8, 'Text-To-Speech Synthesis': 37, 'Extreme Multi-Label Classification': 6, 'Multi-Label Classification': 58, 'Motion Forecasting': 8, 'Counterfactual Explanation': 4, 'Solar Flare Prediction': 3, 'Syntax Representation': 1, 'Vocal Bursts Type Prediction': 15, 'Image Morphing': 7, 'Systematic Generalization': 9, 'Automated Theorem Proving': 4, 'Crack Segmentation': 4, 'Human-Object Relationship Detection': 1, 'Survival Analysis': 10, 'Survival Prediction': 18, 'Graph Mining': 7, 'Spatio-Temporal Forecasting': 3, 'Time Series Regression': 7, 'Small Data Image Classification': 11, 'Nonparametric Clustering': 1, 'Descriptive': 54, 'Bokeh Effect Rendering': 1, 'Image Shadow Removal': 2, 'Nonhomogeneous Image Dehazing': 2, 'Shadow Removal': 5, 'Stereo Image Super-Resolution': 4, 'Gesture Recognition': 23, 'Molecular Docking': 3, 'Stereo Depth Estimation': 6, 'Nested Mention Recognition': 3, 'Nested Named Entity Recognition': 6, 'Line Detection': 6, 'Clickbait Detection': 3, 'Action Generation': 2, 'Human action generation': 2, 'Robust 3D Object Detection': 1, 'Speaker Separation': 1, 'Inference Attack': 9, 'Membership Inference Attack': 5, 'Multi-Label Learning': 2, 'Disease Prediction': 10, 'Code Summarization': 19, '3D Human Reconstruction': 4, '3D Multi-Person Mesh Recovery': 1, 'Text-Independent Speaker Recognition': 1, 'Unconditional Video Generation': 1, 'Key Information Extraction': 8, 'Line Art Colorization': 3, 'Lesion Detection': 27, 'Structured Prediction': 27, 'Semi-Supervised Video Object Segmentation': 4, 'Video Object Segmentation': 28, 'Session-Based Recommendations': 5, 'Land Cover Classification': 7, 'Learning-To-Rank': 22, 'Color Constancy': 4, 'Dichotomous Image Segmentation': 7, 'Thermal Image Segmentation': 11, 'Video Restoration': 6, 'Word Sense Induction': 2, 'Algorithmic Trading': 4, 'Robotic Grasping': 7, 'Misconceptions': 2, 'Event Argument Extraction': 4, 'Opinion Mining': 17, 'Topic Classification': 17, 'Density Ratio Estimation': 6, 'Product Categorization': 2, 'Few-Shot Semantic Segmentation': 11, 'Video Denoising': 3, 'Stock Prediction': 8, 'Long Form Question Answering': 2, 'Respiratory Failure': 1, 'Fill Mask': 2, 'TGIF-Action': 2, 'TGIF-Frame': 3, 'TGIF-Transition': 2, 'Product Recommendation': 5, '2D Object Detection': 19, 'Avg': 4, 'Cross-device ASR': 1, 'Cross-environment ASR': 1, 'Load Forecasting': 12, 'Audio Denoising': 2, 'Speech Denoising': 7, 'Morphological Analysis': 6, 'Logical Reasoning': 25, 'Multimodal Machine Translation': 11, 'Safe Reinforcement Learning': 7, 'Inductive Relation Prediction': 1, 'Cross-Modal Person Re-Identification': 2, 'Bilingual Lexicon Induction': 10, 'Cross-Lingual NER': 2, 'Dynamic Facial Expression Recognition': 3, 'General Reinforcement Learning': 11, 'Story Generation': 15, 'speaker-diarization': 5, 'Speaker Diarization': 5, 'COVID-19 Diagnosis': 27, 'Image Generation from Scene Graphs': 1, 'Scene Graph Generation': 17, 'Job Shop Scheduling': 4, 'Bayesian Optimisation': 2, 'Stance Detection': 17, 'Intrusion Detection': 23, 'Network Intrusion Detection': 10, 'Text-Independent Speaker Verification': 6, 'Open World Object Detection': 3, 'Interactive Segmentation': 5, 'Hand Gesture Recognition': 12, 'Hand-Gesture Recognition': 11, 'Table Recognition': 6, 'Seizure Detection': 5, 'Dense Pixel Correspondence Estimation': 2, '3D Face Animation': 2, 'Claim Verification': 7, 'Fact Verification': 15, 'Click-Through Rate Prediction': 7, 'Room Impulse Response (RIR)': 1, 'Community Detection': 9, 'Graph Clustering': 12, 'Motion Segmentation': 4, 'Object Categorization': 4, 'Self-Supervised Image Classification': 24, 'Visual Entailment': 11, 'Game of Go': 5, 'Lesion Classification': 14, 'Skin Lesion Classification': 11, 'Spam detection': 6, '3D Shape Representation': 6, 'Surface Reconstruction': 6, 'Finger Vein Recognition': 1, 'Unsupervised Opinion Summarization': 2, 'Common Sense Reasoning': 51, 'Math Word Problem Solving': 11, 'Discourse Parsing': 7, 'Visual Dialog': 12, 'Causal Emotion Entailment': 3, 'Emotion Cause Extraction': 2, 'Recognizing Emotion Cause in Conversations': 1, 'Temporal Information Extraction': 2, 'Acrobot': 2, '2D Human Pose Estimation': 16, 'Lung Cancer Diagnosis': 3, 'Action Localization': 16, 'Hippocampus': 11, 'Symbolic Regression': 6, 'Relationship Detection': 2, 'Conversational Search': 6, 'Compressive Sensing': 18, 'Multilingual NLP': 13, 'Time-Series Few-Shot Learning with Heterogeneous Channels': 1, 'Question-Answer-Generation': 3, 'Audio inpainting': 2, 'GSM8K': 10, 'dialog state tracking': 7, 'Jet Tagging': 2, 'Sequence-To-Sequence Speech Recognition': 4, 'Aggression Identification': 7, 'Misogynistic Aggression Identification': 3, 'Pedestrian Attribute Recognition': 2, 'Image Deconvolution': 5, 'Entity Resolution': 11, 'Sentence segmentation': 7, 'Policy Gradient Methods': 25, 'Molecular Property Prediction': 15, 'Event Causality Identification': 2, 'Self-Learning': 16, 'Gait Recognition': 9, 'Fire Detection': 3, 'Text Retrieval': 31, 'Video-Text Retrieval': 5, 'Video to Text Retrieval': 1, 'Zero-Shot Action Recognition': 3, 'Intent Detection': 30, 'Graph-to-Sequence': 8, 'Astronomy': 15, 'Object Proposal Generation': 2, 'Explanation Generation': 8, 'Defect Detection': 27, 'Passage Retrieval': 14, 'Chinese Word Segmentation': 16, 'Zero-shot Image Retrieval': 4, 'Sketch Recognition': 3, 'Crop Classification': 5, 'Layout Design': 6, 'MRI Reconstruction': 19, 'Semantic Composition': 7, 'Emotional Intelligence': 1, 'Citation Recommendation': 1, 'Monocular 3D Human Pose Estimation': 9, '3D Human Dynamics': 1, 'Resynthesis': 3, 'Physiological Computing': 1, 'Real-Time Strategy Games': 1, 'Sensor Modeling': 2, 'Skills Assessment': 1, 'Skills Evaluation': 1, 'Oriented Object Detection': 6, 'Aerial Video Semantic Segmentation': 1, 'Variable Selection': 7, 'Document Layout Analysis': 7, 'UIE': 6, 'Underwater Image Restoration': 1, 'Sound Classification': 14, 'Extracting Buildings In Remote Sensing Images': 2, 'Spike Sorting': 2, 'Time Series Denoising': 1, 'Prompt Engineering': 32, 'Cross-corpus': 7, 'Action Triplet Recognition': 2, 'Weakly Supervised Action Localization': 4, 'token-classification': 12, 'Token Classification': 11, 'Riemannian optimization': 2, 'Cross-Lingual Information Retrieval': 4, 'ECG Classification': 10, 'Deep Attention': 10, 'CoLA': 14, 'Arithmetic Reasoning': 7, 'Text-Dependent Speaker Verification': 1, 'Handwritten Digit Recognition': 5, 'Zero-Shot Intent Classification': 2, 'Semi-supervised Medical Image Segmentation': 1, 'Problem Decomposition': 3, 'Steering Control': 2, 'Novel View Synthesis': 15, 'Ethics': 14, 'Rotated MNIST': 9, 'Information Plane': 2, 'Conversational Response Selection': 10, 'Classification with Binary Neural Network': 3, 'Dynamic graph embedding': 3, 'Age And Gender Classification': 3, 'Age Classification': 2, 'Age Estimation': 7, 'Photo Retouching': 3, 'Semi-Supervised Instance Segmentation': 1, 'Logical Fallacies': 3, 'Audio Classification': 25, 'Abuse Detection': 8, 'Facial Expression Translation': 2, 'Depth Completion': 11, 'License Plate Recognition': 8, 'Unsupervised Speech Recognition': 3, 'Negation and Speculation Cue Detection': 2, 'Negation and Speculation Scope resolution': 2, 'Negation Scope Resolution': 5, 'Speculation Scope Resolution': 2, '3D human pose and shape estimation': 3, '3D Human Shape Estimation': 2, 'Melanoma Diagnosis': 2, 'Efficient Neural Network': 20, 'Neural Network Compression': 29, 'Program Repair': 7, 'Inverse Rendering': 6, 'Single-Image Portrait Relighting': 1, 'Dialect Identification': 8, 'Clinical Concept Extraction': 7, 'Natural Language Queries': 13, 'Synthetic-to-Real Translation': 6, 'Email Thread Summarization': 1, 'Visual Place Recognition': 8, 'Sentence Compression': 4, 'Unsupervised Sentence Compression': 1, 'JPEG Artifact Removal': 2, 'Aspect Sentiment Triplet Extraction': 5, 'Activity Detection': 11, 'Term Extraction': 5, 'Keyword Spotting': 24, 'Unconditional Image Generation': 8, 'Unsupervised Extractive Summarization': 2, 'Univariate Time Series Forecasting': 4, 'Music Style Transfer': 2, 'RGB-D Reconstruction': 1, 'Band Gap': 1, 'band gap classification': 1, 'band gap regression': 1, 'Temporal Localization': 7, 'Self-Knowledge Distillation': 3, 'class-incremental learning': 10, 'Class Incremental Learning': 10, 'Incremental Learning': 27, 'Question Similarity': 7, 'Distributional Reinforcement Learning': 11, 'Volumetric Medical Image Segmentation': 9, 'Transition-Based Dependency Parsing': 7, 'Face Parsing': 6, 'Hope Speech Detection': 1, 'Transliteration': 10, 'Mixed Reality': 6, 'Mathematical Reasoning': 17, 'Bangla Spelling Error Correction': 1, 'Object Discovery': 9, 'Video Enhancement': 4, 'Medical Image Classification': 24, 'Road Damage Detection': 6, 'Gaze Prediction': 3, 'Auxiliary Learning': 4, 'Weakly supervised segmentation': 8, 'Bridging Anaphora Resolution': 2, 'Point Cloud Generation': 7, 'AMR-to-Text Generation': 10, 'KB-to-Language Generation': 1, 'KG-to-Text Generation': 3, 'Scene Segmentation': 16, 'Relational Reasoning': 13, 'Learning with noisy labels': 4, 'License Plate Detection': 5, 'Social Navigation': 1, 'Multiple Sequence Alignment': 3, 'Protein Secondary Structure Prediction': 2, 'Graph Anomaly Detection': 4, '3D Character Animation From A Single Photo': 1, '2D Semantic Segmentation': 5, 'Camera Calibration': 6, 'Point cloud reconstruction': 3, 'SQL Parsing': 2, 'Text-To-SQL': 19, 'Motion Planning': 19, 'Point Cloud Segmentation': 18, 'Abstractive Dialogue Summarization': 5, 'dialogue summary': 1, 'Inference Optimization': 4, 'Low-Rank Matrix Completion': 3, 'Robust Object Detection': 4, 'Dialogue Management': 7, 'Emotional Speech Synthesis': 2, 'Expressive Speech Synthesis': 5, 'Fact Checking': 28, 'Experimental Design': 4, 'Style Generalization': 1, 'Graph Similarity': 2, 'Human Interaction Recognition': 4, 'Real-to-Cartoon translation': 1, 'Image-text matching': 11, 'Polyphone disambiguation': 3, 'Multi-Person Pose Estimation': 20, 'News Recommendation': 11, 'Causal Discovery': 5, 'Decision Making Under Uncertainty': 4, 'Tensor Networks': 8, 'Explainable Models': 6, 'Explainable Recommendation': 7, 'Information Retrieva': 1, 'Music Recommendation': 3, 'Reasoning Chain Explanations': 1, '3D Shape Generation': 9, 'LAMBADA': 2, 'Pose Transfer': 6, 'Audio-Visual Synchronization': 2, 'Blood Cell Detection': 3, 'Cell Segmentation': 13, 'MuJoCo Games': 2, 'Cross-Domain Few-Shot': 4, 'cross-domain few-shot learning': 3, 'Open Information Extraction': 6, 'Electron Microscopy Image Segmentation': 3, 'Cell Detection': 10, 'Column Type Annotation': 2, 'Table annotation': 3, 'Depression Detection': 4, '3D Shape Reconstruction': 6, 'Object Reconstruction': 6, 'Text Segmentation': 5, 'Video Quality Assessment': 10, 'Video Saliency Detection': 2, 'Adversarial Defense': 17, 'Trajectory Forecasting': 13, 'Argument Mining': 9, 'Query-Based Extractive Summarization': 2, 'Pancreas Segmentation': 8, 'Medical Object Detection': 7, 'Font Generation': 5, 'Generalizable Person Re-identification': 4, 'Meta Reinforcement Learning': 5, 'Unsupervised Image Classification': 7, 'Topological Data Analysis': 9, 'Biomedical Information Retrieval': 3, 'Knowledge Tracing': 7, 'Image Imputation': 1, 'Community Question Answering': 13, 'Table Retrieval': 3, 'NONPARAMETRIC DEEP CLUSTERING': 1, 'Zero-Shot Multi-Speaker TTS': 1, 'Sentence Completion': 9, 'Action Anticipation': 7, 'Online Action Detection': 2, 'Transfer Reinforcement Learning': 2, 'Multiple Choice Question Answering (MCQA)': 8, 'Image Stylization': 3, 'One-Shot Face Stylization': 2, 'GPR': 7, 'Time Series Anomaly Detection': 15, 'UCCA Parsing': 4, 'Unsupervised Person Re-Identification': 4, 'Long-tail Learning': 4, 'Entity Disambiguation': 9, 'Source Code Summarization': 11, 'Zero-Shot Cross-Modal Retrieval': 2, 'Molecular Graph Generation': 5, 'DQN Replay Dataset': 4, 'Handwriting Recognition': 11, 'Histopathological Image Classification': 5, 'Intent Discovery': 2, 'Text Augmentation': 9, 'Table-to-Text Generation': 5, 'Multimodal Patch Matching': 1, 'Patch Matching': 2, 'Text Style Transfer': 11, 'Unsupervised Text Style Transfer': 3, 'Spoken Dialogue Systems': 7, 'Learning Word Embeddings': 5, 'Person Recognition': 2, 'Short-Text Conversation': 2, 'Triple Classification': 4, 'Zero-Shot Image Classification': 5, 'Adversarial Text': 9, 'Colorectal Polyps Characterization': 1, 'Skin Cancer Segmentation': 3, 'Action Segmentation': 12, 'Transductive Learning': 5, 'De-identification': 8, 'One-class classifier': 7, 'Open Set Learning': 3, 'Handwritten Document Recognition': 1, 'Handwritten Text Recognition': 10, 'Multiple Object Tracking': 13, 'Argument Retrieval': 2, 'Few-Shot Class-Incremental Learning': 1, 'MRPC': 6, 'Camouflaged Object Segmentation': 2, 'Long-range modeling': 12, 'outlier ensembles': 2, 'Implicit Discourse Relation Classification': 3, 'Multi-target Domain Adaptation': 1, 'Dialogue Understanding': 4, 'Initial Structure to Relaxed Energy (IS2RE)': 1, 'Seizure prediction': 6, 'Binary text classification': 4, 'Text Pair Classification': 2, 'Conversational Question Answering': 7, 'Conversation Disentanglement': 1, 'Monocular 3D Object Localization': 1, 'Length-of-Stay prediction': 2, 'Mortality Prediction': 9, 'Predicting Patient Outcomes': 2, 'Remaining Length of Stay': 1, 'Medical Image Registration': 13, 'Detecting Image Manipulation': 2, 'Image Cropping': 3, 'Image Manipulation Detection': 6, 'image smoothing': 2, 'ROI-based image generation': 2, 'Lay Summarization': 1, 'Scientific Document Summarization': 1, 'Weather Forecasting': 20, 'Action Parsing': 1, 'Music Source Separation': 14, 'Time Series Averaging': 2, 'Date Understanding': 2, 'Protein Structure Prediction': 9, 'Image Defocus Deblurring': 3, 'L2 Regularization': 9, 'Face Verification': 20, 'QQP': 9, 'Medical Procedure': 2, 'Video Editing': 11, 'Homography Estimation': 5, 'Short Text Clustering': 3, 'Text Clustering': 6, 'Electrical Engineering': 2, 'Rolling Shutter Correction': 8, '3D Object Recognition': 6, 'Point Cloud Retrieval': 3, 'Zero-Shot Text Classification': 3, 'Capacity Estimation': 3, '3D Semantic Segmentation': 19, 'Variable misuse': 3, 'Gesture-to-Gesture Translation': 4, 'Stochastic Block Model': 5, 'Copy Detection': 2, '3D Feature Matching': 5, '3D Scene Reconstruction': 3, 'Stereo Matching Hand': 5, 'Spinal Cord Gray Matter - Segmentation': 1, 'UNET Quantization': 1, 'Propaganda span identification': 2, 'Morphological Tagging': 4, 'Total Energy': 7, 'Pansharpening': 4, 'Point Cloud Completion': 7, 'Target Speaker Extraction': 1, 'Acoustic Scene Classification': 5, 'Robust classification': 9, 'Graph structure learning': 5, '3D Shape Modeling': 3, 'Question Selection': 2, 'Flooded Building Segmentation': 1, 'Formality Style Transfer': 3, 'Person Search': 6, 'Simultaneous Localization and Mapping': 8, 'Cross-Lingual Bitext Mining': 2, 'Low-Resource Neural Machine Translation': 5, 'Riddle Sense': 3, 'Spoken language identification': 1, 'Supervised Anomaly Detection': 8, 'Content-Based Image Retrieval': 7, 'Edge Detection': 21, 'Lung Nodule Segmentation': 5, 'Caricature': 6, 'Table Detection': 5, 'Lung Nodule Classification': 4, '3D Instance Segmentation': 8, '3D Semantic Instance Segmentation': 2, 'Semi-supervised Medical Image Classification': 1, 'Type prediction': 14, '3D Lane Detection': 2, 'Method name prediction': 2, 'Vision-Language Navigation': 3, '4D Spatio Temporal Semantic Segmentation': 2, 'COVID-19 Image Segmentation': 4, 'Face Transfer': 2, 'Neural Rendering': 8, 'Low-rank compression': 4, 'Face Clustering': 3, 'Multi-Speaker Source Separation': 2, 'Object Counting': 6, 'Extractive Document Summarization': 2, 'Voice Cloning': 7, 'Distributed Computing': 7, 'Open-Domain Dialog': 6, 'Conceptual Physics': 1, 'Arabic Text Diacritization': 1, 'Node Classification on Non-Homophilic (Heterophilic) Graphs': 1, 'Monocular 3D Object Detection': 6, 'Morphology classification': 2, '3D Place Recognition': 1, 'Human Aging': 3, 'Trajectory Modeling': 1, 'Citation Intent Classification': 2, 'Cross-Lingual Natural Language Inference': 5, 'Linear-Probe Classification': 2, 'Multimodal Intent Recognition': 3, '3D Hand Pose Estimation': 8, 'Conversational Response Generation': 6, 'Job classification': 1, 'Image Categorization': 4, 'motion retargeting': 2, 'Table Extraction': 1, 'Table Functional Analysis': 1, 'LIDAR Semantic Segmentation': 5, 'Semantic Segmentation on ScanNet': 1, 'Passage Re-Ranking': 5, 'Brain Segmentation': 10, 'Action Spotting': 1, 'Constituency Grammar Induction': 2, 'Constituency Parsing': 10, 'Singing Voice Synthesis': 7, 'Drug Response Prediction': 3, 'Chord Recognition': 2, 'Negation Detection': 5, 'Image Similarity Search': 2, 'Facial Editing': 4, 'Unbiased Scene Graph Generation': 1, 'Odd One Out': 1, 'ICU Mortality': 1, 'EEG Emotion Recognition': 2, 'Image Steganography': 1, 'Steganalysis': 3, 'Knowledge Base Population': 1, 'Zero-shot Slot Filling': 4, 'StrategyQA': 2, 'Face Presentation Attack Detection': 4, 'MRI segmentation': 9, 'Dense Object Detection': 8, 'Humor Detection': 8, 'Code Classification': 2, 'Hyperspectral image analysis': 5, 'Hyperspectral Image Segmentation': 1, 'Grounded language learning': 2, 'Visual Odometry': 8, 'Age and Gender Estimation': 1, 'Facial Attribute Classification': 1, 'Numerical Integration': 2, 'Semantic Retrieval': 5, 'MULTI-VIEW LEARNING': 9, 'Space-time Video Super-resolution': 1, 'Video Super-Resolution': 13, 'Text Compression': 1, 'Text Categorization': 7, 'Fine-Grained Image Recognition': 4, 'Predicate Detection': 2, 'Long-tailed Object Detection': 3, 'Image Compressed Sensing': 2, 'Dialogue Act Classification': 6, 'Object Detection In Aerial Images': 11, 'imbalanced classification': 9, 'PICO': 1, 'Distant Speech Recognition': 1, 'Morphological Inflection': 7, 'Fine-grained Action Recognition': 3, 'Semi-supervised Domain Adaptation': 4, 'Compressed Image Quality Assessment': 1, 'Learning to Execute': 3, 'Face Image Retrieval': 2, 'Twitter Sentiment Analysis': 4, 'Explainable Artificial Intelligence (XAI)': 32, 'Document Text Classification': 3, 'Landmark Tracking': 2, 'Synthetic Image Attribution': 1, 'Synthetic Image Detection': 2, 'Video Summarization': 4, 'SemEval-2022 Task 4-1 (Binary PCL Detection)': 1, 'SemEval-2022 Task 4-2 (Multi-label PCL Detection)': 1, 'Pretrained Multilingual Language Models': 5, 'Speaker Identification': 7, 'Sociology': 1, 'Speech-to-Speech Translation': 6, 'Music Classification': 4, 'SSTOD': 1, 'Blind Face Restoration': 4, 'Single-Image Blind Deblurring': 2, 'Chinese Named Entity Recognition': 9, 'Color Image Denoising': 5, 'Liver Segmentation': 7, '3D Point Cloud Linear Classification': 1, 'Few-Shot Point Cloud Classification': 1, 'Road Segmentation': 8, 'Automatic Post-Editing': 6, 'Acoustic Modelling': 5, 'JPEG Artifact Correction': 5, 'Vector Graphics': 2, 'Ensemble Pruning': 1, 'Photoplethysmography (PPG)': 4, 'Respiratory Rate Estimation': 1, 'Emotion-Cause Pair Extraction': 1, 'Extract aspect-polarity tuple': 1, 'Multi-Domain Sentiment Classification': 1, 'Portfolio Optimization': 6, 'Color Manipulation': 2, 'Facial Makeup Transfer': 1, 'Model Discovery': 1, 'Scene Recognition': 7, 'Unsupervised MNIST': 3, 'Image Harmonization': 5, 'Environmental Sound Classification': 5, 'Implicit Relations': 4, 'Video Object Tracking': 5, 'Cross-Modality Person Re-identification': 1, 'Future prediction': 6, 'Audio Source Separation': 15, 'Material Recognition': 2, 'Grasp Generation': 1, 'Lexical Complexity Prediction': 6, 'Zero-Shot Object Detection': 3, 'Spectral Reconstruction': 2, 'Zero-shot Text Search': 3, 'Driver Attention Monitoring': 1, 'Aspect-Category-Opinion-Sentiment Quadruple Extraction': 1, 'Aspect-oriented Opinion Extraction': 3, 'Aspect Term Extraction and Sentiment Classification': 2, 'Stroke Classification': 1, '3D Face Alignment': 1, 'Normalising Flows': 1, 'Surgical phase recognition': 6, 'Cube Engraving Classification': 1, 'Fine-Grained Action Detection': 3, 'Spatio-Temporal Action Localization': 4, 'Self-Supervised Person Re-Identification': 1, 'UNET Segmentation': 1, 'Evidence Selection': 1, 'Lexical Analysis': 2, 'Deformable Medical Image Registration': 3, 'Text-to-Code Generation': 2, 'Zero-shot Text Retrieval': 2, 'Autonomous Navigation': 13, 'Heart Rate Variability': 2, 'Punctuation Restoration': 5, 'Causal Language Modeling': 4, '3D Shape Recognition': 4, 'Point Cloud Registration': 15, 'Direction of Arrival Estimation': 1, 'Defocus Estimation': 1, '3D Single Object Tracking': 2, 'Mathematical Proofs': 3, 'Breast Cancer Histology Image Classification': 3, 'Classification Of Breast Cancer Histology Images': 2, 'Medical Image Generation': 6, 'Code Repair': 2, 'Medical Named Entity Recognition': 4, 'Ultrasound': 1, 'Entity Retrieval': 5, 'Acoustic echo cancellation': 2, 'Definition Extraction': 3, 'hypergraph partitioning': 1, 'Unsupervised Video Object Segmentation': 8, 'Medical Image Retrieval': 2, 'Learning Representation On Graph': 1, 'Unsupervised Instance Segmentation': 2, 'Meeting Summarization': 2, 'Concept-To-Text Generation': 3, 'Spacecraft Pose Estimation': 1, 'Permuted-MNIST': 4, 'De-aliasing': 2, 'Multimodal Unsupervised Image-To-Image Translation': 4, 'Brain Image Segmentation': 2, 'Knowledge Base Question Answering': 9, 'Blind Image Quality Assessment': 5, 'No-Reference Image Quality Assessment': 6, '3D Object Detection From Stereo Images': 1, 'Noise Estimation': 1, 'Lexical Entailment': 2, 'Semi-Supervised Text Classification': 5, 'Demosaicking': 5, 'Group Anomaly Detection': 2, 'Transparent objects': 3, 'Phrase Extraction and Grounding (PEG)': 1, 'Phrase Grounding': 3, 'Bandwidth Extension': 2, 'Unsupervised Object Localization': 1, 'Image-to-Text Retrieval': 8, 'Semantic Dependency Parsing': 5, 'Image to Video Generation': 2, 'Co-Salient Object Detection': 4, 'Iris Recognition': 7, 'Iris Segmentation': 3, 'Video Inpainting': 7, 'Skin Cancer Classification': 5, 'target-oriented opinion words extraction': 2, 'General Classification Selection': 1, 'Video Visual Relation Detection': 2, 'Board Games': 3, 'Multilingual Named Entity Recognition': 3, 'Facial Inpainting': 3, 'Operator learning': 7, 'Unity': 5, 'Probabilistic Deep Learning': 4, 'Sound Event Localization and Detection': 1, 'Action Triplet Detection': 1, 'Unsupervised Machine Translation': 11, 'Physical Intuition': 2, 'Referring Image Matting (Expression-based)': 1, 'Referring Image Matting (Keyword-based)': 1, 'Referring Image Matting (RefMatte-RW100)': 1, 'Audio Signal Processing': 3, 'QNLI': 4, 'Food Recognition': 2, '3D Object Tracking': 4, '6D Pose Estimation using RGBD': 1, 'WNLI': 2, 'Predictive Process Monitoring': 2, 'Card Games': 2, 'Atrial Fibrillation Detection': 1, 'Electrocardiography (ECG)': 8, 'Visual Localization': 7, 'Hyperspectral Unmixing': 6, 'Story Completion': 2, 'Depth-aware Video Panoptic Segmentation': 1, 'Video Panoptic Segmentation': 2, 'Chinese Semantic Role Labeling': 1, '3D Shape Classification': 7, 'Procedural Text Understanding': 3, 'Boundary Captioning': 1, 'Anomaly Detection In Surveillance Videos': 6, 'Acoustic Unit Discovery': 2, 'Weakly Supervised Classification': 2, 'Metal Artifact Reduction': 1, 'Group Activity Recognition': 3, 'Sequential Place Learning': 1, 'Sequential Place Recognition': 1, 'Goal-Oriented Dialog': 3, 'Color Image Compression Artifact Reduction': 1, 'Image Compression Artifact Reduction': 2, 'Melody Extraction': 2, 'Keypoint Estimation': 10, 'Compiler Optimization': 1, 'Missing Elements': 3, '3D Point Cloud Reconstruction': 2, 'Lung Disease Classification': 2, 'Clinical Knowledge': 9, 'Grammatical Error Detection': 5, 'Adroid door-cloned': 1, 'Adroid door-human': 1, 'Adroid hammer-cloned': 1, 'Adroid hammer-human': 1, 'Adroid pen-cloned': 1, 'Adroid pen-human': 1, 'Adroid relocate-cloned': 1, 'Adroid relocate-human': 1, 'Gym halfcheetah-expert': 1, 'Gym halfcheetah-full-replay': 1, 'Gym halfcheetah-medium': 1, 'Gym halfcheetah-medium-expert': 1, 'Gym halfcheetah-medium-replay': 1, 'Gym halfcheetah-random': 1, 'Formation Energy': 2, 'Protein Function Prediction': 2, 'Infrared image super-resolution': 1, '3D Dense Shape Correspondence': 1, '3D Object Detection From Monocular Images': 1, '3D Object Retrieval': 1, '3D Shape Reconstruction From A Single 2D Image': 1, 'Code Documentation Generation': 5, 'Skin Lesion Segmentation': 16, 'Deception Detection': 4, 'NetHack': 1, 'Motion Compensation': 8, 'Classification Of Hyperspectral Images': 1, 'Fast Vehicle Detection': 1, 'Contextual Embedding for Source Code': 2, 'Exception type': 1, 'Function-docstring mismatch': 1, 'Swapped operands': 1, 'Wrong binary operator': 1, 'Elementary Mathematics': 2, 'Action Unit Detection': 6, 'Facial Action Unit Detection': 3, 'Fine-Grained Opinion Analysis': 1, 'SQL-to-Text': 1, 'Semi-Supervised Semantic Segmentation': 6, 'Unsupervised Skeleton Based Action Recognition': 2, 'Point Processes': 6, 'Unsupervised Text Classification': 2, 'Timedial': 2, 'Arabic Sentiment Analysis': 1, 'Two-sample testing': 3, 'Mitosis Detection': 3, 'Depth And Camera Motion': 1, 'Monocular Visual Odometry': 1, 'Landmark Recognition': 3, 'Subgroup Discovery': 2, 'Occlusion Handling': 2, 'Molecule Interpretation': 1, 'few-shot-ner': 2, 'Few-shot NER': 7, 'Vietnamese Datasets': 1, 'Vietnamese Machine Reading Comprehension': 3, 'Surgical tool detection': 1, 'Stereo Disparity Estimation': 1, 'Immune Repertoire Classification': 1, 'Prosody Prediction': 2, 'Sar Image Despeckling': 1, 'Early Action Prediction': 1, '3D Bin Packing': 1, 'Point Cloud Pre-training': 3, 'Amodal Instance Segmentation': 1, 'Reflection Removal': 2, 'Music Genre Transfer': 1, 'Referring Video Object Segmentation': 4, 'Speaker Profiling': 2, 'Playing the Game of 2048': 11, 'New Product Sales Forecasting': 1, 'Video Salient Object Detection': 2, 'Thompson Sampling': 5, 'Human Pose Forecasting': 2, 'Multi-Person Pose forecasting': 2, 'Robust 3D Semantic Segmentation': 3, 'Organ Detection': 1, 'Unsupervised Image Segmentation': 4, 'Backdoor Attack': 5, 'Facial Emotion Recognition': 5, '3d scene graph generation': 1, '3D Face Modelling': 3, 'Face Model': 6, 'Video Saliency Prediction': 2, 'Correlated Time Series Forecasting': 1, 'Multi-Exposure Image Fusion': 1, 'Seeing Beyond the Visible': 1, 'Cross-Lingual Paraphrase Identification': 2, 'Speech-to-Text Translation': 9, '3D Car Instance Understanding': 1, 'Online Domain Adaptation': 1, 'Fake Image Detection': 2, 'GAN image forensics': 4, 'Localization In Video Forgery': 2, 'Video Forensics': 1, 'Medical question pair similarity computation': 1, 'Multi-modal image segmentation': 1, 'Dense Captioning': 3, 'Self-Supervised Action Recognition': 8, 'Self-supervised Video Retrieval': 1, 'Nuclear Segmentation': 3, 'Hard-label Attack': 1, 'Wireframe Parsing': 1, 'Relationship Extraction (Distant Supervised)': 2, 'Talking Head Generation': 1, 'Multi-Agent Path Finding': 2, 'House Generation': 1, 'Multiobjective Optimization': 2, 'Material Classification': 1, 'Stereo-LiDAR Fusion': 2, 'Image Retrieval with Multi-Modal Query': 3, 'Hyperedge Prediction': 1, 'Set-to-Graph Prediction': 1, 'Unsupervised 3D Human Pose Estimation': 3, 'Blind Super-Resolution': 2, 'Suggestion mining': 3, 'Infant Brain Mri Segmentation': 1, 'Feature Compression': 2, 'Cross-Lingual Word Embeddings': 8, 'Paper generation': 2, 'Paper generation (abstract-to-conclusion)': 1, 'Paper generation (Conclusion-to-title)': 1, 'Paper generation (Title-to-abstract)': 1, 'Synthetic Speech Detection': 2, 'Automatic Machine Learning Model Selection': 1, 'Breast Mass Segmentation In Whole Mammograms': 1, 'Breast Tumour Classification': 3, 'Image Instance Retrieval': 1, 'Few-Shot Text Classification': 4, 'Visual Relationship Detection': 2, 'Supervised dimensionality reduction': 1, 'Rumour Detection': 7, 'STS-B': 3, 'Log Parsing': 1, 'Brain Morphometry': 2, 'Multi-Objective Reinforcement Learning': 1, 'Malware Detection': 5, 'Sentence Summarization': 5, 'DRS Parsing': 1, 'Timbre Interpolation': 1, 'Joint NER and Classification': 1, 'Multilingual text classification': 2, 'Conditional Text Generation': 4, 'Real-World Adversarial Attack': 2, 'Distractor Generation': 2, 'Atari Games 100k': 4, 'Genre classification': 7, 'Music Auto-Tagging': 2, 'Music Genre Classification': 5, 'text-based games': 3, 'Knowledge Base Completion': 5, '3D Plane Detection': 1, 'Arrhythmia Detection': 4, 'Heterogeneous Face Recognition': 5, 'Poll Generation': 2, 'Retinal OCT Disease Classification': 2, 'Cyber Attack Detection': 2, 'Solar Irradiance Forecasting': 1, 'Cross-Lingual Entity Linking': 1, 'Scanpath prediction': 3, 'Music Tagging': 3, 'Graph Sampling': 5, 'Pose Retrieval': 1, 'Abnormal Event Detection In Video': 2, 'Semi-supervised Anomaly Detection': 4, 'Side Channel Analysis': 2, 'Photo-To-Caricature Translation': 1, 'Lightfield': 1, 'Active Object Detection': 2, 'Unsupervised Anomaly Detection In Sound': 1, 'Image Outpainting': 3, 'One-shot visual object segmentation': 3, 'Game of Poker': 1, 'Moment Retrieval': 1, 'Drug–drug Interaction Extraction': 3, 'set matching': 1, 'Computer Security': 3, 'Graph Reconstruction': 4, 'Colorectal Gland Segmentation:': 2, 'Multi-tissue Nucleus Segmentation': 3, 'Sparse Learning': 5, 'Change Point Detection': 3, 'Document-level Event Extraction': 1, 'Extract Aspect': 1, 'FLUE': 2, 'OrangeSum': 1, 'tabular-classification': 2, 'Biologically-plausible Training': 1, 'Hand Segmentation': 5, 'Visual Prompting': 2, 'Design Synthesis': 1, 'Clustering Multivariate Time Series': 2, 'Multivariate Time Series Imputation': 5, 'Selection bias': 6, 'Air Pollution Prediction': 2, 'Single-View 3D Reconstruction': 2, 'Passage Ranking': 10, 'Landslide segmentation': 2, 'Financial Relation Extraction': 1, 'SENTER': 1, 'Friction': 3, 'Traffic Classification': 5, 'Text to 3D': 1, 'Question Rewriting': 2, 'Audio-Visual Active Speaker Detection': 1, 'RGB-D Salient Object Detection': 5, 'Lexical Normalization': 3, 'Graph Question Answering': 4, 'Video Games': 1, 'Weakly-supervised Temporal Action Localization': 2, 'Weakly Supervised Temporal Action Localization': 2, 'Temporal Relation Classification': 2, 'Table Search': 2, 'Heart rate estimation': 3, 'Motion Synthesis': 11, 'Curved Text Detection': 2, 'Kiss Detection': 1, 'Robust Face Recognition': 2, 'Cross-Lingual Sentiment Classification': 1, 'Stance Classification': 5, 'Building change detection for remote sensing images': 3, 'Change detection for remote sensing images': 4, 'Cross-Lingual Semantic Textual Similarity': 1, 'Music Emotion Recognition': 2, 'Face Morphing Attack Detection': 1, 'Polyp Segmentation': 1, 'Medical Image Enhancement': 1, 'Physics-informed machine learning': 3, 'Ontology Matching': 1, 'News Generation': 2, 'Recipe Generation': 3, 'Reference-based Super-Resolution': 1, 'Edge Classification': 3, 'Visual Storytelling': 7, 'multimodal generation': 3, 'Online Clustering': 1, 'Text Effects Transfer': 2, 'Traffic Data Imputation': 2, 'Optic Disc Segmentation': 4, 'Privacy Preserving Deep Learning': 2, 'Singer Identification': 1, 'Classifier calibration': 1, 'Lake Detection': 1, 'Lake Ice Monitoring': 2, 'Remote Sensing Image Classification': 3, 'Segmentation Of Remote Sensing Imagery': 2, 'The Semantic Segmentation Of Remote Sensing Imagery': 1, 'Webcam (RGB) image classification': 1, 'Conformal Prediction': 2, 'Prediction Intervals': 4, 'Surgical Gesture Recognition': 1, 'Complex Query Answering': 1, 'Object Detection in Artwork': 1, 'Intrinsic Image Decomposition': 1, 'Econometrics': 2, 'Inductive logic programming': 1, 'English Conversational Speech Recognition': 1, 'Linear Mode Connectivity': 1, 'CCG Supertagging': 2, 'Chemical-Protein Interaction Extraction': 1, 'Multi-modal Named Entity Recognition': 1, 'Scene-Aware Dialogue': 1, 'Heart Segmentation': 2, 'Grasp Contact Prediction': 1, 'Micro Expression Recognition': 4, 'Micro-Expression Recognition': 4, 'Chinese Sentiment Analysis': 2, 'Video Polyp Segmentation': 1, 'Protein Folding': 7, 'Twitter Event Detection': 1, 'Veracity Classification': 3, 'DrugProt': 1, 'Keyword Spotting CSS': 1, 'Sentiment Analysis (Product + User)': 1, 'Scene Graph Classification': 1, 'Scene Graph Detection': 1, 'Streaming Target Sound Extraction': 1, 'Target Sound Extraction': 1, 'Text-to-Music Generation': 1, 'Named Entity Recognition In Vietnamese': 1, 'Anomaly Classification': 2, 'Chinese Spell Checking': 2, 'Zero-Shot Video Object Segmentation': 2, 'Tree Decomposition': 1, 'SVBRDF Estimation': 1, 'Traffic Object Detection': 2, 'Summarization': 2, 'Semi-supervised time series classification': 2, 'Saliency Ranking': 1, 'Action Assessment': 1, 'Vehicle Speed Estimation': 2, 'One-stage Anchor-free Oriented Object Detection': 1, 'Cross-Domain Text Classification': 1, 'Dialogue Rewriting': 1, 'Facial expression generation': 1, 'Video Similarity': 1, 'Off-policy evaluation': 1, 'Spoken Command Recognition': 1, '3D Shape Reconstruction from Videos': 1, 'Model Poisoning': 1, 'Exponential degradation': 2, 'Weakly-supervised panoptic segmentation': 1, 'Multiview Gait Recognition': 2, 'satellite image super-resolution': 1, 'Sign Language Translation': 6, 'Reconstruction': 1, 'Subject Transfer': 1, 'Aspect Category Detection': 3, 'Hidden Aspect Detection': 1, 'Latent Aspect Detection': 1, 'Small-Footprint Keyword Spotting': 2, 'Text Infilling': 2, 'Heartbeat Classification': 1, 'Dependency Grammar Induction': 1, 'Unsupervised Dependency Parsing': 1, 'Malware Classification': 1, 'Multi-Modal Document Classification': 1, 'Classify 3D Point Clouds': 2, 'Scientific Results Extraction': 2, \"Alzheimer's Disease Detection\": 6, 'Multi-Label Classification Of Biomedical Texts': 1, 'Rgb-T Tracking': 2, 'Constrained Lip-synchronization': 1, 'Voice Query Recognition': 1, 'Weakly-supervised 3D Human Pose Estimation': 1, 'Popularity Forecasting': 1, 'Intent Classification and Slot Filling': 3, '3D Shape Retrieval': 2, 'EEG Denoising': 2, 'Muscle Tendon Junction Identification': 1, 'Comment Generation': 1, 'Dynamic Reconstruction': 2, 'Geophysics': 1, 'Molecule Captioning': 2, 'Text-based de novo Molecule Generation': 1, 'Salt-And-Pepper Noise Removal': 1, 'Variational Monte Carlo': 1, 'Zero Shot Segmentation': 2, 'Hyperspectral Image Denoising': 3, 'Camera Localization': 1, 'Loop Closure Detection': 3, 'Action Recognition In Still Images': 1, 'Split and Rephrase': 3, 'Monocular Cross-View Road Scene Parsing(Road)': 1, 'Monocular Cross-View Road Scene Parsing(Vehicle)': 1, 'Few-Shot action recognition': 1, 'Few Shot Action Recognition': 1, 'Zero-Shot Transfer Image Classification': 1, 'Zero-Shot Transfer Image Classification (CN)': 1, 'Unsupervised Few-Shot Image Classification': 1, 'Arousal Estimation': 2, 'Link Sign Prediction': 2, 'Face Sketch Synthesis': 2, 'Nutrition': 2, 'Story Visualization': 1, '3D Molecule Generation': 2, 'Multilingual Word Embeddings': 3, 'Node Clustering': 5, 'Pose Tracking': 5, 'Zero-Shot Video Question Answer': 1, 'Semi-Supervised RGBD Semantic Segmentation': 1, 'Steiner Tree Problem': 1, 'Blind Image Deblurring': 2, 'Temporal Tagging': 1, 'Continual Pretraining': 1, 'Image to 3D': 1, 'Multi-Hypotheses 3D Human Pose Estimation': 1, 'Unsupervised Facial Landmark Detection': 1, 'Unsupervised Facial Landmark Detection on MAFL': 1, 'Unsupervised Human Pose Estimation': 1, 'Unsupervised Keypoint Estimation': 1, 'Unsupervised Keypoints': 1, 'Unsupervised Landmark Detection': 2, 'Unsupervised 3D Multi-Person Pose Estimation': 1, 'Multi Class Text Classification': 2, 'Binary Relation Extraction': 2, 'Sleep apnea detection': 2, 'News Summarization': 3, 'Animal Pose Estimation': 2, 'Music Compression': 1, 'Evolving Domain Generalization': 1, 'Neural Network simulation': 1, 'Hindi Image Captioning': 2, 'Hurtful Sentence Completion': 1, 'Multiple Object Tracking with Transformer': 2, 'Robust Face Alignment': 1, 'Physical Attribute Prediction': 1, 'Remaining Useful Lifetime Estimation': 1, 'Community Search': 1, 'Semi Supervised Learning for Image Captioning': 1, 'Audio Tagging': 5, 'Line Segment Detection': 2, 'Im2Spec': 1, 'Materials Imaging': 1, 'Defocus Blur Detection': 1, 'Language-Based Temporal Localization': 1, 'Natural Language Visual Grounding': 1, 'Person-centric Visual Grounding': 1, 'Spatio-Temporal Video Grounding': 2, 'Video Grounding': 3, 'Core Promoter Detection': 1, 'Covid Variant Prediction': 1, 'DNA analysis': 2, 'Epigenetic Marks Prediction': 1, 'Genome Understanding': 1, 'Promoter Detection': 1, 'Splice Site Prediction': 1, 'Transcription Factor Binding Site Prediction': 1, 'Transcription Factor Binding Site Prediction (Human)': 1, 'Transcription Factor Binding Site Prediction (Mouse)': 1, 'Cross-Domain Iris Presentation Attack Detection': 1, 'Speech Dereverberation': 4, 'Parameter Prediction': 1, 'Sketch-Based Image Retrieval': 3, 'Contextualised Word Representations': 1, 'Online Multi-Object Tracking': 4, '3D Human Pose Tracking': 1, 'Unsupervised Object Segmentation': 6, 'Node Property Prediction': 3, 'One-Shot 3D Action Recognition': 1, 'Smart Grid Prediction': 1, 'RGBD Semantic Segmentation': 1, 'Setting-1/4': 1, 'Filling Level Estimation': 1, 'Filling Mass Estimation': 1, 'Filling Type Estimation': 1, 'Lung Nodule 3D Classification': 1, 'Lung Nodule 3D Detection': 1, 'Lung Nodule Detection': 2, 'Inductive knowledge graph completion': 1, 'Fundus to Angiography Generation': 2, 'Sketch-to-Image Translation': 1, 'Point Cloud Super Resolution': 1, 'Cloze (multi-choices) (Few-Shot)': 1, 'Cloze (multi-choices) (One-Shot)': 1, 'Cloze (multi-choices) (Zero-Shot)': 1, 'Common Sense Reasoning (Few-Shot)': 1, 'Common Sense Reasoning (One-Shot)': 1, 'Common Sense Reasoning (Zero-Shot)': 1, 'Natural Language Inference (Few-Shot)': 1, 'Natural Language Inference (One-Shot)': 1, 'Natural Language Inference (Zero-Shot)': 1, 'Reading Comprehension (Few-Shot)': 1, 'Reading Comprehension (One-Shot)': 1, 'Reading Comprehension (Zero-Shot)': 1, 'Commonsense Causal Reasoning': 1, 'Reverse Dictionary': 1, 'Dial Meter Reading': 2, 'Image-based Automatic Meter Reading': 2, 'Meter Reading': 3, 'Human Part Segmentation': 3, 'Multi-Human Parsing': 2, 'Compressed Image Super-resolution': 2, 'Cross-Modal Information Retrieval': 3, 'Generative Visual Question Answering': 1, 'Open Vocabulary Attribute Detection': 1, 'Dynamic Link Prediction': 1, 'Recognizing And Localizing Human Actions': 2, 'Data Summarization': 1, 'Contour Detection': 4, 'Tumour Classification': 2, 'Unsupervised semantic parsing': 1, \"Rubik's Cube\": 2, 'Quantum Chemistry Regression': 1, 'Anachronisms': 1, 'IUPAC Name Prediction': 1, 'Protein Annotation': 1, 'Stereotypical Bias Analysis': 2, 'Universal Domain Adaptation': 1, 'Image Animation': 1, 'Protein Design': 1, 'Protein Language Model': 1, 'Multimodal Activity Recognition': 2, 'Sequential sentence segmentation': 2, 'Horizon Line Estimation': 1, 'Semantic Text Matching': 1, '3D-Aware Image Synthesis': 1, 'Speech Extraction': 1, 'Font Style Transfer': 1, 'Dialog Act Classification': 2, 'Emotional Dialogue Acts': 1, 'Personality Recognition in Conversation': 1, 'Personality Trait Recognition': 2, 'Personalized and Emotional Conversation': 1, 'Network Interpretation': 1, 'Radar Object Detection': 1, 'Viewpoint Estimation': 1, '3D Multi-Object Tracking': 1, 'Game of Football': 1, 'Temporal Knowledge Graph Completion': 2, 'Multi-Oriented Scene Text Detection': 1, 'Mobile Security': 1, 'Event-Driven Trading': 1, 'Stock Trend Prediction': 1, 'Text-Based Stock Prediction': 1, '3D Object Reconstruction': 3, 'Key Detection': 1, 'Eeg Decoding': 1, '3D Point Cloud Data Augmentation': 1, 'Geometric Matching': 2, 'Automated Pancreas Segmentation': 2, 'ListOps': 3, 'FAD': 1, 'Image to Point Cloud Registration': 1, 'Fine-Grained Image Inpainting': 1, 'Discourse Segmentation': 3, 'Point Clouds': 1, 'Medical Image Deblurring': 1, 'Unsupervised Sentence Summarization': 1, 'Incomplete multi-view clustering': 1, 'Multiview Clustering': 1, 'Offline Handwritten Chinese Character Recognition': 1, 'Feedback Vertex Set (FVS)': 1, 'Factual Visual Question Answering': 1, 'Generalized Few-Shot Learning': 1, 'Computational Phenotyping': 1, 'CAPTCHA Detection': 1, 'Text Attribute Transfer': 1, 'Perceptual Distance': 1, 'Relation Linking': 1, 'Domain-IL Continual Learning': 1, 'Split-CIFAR-10': 1, 'Split-MNIST': 1, 'Thermal Infrared Object Tracking': 2, 'Sleep Arousal Detection': 2, 'Seismic Detection': 1, 'Cross-View Image-to-Image Translation': 2, 'Irregular Text Recognition': 1, 'Event-based Optical Flow': 1, 'Semantic entity labeling': 2, 'Sleep Quality': 2, '3D dense captioning': 2, 'Few Shot Temporal Action Localization': 1, 'Gender Bias Detection': 1, 'Participant Intervention Comparison Outcome Extraction': 1, 'Ischemic Stroke Lesion Segmentation': 2, 'Classify murmurs': 1, 'Phonocardiogram Classification': 1, 'Predict clinical outcome': 1, 'Table-based Fact Verification': 2, 'Novel Class Discovery': 1, 'Multi-Goal Reinforcement Learning': 3, 'Interest Point Detection': 1, 'Kinship face generation': 1, 'Foveation': 1, 'Valence Estimation': 1, 'Classification Consistency': 1, 'Jurisprudence': 2, 'Component Classification': 1, '2D Cyclist Detection': 1, 'Vehicle Pose Estimation': 1, 'Layout-to-Image Generation': 1, 'Lip password classification': 1, 'Seismic Inversion': 1, 'Long Term Action Anticipation': 1, 'Audio Multiple Target Classification': 1, 'Body Detection': 1, 'Source-Free Domain Adaptation': 1, 'Distributed Optimization': 1, 'Literature Mining': 1, 'Fovea Detection': 3, 'Lip to Speech Synthesis': 1, 'Snow Removal': 1, 'Embeddings Evaluation': 1, 'Review Generation': 1, 'Dialogue Interpretation': 1, 'Implicatures': 1, 'Dialogue Evaluation': 1, 'Cloud Removal': 1, 'hand-object pose': 1, 'Counterfactual Inference': 2, 'Action Understanding': 1, 'Earth Surface Forecasting': 1, 'Weakly-Supervised Object Segmentation': 1, 'Trajectory Clustering': 1, 'Weakly Supervised Defect Detection': 1, 'Inverse-Tone-Mapping': 1, 'Tone Mapping': 4, 'Robust Design': 1, 'Trajectory Planning': 2, 'One-Shot Segmentation': 1, 'Multi-Hop Reading Comprehension': 1, 'Low-latency processing': 1, 'Game of Chess': 1, 'Game of Shogi': 1, 'Text-to-Face Generation': 2, 'Few-Shot NLI': 1, 'Audio Question Answering': 1, 'Chinese Reading Comprehension': 1, 'Profile Generation': 1, 'Webpage Object Detection': 1, 'Data Free Quantization': 3, 'Fault localization': 1, 'Multilabel Text Classification': 1, 'Time Series Alignment': 2, 'Frame Duplication Detection': 1, 'Dynamic Topic Modeling': 1, 'Additive models': 1, 'Fingertip Detection': 1, 'Hand Detection': 1, 'Superpixel Image Classification': 1, 'Low Resource Named Entity Recognition': 1, 'Ancient Text Restoration': 1, 'EMG Gesture Recognition': 1, 'text-guided-image-editing': 1, 'Vessel Detection': 2, 'K-complex detection': 1, 'Sleep Micro-event detection': 1, 'Spindle Detection': 1, 'PAC learning': 1, 'Automated Writing Evaluation': 1, 'Single Image Haze Removal': 1, 'SENTS': 2, 'Bird Audio Detection': 1, '3D Absolute Human Pose Estimation': 1, 'NMR J-coupling': 1, 'Semantic Contour Prediction': 1, 'Cantilever Beam': 1, '3D Point Cloud Reinforcement Learning': 1, 'Image Classification with Human Noise': 1, 'Image Classification with Label Noise': 1, 'Aerial Scene Classification': 2, 'Sports Analytics': 1, 'Object Segmentation': 1, 'Vietnamese Word Segmentation': 1, 'Multi-future Trajectory Prediction': 1, 'audio-visual event localization': 1, 'Sequence-to-sequence Language Modeling': 1, 'Multiple People Tracking': 1, 'Multiview Learning': 1, 'Video Style Transfer': 1, 'Speech Synthesis - Assamese': 1, 'Speech Synthesis - Bengali': 1, 'Speech Synthesis - Bodo': 1, 'Speech Synthesis - Gujarati': 1, 'Speech Synthesis - Hindi': 1, 'Speech Synthesis - Kannada': 1, 'Speech Synthesis - Malayalam': 1, 'Speech Synthesis - Manipuri': 1, 'Speech Synthesis - Marathi': 1, 'Speech Synthesis - Odia': 1, 'Speech Synthesis - Rajasthani': 1, 'Speech Synthesis - Tamil': 1, 'Speech Synthesis - Telugu': 1, 'Speculation Detection': 1, 'Multi-modal Classification': 1, 'Entity Extraction using GAN': 2, 'Optic Cup Segmentation': 2, 'Label Error Detection': 1, 'Croatian Text Diacritization': 1, 'Czech Text Diacritization': 1, 'French Text Diacritization': 1, 'Hungarian Text Diacritization': 1, 'Irish Text Diacritization': 1, 'Latvian Text Diacritization': 1, 'Polish Text Diacritization': 1, 'Romanian Text Diacritization': 1, 'Slovak Text Diacritization': 1, 'Spanish Text Diacritization': 1, 'Turkish Text Diacritization': 1, 'Vietnamese Text Diacritization': 1, 'Action Recognition on HMDB-51': 1, 'Animal Action Recognition': 1, 'Irregular Time Series': 1, 'Clustering Algorithms Evaluation': 1, 'Image-Based Localization': 1, 'Weakly Supervised Action Segmentation (Transcript)': 1, 'Multi-Object Tracking and Segmentation': 1, 'Junction Detection': 1, 'Seismic Interpretation': 1, 'Multi-step retrosynthesis': 1, 'Cross-Lingual Document Classification': 2, 'Duplicate-Question Retrieval': 1, 'News Retrieval': 1, 'Tweet Retrieval': 1, 'Span-Extraction MRC': 1, 'Sentence ReWriting': 1, 'Face Age Editing': 1, 'Phone-level pronunciation scoring': 1, 'Utterance-level pronounciation scoring': 1, 'Word-level pronunciation scoring': 1, 'Blood pressure estimation': 1, 'Skill Mastery': 1, 'Cross-Lingual Abstractive Summarization': 2, '3D Multi-Person Pose Estimation (absolute)': 1, '3D Multi-Person Pose Estimation (root-relative)': 1, 'Semantic Part Detection': 1, 'Image-text Classification': 1, 'Multilingual Image-Text Classification': 1, 'Unsupervised Video Summarization': 1, 'Spectral Super-Resolution': 1, 'Pornography Detection': 1, 'CARLA MAP Leaderboard': 1, 'Few-Shot Audio Classification': 1, 'Driver Identification': 1, 'Clinical Assertion Status Detection': 1, 'Epidemiology': 1, 'Mass Segmentation From Mammograms': 1, 'Complex Word Identification': 1, 'Home Activity Monitoring': 1, 'Physical Commonsense Reasoning': 1, 'Multi-modal Entity Alignment': 1, 'Optic Cup Detection': 1, 'Optic Disc Detection': 1, 'Chemical Indexing': 1, 'abstractive question answering': 1, 'Clothes Landmark Detection': 1, 'Joint Radar-Communication': 1, 'Diachronic Word Embeddings': 1, 'Mapping Of Lung Nodules In Low-Dose Ct Images': 1, 'API Sequence Recommendation': 1, 'Code Comment Generation': 1, 'Git Commit Message Generation': 1, 'Preference Mapping': 1, 'SNES Games': 1, 'Medical Image Denoising': 1, 'Underwater Acoustic Classification': 1, 'Blood Cell Count': 1, 'CBC TEST': 1, 'Industrial Robots': 1, 'Android Malware Detection': 1}\n"
          ]
        }
      ]
    },
    {
      "cell_type": "code",
      "source": [
        "thresh = 30\n",
        "rare_tasks = [ key for key, value in task_count.items() if value < thresh]\n",
        "print(len(rare_tasks))\n",
        "print(rare_tasks)"
      ],
      "metadata": {
        "colab": {
          "base_uri": "https://localhost:8080/"
        },
        "id": "bcDH0fuCXaiF",
        "outputId": "d99898bd-6a1a-457c-8e03-cf3a7d7f483e"
      },
      "execution_count": null,
      "outputs": [
        {
          "output_type": "stream",
          "name": "stdout",
          "text": [
            "1926\n",
            "['Unsupervised Image-To-Image Translation', 'Human Mesh Recovery', 'Exposure Fairness', 'Clone Detection', 'Code Search', 'Partial Domain Adaptation', 'Fine-Grained Image Classification', 'Medical Diagnosis', 'severity prediction', 'Data Visualization', 'Multi-Label Image Classification', 'Leadership Inference', 'Human-Object Interaction Detection', '3D Object Classification', 'Novel Concepts', 'Generative Question Answering', 'text similarity', 'Scene Labeling', 'Knowledge Graph Embedding', 'text annotation', 'Text Spotting', 'Temporal Relation Extraction', 'Fish Detection', 'Multivariate Time Series Forecasting', 'Probabilistic Time Series Forecasting', 'Traffic Sign Detection', 'Traffic Sign Recognition', 'Semantic correspondence', 'Extractive Summarization', 'Extractive Text Summarization', 'Program induction', 'Face Alignment', 'Gaze Estimation', 'Head Pose Estimation', 'Graph Regression', 'Initial Structure to Relaxed Energy (IS2RE), Direct', 'Property Prediction', 'Instruction Following', 'Science Question Answering', 'Marketing', 'Audio Generation', 'LEMMA', 'Document Embedding', 'Keyphrase Extraction', 'Keyword Extraction', 'Plant Phenotyping', 'Scene Generation', 'Intent Recognition', 'Knowledge Probing', 'Open Vocabulary Object Detection', 'Template Matching', 'Miscellaneous', 'D4RL', 'Activity Prediction', 'Visual Commonsense Reasoning', 'Data-to-Text Generation', 'Sentence Fusion', 'Image Deblurring', 'Traveling Salesman Problem', 'Fault Detection', 'Out of Distribution (OOD) Detection', 'Sarcasm Detection', 'Lane Detection', 'Bilevel Optimization', 'Second-order methods', 'Breast Cancer Detection', 'graph construction', 'Optical Character Recognition', 'Visual Speech Recognition', 'Action Analysis', 'Deep Clustering', 'Document AI', 'Motion Detection', 'Out-of-Distribution Generalization', 'Semi-Supervised Image Classification', 'Hyperparameter Optimization', 'Person Retrieval', 'Text based Person Retrieval', 'Text-based Person Retrieval', 'Video-Based Person Re-Identification', '2D Pose Estimation', '3D Multi-Person Pose Estimation', '3D Pose Estimation', 'Multimodal Emotion Recognition', 'Referring Expression', 'Vision and Language Navigation', 'Few-Shot Object Detection', 'Zero-Shot Cross-Lingual Transfer', 'Gesture Generation', 'Foreground Segmentation', 'Stock Market Prediction', 'Human motion prediction', 'motion prediction', 'Left Ventricle Segmentation', 'Network Embedding', 'Retinal Vessel Segmentation', 'Pose Prediction', 'Video Alignment', '3D Part Segmentation', '3D Point Cloud Classification', 'Few-Shot 3D Point Cloud Classification', 'Time Series Prediction', 'Philosophy', 'Video Object Detection', 'Weakly-supervised Learning', 'Weakly Supervised Object Detection', 'Multi-Document Summarization', 'Spelling Correction', 'Grammatical Error Correction', 'Dota 2', 'Starcraft', 'Scene Text Detection', 'Audio-Visual Speech Recognition', 'Lipreading', 'Lemmatization', 'Occupation prediction', 'Saliency Detection', 'Real-Time Visual Tracking', 'Visual Object Tracking', 'Visual Tracking', 'Graph Matching', 'Image Dehazing', 'Single Image Dehazing', 'Probabilistic Programming', 'Model Optimization', 'Stock Price Prediction', 'Real-time Instance Segmentation', 'Temporal Sequences', 'Paraphrase Identification', 'Text Matching', 'Visual Reasoning', 'Local Distortion', 'MS-SSIM', '3D Face Reconstruction', 'Face Reconstruction', 'Robot Navigation', 'Indoor Localization', 'Document Translation', 'Word Translation', 'Flare Removal', 'Infrared And Visible Image Fusion', 'Low-Light Image Enhancement', 'Low-light Pedestrian Detection', 'Multispectral Object Detection', 'Thermal Infrared Pedestrian Detection', 'Learning Semantic Representations', 'Model extraction', 'Sentence Pair Modeling', 'energy management', 'Event Extraction', 'Video Reconstruction', 'Word Alignment', 'Fraud Detection', 'Emotion Recognition in Conversation', 'Data Compression', '3D Classification', 'Natural Questions', 'Non-Intrusive Load Monitoring', 'Cultural Vocal Bursts Intensity Prediction', 'Unsupervised Semantic Segmentation', 'Event-based vision', 'Lexical Simplification', 'Text Simplification', 'Document-level Relation Extraction', 'Music Modeling', 'Lip Reading', 'Instrument Recognition', 'Speaker Recognition', 'Dialog Relation Extraction', 'relation explanation', 'Vehicle Re-Identification', 'Graph Property Prediction', 'Semi-Supervised Object Detection', 'Stochastic Optimization', 'Topic Models', 'Crowd Counting', 'Document Level Machine Translation', 'Toxic Spans Detection', 'Gender Classification', 'Gender Prediction', 'Video Compression', 'Dictionary Learning', 'Learning Theory', 'Majority Voting Classifier', 'Persian Sentiment Analysis', 'Partially Observable Reinforcement Learning', 'Electromyography (EMG)', 'SST-2', 'Humanitarian', 'Tensor Decomposition', 'Document Ranking', 'Paraphrase Generation', 'Quantum Machine Learning', 'Speech Separation', 'Probing Language Models', 'Hardware Aware Neural Architecture Search', 'Bias Detection', 'Movie Recommendation', 'Fine-Grained Visual Categorization', 'Action Recognition In Videos', 'Sound Event Detection', 'Surface Normal Estimation', 'Weakly-Supervised Object Localization', 'Explainable artificial intelligence', 'XAI', 'Safe Exploration', 'Image Forensics', 'Satire Detection', 'Audio Fingerprint', 'Music Information Retrieval', 'Handwriting generation', 'Handwritten Word Generation', 'Diabetic Retinopathy Grading', 'AMR Parsing', 'Image Matting', 'Motion Estimation', 'Video Matting', 'Fashion Synthesis', 'Image Stitching', 'Virtual Try-on', 'General Knowledge', 'Sentence Ordering', 'Sentence Similarity', 'Rain Removal', 'Single Image Deraining', 'Retrosynthesis', 'SMAC', 'SMAC+', 'Medical Visual Question Answering', '6D Pose Estimation', '6D Pose Estimation using RGB', 'Multi-Armed Bandits', 'Feature Importance', 'Single-step retrosynthesis', 'Document Image Classification', 'Sequential Recommendation', 'Activity Recognition In Videos', 'No real Data Binarization', 'Synthetic Data Binarization', 'Synthetic Data Generation', 'Face Anti-Spoofing', 'Organ Segmentation', 'Generalized Zero-Shot Learning', 'Robust Speech Recognition', 'MORPH', 'Code Completion', 'Pseudo Label', 'Talking Face Generation', 'Aspect Extraction', 'Keyphrase Generation', 'Small Object Detection', 'Matrix Completion', 'Spatial Interpolation', 'Video Frame Interpolation', 'Hyperspectral Image Classification', 'Audio captioning', 'Code Translation', 'Video Background Subtraction', 'Video Anomaly Detection', 'One-Shot Learning', 'Next-basket recommendation', 'Noisy Speech Recognition', \"Montezuma's Revenge\", '3D Semantic Scene Completion', 'Stereo Matching', 'Grounded Situation Recognition', 'Situation Recognition', 'Chunking', 'Interpretable Machine Learning', 'Referring Expression Comprehension', 'Referring Expression Segmentation', 'Language Acquisition', 'Personalized Federated Learning', 'Meme Classification', 'Sequential Image Classification', 'Facial Landmark Detection', 'Mutual Information Estimation', 'Video Question Answering', 'Video Retrieval', 'Relation Network', 'Human Detection', 'Multi-Object Tracking', 'Pneumonia Detection', 'Thoracic Disease Classification', 'Semantic Role Labeling', 'Linguistic Acceptability', 'One-Shot Object Detection', 'Cardiac Segmentation', 'TriviaQA', 'Multimodal Sentiment Analysis', 'Blocking', 'Propaganda detection', 'Sparse Representation-based Classification', 'Audio Super-Resolution', 'Multimodal Text and Image Classification', 'News Annotation', 'News Classification', 'Robot Manipulation', 'Unseen Object Instance Segmentation', 'HDR Reconstruction', 'Automated Essay Scoring', 'Hard Attention', 'Face Hallucination', 'Skull Stripping', 'Extreme Summarization', 'Data Integration', 'Gravitational Wave Detection', 'Facial Expression Recognition', 'Hyperspectral Image Super-Resolution', 'Video Description', 'backdoor defense', 'Data Poisoning', 'Disaster Response', 'Human Parsing', 'Entity Embeddings', 'Colorization', 'Image Colorization', 'Scene Parsing', 'Brain Decoding', 'Formal Logic', 'Cross-Modal Retrieval', 'Multimodal Deep Learning', 'Scene Flow Estimation', 'Dialogue State Tracking', 'End-To-End Dialogue Modelling', 'Multi-domain Dialogue State Tracking', 'Scene Text Recognition', 'Efficient Exploration', 'Knowledge Graph Embeddings', 'Multi-hop Question Answering', 'RGB Salient Object Detection', 'Satellite Image Classification', 'Multimodal Abstractive Text Summarization', 'Value prediction', 'Myocardium Segmentation', 'Head Detection', '3D Action Recognition', 'Depth Prediction', 'Medical Concept Normalization', 'Medical Relation Extraction', 'Sentence-Pair Classification', 'Point Cloud Classification', 'Generalization Bounds', 'DeepFake Detection', 'Keypoint Detection', 'Burst Image Reconstruction', 'Burst Image Super-Resolution', 'Multi-Frame Super-Resolution', 'Action Quality Assessment', 'Hierarchical Reinforcement Learning', 'Malware Analysis', 'Vulnerability Detection', 'Multi Label Text Classification', 'Multi-Label Text Classification', 'Entity Alignment', 'Face Identification', 'Person Identification', 'Saliency Prediction', 'Knowledge Graph Completion', 'Text-to-Video Generation', 'Answer Generation', 'Cloze Test', 'Readmission Prediction', 'Aesthetics Quality Assessment', 'Few-Shot Image Classification', 'Music Transcription', 'Answer Selection', 'Sign Language Recognition', 'Extractive Question-Answering', 'Nuclei Classification', 'Text to Video Retrieval', 'Entity Typing', 'Pedestrian Trajectory Prediction', 'Texture Classification', 'Boundary Detection', 'Automatic Sleep Stage Classification', 'Sleep Stage Detection', 'Sleep Staging', 'Real-Time Semantic Segmentation', 'Medical Report Generation', 'Image-Variation', 'Physical Simulations', 'Fine-Grained Visual Recognition', 'Sensor Fusion', 'Citation Prediction', 'graph partitioning', 'Image-level Supervised Instance Segmentation', 'Weakly-supervised instance segmentation', 'Program Synthesis', 'Emotion Classification', 'Starcraft II', 'Disparity Estimation', 'Superpixels', 'Image Clustering', 'Time Series Clustering', \"Bird's-Eye View Semantic Segmentation\", 'Scene Classification', 'Cross-Lingual Question Answering', 'Multi-task Language Understanding', 'coreference-resolution', 'Joint Entity and Relation Extraction', 'One-Class Classification', 'Traffic Accident Detection', 'Headline Generation', 'Causal Inference', '3D Medical Imaging Segmentation', 'Video Instance Segmentation', 'Video Segmentation', 'Model-based Reinforcement Learning', 'Visual Navigation', 'Face Reenactment', 'Texture Synthesis', 'Face Image Quality', 'Face Image Quality Assessment', 'Image Quality Estimation', 'Goal-Oriented Dialogue Systems', 'Interactive Evaluation of Dialog', 'Task-Oriented Dialogue Systems', 'User Simulation', 'Toxic Comment Classification', 'Subjectivity Analysis', 'Word Similarity', 'Hand Pose Estimation', 'Ad-Hoc Information Retrieval', 'Cloud Detection', 'Camera Relocalization', 'RTE', 'Dense Video Captioning', 'Temporal Action Proposal Generation', 'Model Editing', 'Abusive Language', 'Extreme Multi-Label Classification', 'Motion Forecasting', 'Counterfactual Explanation', 'Solar Flare Prediction', 'Syntax Representation', 'Vocal Bursts Type Prediction', 'Image Morphing', 'Systematic Generalization', 'Automated Theorem Proving', 'Crack Segmentation', 'Human-Object Relationship Detection', 'Survival Analysis', 'Survival Prediction', 'Graph Mining', 'Spatio-Temporal Forecasting', 'Time Series Regression', 'Small Data Image Classification', 'Nonparametric Clustering', 'Bokeh Effect Rendering', 'Image Shadow Removal', 'Nonhomogeneous Image Dehazing', 'Shadow Removal', 'Stereo Image Super-Resolution', 'Gesture Recognition', 'Molecular Docking', 'Stereo Depth Estimation', 'Nested Mention Recognition', 'Nested Named Entity Recognition', 'Line Detection', 'Clickbait Detection', 'Action Generation', 'Human action generation', 'Robust 3D Object Detection', 'Speaker Separation', 'Inference Attack', 'Membership Inference Attack', 'Multi-Label Learning', 'Disease Prediction', 'Code Summarization', '3D Human Reconstruction', '3D Multi-Person Mesh Recovery', 'Text-Independent Speaker Recognition', 'Unconditional Video Generation', 'Key Information Extraction', 'Line Art Colorization', 'Lesion Detection', 'Structured Prediction', 'Semi-Supervised Video Object Segmentation', 'Video Object Segmentation', 'Session-Based Recommendations', 'Land Cover Classification', 'Learning-To-Rank', 'Color Constancy', 'Dichotomous Image Segmentation', 'Thermal Image Segmentation', 'Video Restoration', 'Word Sense Induction', 'Algorithmic Trading', 'Robotic Grasping', 'Misconceptions', 'Event Argument Extraction', 'Opinion Mining', 'Topic Classification', 'Density Ratio Estimation', 'Product Categorization', 'Few-Shot Semantic Segmentation', 'Video Denoising', 'Stock Prediction', 'Long Form Question Answering', 'Respiratory Failure', 'Fill Mask', 'TGIF-Action', 'TGIF-Frame', 'TGIF-Transition', 'Product Recommendation', '2D Object Detection', 'Avg', 'Cross-device ASR', 'Cross-environment ASR', 'Load Forecasting', 'Audio Denoising', 'Speech Denoising', 'Morphological Analysis', 'Logical Reasoning', 'Multimodal Machine Translation', 'Safe Reinforcement Learning', 'Inductive Relation Prediction', 'Cross-Modal Person Re-Identification', 'Bilingual Lexicon Induction', 'Cross-Lingual NER', 'Dynamic Facial Expression Recognition', 'General Reinforcement Learning', 'Story Generation', 'speaker-diarization', 'Speaker Diarization', 'COVID-19 Diagnosis', 'Image Generation from Scene Graphs', 'Scene Graph Generation', 'Job Shop Scheduling', 'Bayesian Optimisation', 'Stance Detection', 'Intrusion Detection', 'Network Intrusion Detection', 'Text-Independent Speaker Verification', 'Open World Object Detection', 'Interactive Segmentation', 'Hand Gesture Recognition', 'Hand-Gesture Recognition', 'Table Recognition', 'Seizure Detection', 'Dense Pixel Correspondence Estimation', '3D Face Animation', 'Claim Verification', 'Fact Verification', 'Click-Through Rate Prediction', 'Room Impulse Response (RIR)', 'Community Detection', 'Graph Clustering', 'Motion Segmentation', 'Object Categorization', 'Self-Supervised Image Classification', 'Visual Entailment', 'Game of Go', 'Lesion Classification', 'Skin Lesion Classification', 'Spam detection', '3D Shape Representation', 'Surface Reconstruction', 'Finger Vein Recognition', 'Unsupervised Opinion Summarization', 'Math Word Problem Solving', 'Discourse Parsing', 'Visual Dialog', 'Causal Emotion Entailment', 'Emotion Cause Extraction', 'Recognizing Emotion Cause in Conversations', 'Temporal Information Extraction', 'Acrobot', '2D Human Pose Estimation', 'Lung Cancer Diagnosis', 'Action Localization', 'Hippocampus', 'Symbolic Regression', 'Relationship Detection', 'Conversational Search', 'Compressive Sensing', 'Multilingual NLP', 'Time-Series Few-Shot Learning with Heterogeneous Channels', 'Question-Answer-Generation', 'Audio inpainting', 'GSM8K', 'dialog state tracking', 'Jet Tagging', 'Sequence-To-Sequence Speech Recognition', 'Aggression Identification', 'Misogynistic Aggression Identification', 'Pedestrian Attribute Recognition', 'Image Deconvolution', 'Entity Resolution', 'Sentence segmentation', 'Policy Gradient Methods', 'Molecular Property Prediction', 'Event Causality Identification', 'Self-Learning', 'Gait Recognition', 'Fire Detection', 'Video-Text Retrieval', 'Video to Text Retrieval', 'Zero-Shot Action Recognition', 'Graph-to-Sequence', 'Astronomy', 'Object Proposal Generation', 'Explanation Generation', 'Defect Detection', 'Passage Retrieval', 'Chinese Word Segmentation', 'Zero-shot Image Retrieval', 'Sketch Recognition', 'Crop Classification', 'Layout Design', 'MRI Reconstruction', 'Semantic Composition', 'Emotional Intelligence', 'Citation Recommendation', 'Monocular 3D Human Pose Estimation', '3D Human Dynamics', 'Resynthesis', 'Physiological Computing', 'Real-Time Strategy Games', 'Sensor Modeling', 'Skills Assessment', 'Skills Evaluation', 'Oriented Object Detection', 'Aerial Video Semantic Segmentation', 'Variable Selection', 'Document Layout Analysis', 'UIE', 'Underwater Image Restoration', 'Sound Classification', 'Extracting Buildings In Remote Sensing Images', 'Spike Sorting', 'Time Series Denoising', 'Cross-corpus', 'Action Triplet Recognition', 'Weakly Supervised Action Localization', 'token-classification', 'Token Classification', 'Riemannian optimization', 'Cross-Lingual Information Retrieval', 'ECG Classification', 'Deep Attention', 'CoLA', 'Arithmetic Reasoning', 'Text-Dependent Speaker Verification', 'Handwritten Digit Recognition', 'Zero-Shot Intent Classification', 'Semi-supervised Medical Image Segmentation', 'Problem Decomposition', 'Steering Control', 'Novel View Synthesis', 'Ethics', 'Rotated MNIST', 'Information Plane', 'Conversational Response Selection', 'Classification with Binary Neural Network', 'Dynamic graph embedding', 'Age And Gender Classification', 'Age Classification', 'Age Estimation', 'Photo Retouching', 'Semi-Supervised Instance Segmentation', 'Logical Fallacies', 'Audio Classification', 'Abuse Detection', 'Facial Expression Translation', 'Depth Completion', 'License Plate Recognition', 'Unsupervised Speech Recognition', 'Negation and Speculation Cue Detection', 'Negation and Speculation Scope resolution', 'Negation Scope Resolution', 'Speculation Scope Resolution', '3D human pose and shape estimation', '3D Human Shape Estimation', 'Melanoma Diagnosis', 'Efficient Neural Network', 'Neural Network Compression', 'Program Repair', 'Inverse Rendering', 'Single-Image Portrait Relighting', 'Dialect Identification', 'Clinical Concept Extraction', 'Natural Language Queries', 'Synthetic-to-Real Translation', 'Email Thread Summarization', 'Visual Place Recognition', 'Sentence Compression', 'Unsupervised Sentence Compression', 'JPEG Artifact Removal', 'Aspect Sentiment Triplet Extraction', 'Activity Detection', 'Term Extraction', 'Keyword Spotting', 'Unconditional Image Generation', 'Unsupervised Extractive Summarization', 'Univariate Time Series Forecasting', 'Music Style Transfer', 'RGB-D Reconstruction', 'Band Gap', 'band gap classification', 'band gap regression', 'Temporal Localization', 'Self-Knowledge Distillation', 'class-incremental learning', 'Class Incremental Learning', 'Incremental Learning', 'Question Similarity', 'Distributional Reinforcement Learning', 'Volumetric Medical Image Segmentation', 'Transition-Based Dependency Parsing', 'Face Parsing', 'Hope Speech Detection', 'Transliteration', 'Mixed Reality', 'Mathematical Reasoning', 'Bangla Spelling Error Correction', 'Object Discovery', 'Video Enhancement', 'Medical Image Classification', 'Road Damage Detection', 'Gaze Prediction', 'Auxiliary Learning', 'Weakly supervised segmentation', 'Bridging Anaphora Resolution', 'Point Cloud Generation', 'AMR-to-Text Generation', 'KB-to-Language Generation', 'KG-to-Text Generation', 'Scene Segmentation', 'Relational Reasoning', 'Learning with noisy labels', 'License Plate Detection', 'Social Navigation', 'Multiple Sequence Alignment', 'Protein Secondary Structure Prediction', 'Graph Anomaly Detection', '3D Character Animation From A Single Photo', '2D Semantic Segmentation', 'Camera Calibration', 'Point cloud reconstruction', 'SQL Parsing', 'Text-To-SQL', 'Motion Planning', 'Point Cloud Segmentation', 'Abstractive Dialogue Summarization', 'dialogue summary', 'Inference Optimization', 'Low-Rank Matrix Completion', 'Robust Object Detection', 'Dialogue Management', 'Emotional Speech Synthesis', 'Expressive Speech Synthesis', 'Fact Checking', 'Experimental Design', 'Style Generalization', 'Graph Similarity', 'Human Interaction Recognition', 'Real-to-Cartoon translation', 'Image-text matching', 'Polyphone disambiguation', 'Multi-Person Pose Estimation', 'News Recommendation', 'Causal Discovery', 'Decision Making Under Uncertainty', 'Tensor Networks', 'Explainable Models', 'Explainable Recommendation', 'Information Retrieva', 'Music Recommendation', 'Reasoning Chain Explanations', '3D Shape Generation', 'LAMBADA', 'Pose Transfer', 'Audio-Visual Synchronization', 'Blood Cell Detection', 'Cell Segmentation', 'MuJoCo Games', 'Cross-Domain Few-Shot', 'cross-domain few-shot learning', 'Open Information Extraction', 'Electron Microscopy Image Segmentation', 'Cell Detection', 'Column Type Annotation', 'Table annotation', 'Depression Detection', '3D Shape Reconstruction', 'Object Reconstruction', 'Text Segmentation', 'Video Quality Assessment', 'Video Saliency Detection', 'Adversarial Defense', 'Trajectory Forecasting', 'Argument Mining', 'Query-Based Extractive Summarization', 'Pancreas Segmentation', 'Medical Object Detection', 'Font Generation', 'Generalizable Person Re-identification', 'Meta Reinforcement Learning', 'Unsupervised Image Classification', 'Topological Data Analysis', 'Biomedical Information Retrieval', 'Knowledge Tracing', 'Image Imputation', 'Community Question Answering', 'Table Retrieval', 'NONPARAMETRIC DEEP CLUSTERING', 'Zero-Shot Multi-Speaker TTS', 'Sentence Completion', 'Action Anticipation', 'Online Action Detection', 'Transfer Reinforcement Learning', 'Multiple Choice Question Answering (MCQA)', 'Image Stylization', 'One-Shot Face Stylization', 'GPR', 'Time Series Anomaly Detection', 'UCCA Parsing', 'Unsupervised Person Re-Identification', 'Long-tail Learning', 'Entity Disambiguation', 'Source Code Summarization', 'Zero-Shot Cross-Modal Retrieval', 'Molecular Graph Generation', 'DQN Replay Dataset', 'Handwriting Recognition', 'Histopathological Image Classification', 'Intent Discovery', 'Text Augmentation', 'Table-to-Text Generation', 'Multimodal Patch Matching', 'Patch Matching', 'Text Style Transfer', 'Unsupervised Text Style Transfer', 'Spoken Dialogue Systems', 'Learning Word Embeddings', 'Person Recognition', 'Short-Text Conversation', 'Triple Classification', 'Zero-Shot Image Classification', 'Adversarial Text', 'Colorectal Polyps Characterization', 'Skin Cancer Segmentation', 'Action Segmentation', 'Transductive Learning', 'De-identification', 'One-class classifier', 'Open Set Learning', 'Handwritten Document Recognition', 'Handwritten Text Recognition', 'Multiple Object Tracking', 'Argument Retrieval', 'Few-Shot Class-Incremental Learning', 'MRPC', 'Camouflaged Object Segmentation', 'Long-range modeling', 'outlier ensembles', 'Implicit Discourse Relation Classification', 'Multi-target Domain Adaptation', 'Dialogue Understanding', 'Initial Structure to Relaxed Energy (IS2RE)', 'Seizure prediction', 'Binary text classification', 'Text Pair Classification', 'Conversational Question Answering', 'Conversation Disentanglement', 'Monocular 3D Object Localization', 'Length-of-Stay prediction', 'Mortality Prediction', 'Predicting Patient Outcomes', 'Remaining Length of Stay', 'Medical Image Registration', 'Detecting Image Manipulation', 'Image Cropping', 'Image Manipulation Detection', 'image smoothing', 'ROI-based image generation', 'Lay Summarization', 'Scientific Document Summarization', 'Weather Forecasting', 'Action Parsing', 'Music Source Separation', 'Time Series Averaging', 'Date Understanding', 'Protein Structure Prediction', 'Image Defocus Deblurring', 'L2 Regularization', 'Face Verification', 'QQP', 'Medical Procedure', 'Video Editing', 'Homography Estimation', 'Short Text Clustering', 'Text Clustering', 'Electrical Engineering', 'Rolling Shutter Correction', '3D Object Recognition', 'Point Cloud Retrieval', 'Zero-Shot Text Classification', 'Capacity Estimation', '3D Semantic Segmentation', 'Variable misuse', 'Gesture-to-Gesture Translation', 'Stochastic Block Model', 'Copy Detection', '3D Feature Matching', '3D Scene Reconstruction', 'Stereo Matching Hand', 'Spinal Cord Gray Matter - Segmentation', 'UNET Quantization', 'Propaganda span identification', 'Morphological Tagging', 'Total Energy', 'Pansharpening', 'Point Cloud Completion', 'Target Speaker Extraction', 'Acoustic Scene Classification', 'Robust classification', 'Graph structure learning', '3D Shape Modeling', 'Question Selection', 'Flooded Building Segmentation', 'Formality Style Transfer', 'Person Search', 'Simultaneous Localization and Mapping', 'Cross-Lingual Bitext Mining', 'Low-Resource Neural Machine Translation', 'Riddle Sense', 'Spoken language identification', 'Supervised Anomaly Detection', 'Content-Based Image Retrieval', 'Edge Detection', 'Lung Nodule Segmentation', 'Caricature', 'Table Detection', 'Lung Nodule Classification', '3D Instance Segmentation', '3D Semantic Instance Segmentation', 'Semi-supervised Medical Image Classification', 'Type prediction', '3D Lane Detection', 'Method name prediction', 'Vision-Language Navigation', '4D Spatio Temporal Semantic Segmentation', 'COVID-19 Image Segmentation', 'Face Transfer', 'Neural Rendering', 'Low-rank compression', 'Face Clustering', 'Multi-Speaker Source Separation', 'Object Counting', 'Extractive Document Summarization', 'Voice Cloning', 'Distributed Computing', 'Open-Domain Dialog', 'Conceptual Physics', 'Arabic Text Diacritization', 'Node Classification on Non-Homophilic (Heterophilic) Graphs', 'Monocular 3D Object Detection', 'Morphology classification', '3D Place Recognition', 'Human Aging', 'Trajectory Modeling', 'Citation Intent Classification', 'Cross-Lingual Natural Language Inference', 'Linear-Probe Classification', 'Multimodal Intent Recognition', '3D Hand Pose Estimation', 'Conversational Response Generation', 'Job classification', 'Image Categorization', 'motion retargeting', 'Table Extraction', 'Table Functional Analysis', 'LIDAR Semantic Segmentation', 'Semantic Segmentation on ScanNet', 'Passage Re-Ranking', 'Brain Segmentation', 'Action Spotting', 'Constituency Grammar Induction', 'Constituency Parsing', 'Singing Voice Synthesis', 'Drug Response Prediction', 'Chord Recognition', 'Negation Detection', 'Image Similarity Search', 'Facial Editing', 'Unbiased Scene Graph Generation', 'Odd One Out', 'ICU Mortality', 'EEG Emotion Recognition', 'Image Steganography', 'Steganalysis', 'Knowledge Base Population', 'Zero-shot Slot Filling', 'StrategyQA', 'Face Presentation Attack Detection', 'MRI segmentation', 'Dense Object Detection', 'Humor Detection', 'Code Classification', 'Hyperspectral image analysis', 'Hyperspectral Image Segmentation', 'Grounded language learning', 'Visual Odometry', 'Age and Gender Estimation', 'Facial Attribute Classification', 'Numerical Integration', 'Semantic Retrieval', 'MULTI-VIEW LEARNING', 'Space-time Video Super-resolution', 'Video Super-Resolution', 'Text Compression', 'Text Categorization', 'Fine-Grained Image Recognition', 'Predicate Detection', 'Long-tailed Object Detection', 'Image Compressed Sensing', 'Dialogue Act Classification', 'Object Detection In Aerial Images', 'imbalanced classification', 'PICO', 'Distant Speech Recognition', 'Morphological Inflection', 'Fine-grained Action Recognition', 'Semi-supervised Domain Adaptation', 'Compressed Image Quality Assessment', 'Learning to Execute', 'Face Image Retrieval', 'Twitter Sentiment Analysis', 'Document Text Classification', 'Landmark Tracking', 'Synthetic Image Attribution', 'Synthetic Image Detection', 'Video Summarization', 'SemEval-2022 Task 4-1 (Binary PCL Detection)', 'SemEval-2022 Task 4-2 (Multi-label PCL Detection)', 'Pretrained Multilingual Language Models', 'Speaker Identification', 'Sociology', 'Speech-to-Speech Translation', 'Music Classification', 'SSTOD', 'Blind Face Restoration', 'Single-Image Blind Deblurring', 'Chinese Named Entity Recognition', 'Color Image Denoising', 'Liver Segmentation', '3D Point Cloud Linear Classification', 'Few-Shot Point Cloud Classification', 'Road Segmentation', 'Automatic Post-Editing', 'Acoustic Modelling', 'JPEG Artifact Correction', 'Vector Graphics', 'Ensemble Pruning', 'Photoplethysmography (PPG)', 'Respiratory Rate Estimation', 'Emotion-Cause Pair Extraction', 'Extract aspect-polarity tuple', 'Multi-Domain Sentiment Classification', 'Portfolio Optimization', 'Color Manipulation', 'Facial Makeup Transfer', 'Model Discovery', 'Scene Recognition', 'Unsupervised MNIST', 'Image Harmonization', 'Environmental Sound Classification', 'Implicit Relations', 'Video Object Tracking', 'Cross-Modality Person Re-identification', 'Future prediction', 'Audio Source Separation', 'Material Recognition', 'Grasp Generation', 'Lexical Complexity Prediction', 'Zero-Shot Object Detection', 'Spectral Reconstruction', 'Zero-shot Text Search', 'Driver Attention Monitoring', 'Aspect-Category-Opinion-Sentiment Quadruple Extraction', 'Aspect-oriented Opinion Extraction', 'Aspect Term Extraction and Sentiment Classification', 'Stroke Classification', '3D Face Alignment', 'Normalising Flows', 'Surgical phase recognition', 'Cube Engraving Classification', 'Fine-Grained Action Detection', 'Spatio-Temporal Action Localization', 'Self-Supervised Person Re-Identification', 'UNET Segmentation', 'Evidence Selection', 'Lexical Analysis', 'Deformable Medical Image Registration', 'Text-to-Code Generation', 'Zero-shot Text Retrieval', 'Autonomous Navigation', 'Heart Rate Variability', 'Punctuation Restoration', 'Causal Language Modeling', '3D Shape Recognition', 'Point Cloud Registration', 'Direction of Arrival Estimation', 'Defocus Estimation', '3D Single Object Tracking', 'Mathematical Proofs', 'Breast Cancer Histology Image Classification', 'Classification Of Breast Cancer Histology Images', 'Medical Image Generation', 'Code Repair', 'Medical Named Entity Recognition', 'Ultrasound', 'Entity Retrieval', 'Acoustic echo cancellation', 'Definition Extraction', 'hypergraph partitioning', 'Unsupervised Video Object Segmentation', 'Medical Image Retrieval', 'Learning Representation On Graph', 'Unsupervised Instance Segmentation', 'Meeting Summarization', 'Concept-To-Text Generation', 'Spacecraft Pose Estimation', 'Permuted-MNIST', 'De-aliasing', 'Multimodal Unsupervised Image-To-Image Translation', 'Brain Image Segmentation', 'Knowledge Base Question Answering', 'Blind Image Quality Assessment', 'No-Reference Image Quality Assessment', '3D Object Detection From Stereo Images', 'Noise Estimation', 'Lexical Entailment', 'Semi-Supervised Text Classification', 'Demosaicking', 'Group Anomaly Detection', 'Transparent objects', 'Phrase Extraction and Grounding (PEG)', 'Phrase Grounding', 'Bandwidth Extension', 'Unsupervised Object Localization', 'Image-to-Text Retrieval', 'Semantic Dependency Parsing', 'Image to Video Generation', 'Co-Salient Object Detection', 'Iris Recognition', 'Iris Segmentation', 'Video Inpainting', 'Skin Cancer Classification', 'target-oriented opinion words extraction', 'General Classification Selection', 'Video Visual Relation Detection', 'Board Games', 'Multilingual Named Entity Recognition', 'Facial Inpainting', 'Operator learning', 'Unity', 'Probabilistic Deep Learning', 'Sound Event Localization and Detection', 'Action Triplet Detection', 'Unsupervised Machine Translation', 'Physical Intuition', 'Referring Image Matting (Expression-based)', 'Referring Image Matting (Keyword-based)', 'Referring Image Matting (RefMatte-RW100)', 'Audio Signal Processing', 'QNLI', 'Food Recognition', '3D Object Tracking', '6D Pose Estimation using RGBD', 'WNLI', 'Predictive Process Monitoring', 'Card Games', 'Atrial Fibrillation Detection', 'Electrocardiography (ECG)', 'Visual Localization', 'Hyperspectral Unmixing', 'Story Completion', 'Depth-aware Video Panoptic Segmentation', 'Video Panoptic Segmentation', 'Chinese Semantic Role Labeling', '3D Shape Classification', 'Procedural Text Understanding', 'Boundary Captioning', 'Anomaly Detection In Surveillance Videos', 'Acoustic Unit Discovery', 'Weakly Supervised Classification', 'Metal Artifact Reduction', 'Group Activity Recognition', 'Sequential Place Learning', 'Sequential Place Recognition', 'Goal-Oriented Dialog', 'Color Image Compression Artifact Reduction', 'Image Compression Artifact Reduction', 'Melody Extraction', 'Keypoint Estimation', 'Compiler Optimization', 'Missing Elements', '3D Point Cloud Reconstruction', 'Lung Disease Classification', 'Clinical Knowledge', 'Grammatical Error Detection', 'Adroid door-cloned', 'Adroid door-human', 'Adroid hammer-cloned', 'Adroid hammer-human', 'Adroid pen-cloned', 'Adroid pen-human', 'Adroid relocate-cloned', 'Adroid relocate-human', 'Gym halfcheetah-expert', 'Gym halfcheetah-full-replay', 'Gym halfcheetah-medium', 'Gym halfcheetah-medium-expert', 'Gym halfcheetah-medium-replay', 'Gym halfcheetah-random', 'Formation Energy', 'Protein Function Prediction', 'Infrared image super-resolution', '3D Dense Shape Correspondence', '3D Object Detection From Monocular Images', '3D Object Retrieval', '3D Shape Reconstruction From A Single 2D Image', 'Code Documentation Generation', 'Skin Lesion Segmentation', 'Deception Detection', 'NetHack', 'Motion Compensation', 'Classification Of Hyperspectral Images', 'Fast Vehicle Detection', 'Contextual Embedding for Source Code', 'Exception type', 'Function-docstring mismatch', 'Swapped operands', 'Wrong binary operator', 'Elementary Mathematics', 'Action Unit Detection', 'Facial Action Unit Detection', 'Fine-Grained Opinion Analysis', 'SQL-to-Text', 'Semi-Supervised Semantic Segmentation', 'Unsupervised Skeleton Based Action Recognition', 'Point Processes', 'Unsupervised Text Classification', 'Timedial', 'Arabic Sentiment Analysis', 'Two-sample testing', 'Mitosis Detection', 'Depth And Camera Motion', 'Monocular Visual Odometry', 'Landmark Recognition', 'Subgroup Discovery', 'Occlusion Handling', 'Molecule Interpretation', 'few-shot-ner', 'Few-shot NER', 'Vietnamese Datasets', 'Vietnamese Machine Reading Comprehension', 'Surgical tool detection', 'Stereo Disparity Estimation', 'Immune Repertoire Classification', 'Prosody Prediction', 'Sar Image Despeckling', 'Early Action Prediction', '3D Bin Packing', 'Point Cloud Pre-training', 'Amodal Instance Segmentation', 'Reflection Removal', 'Music Genre Transfer', 'Referring Video Object Segmentation', 'Speaker Profiling', 'Playing the Game of 2048', 'New Product Sales Forecasting', 'Video Salient Object Detection', 'Thompson Sampling', 'Human Pose Forecasting', 'Multi-Person Pose forecasting', 'Robust 3D Semantic Segmentation', 'Organ Detection', 'Unsupervised Image Segmentation', 'Backdoor Attack', 'Facial Emotion Recognition', '3d scene graph generation', '3D Face Modelling', 'Face Model', 'Video Saliency Prediction', 'Correlated Time Series Forecasting', 'Multi-Exposure Image Fusion', 'Seeing Beyond the Visible', 'Cross-Lingual Paraphrase Identification', 'Speech-to-Text Translation', '3D Car Instance Understanding', 'Online Domain Adaptation', 'Fake Image Detection', 'GAN image forensics', 'Localization In Video Forgery', 'Video Forensics', 'Medical question pair similarity computation', 'Multi-modal image segmentation', 'Dense Captioning', 'Self-Supervised Action Recognition', 'Self-supervised Video Retrieval', 'Nuclear Segmentation', 'Hard-label Attack', 'Wireframe Parsing', 'Relationship Extraction (Distant Supervised)', 'Talking Head Generation', 'Multi-Agent Path Finding', 'House Generation', 'Multiobjective Optimization', 'Material Classification', 'Stereo-LiDAR Fusion', 'Image Retrieval with Multi-Modal Query', 'Hyperedge Prediction', 'Set-to-Graph Prediction', 'Unsupervised 3D Human Pose Estimation', 'Blind Super-Resolution', 'Suggestion mining', 'Infant Brain Mri Segmentation', 'Feature Compression', 'Cross-Lingual Word Embeddings', 'Paper generation', 'Paper generation (abstract-to-conclusion)', 'Paper generation (Conclusion-to-title)', 'Paper generation (Title-to-abstract)', 'Synthetic Speech Detection', 'Automatic Machine Learning Model Selection', 'Breast Mass Segmentation In Whole Mammograms', 'Breast Tumour Classification', 'Image Instance Retrieval', 'Few-Shot Text Classification', 'Visual Relationship Detection', 'Supervised dimensionality reduction', 'Rumour Detection', 'STS-B', 'Log Parsing', 'Brain Morphometry', 'Multi-Objective Reinforcement Learning', 'Malware Detection', 'Sentence Summarization', 'DRS Parsing', 'Timbre Interpolation', 'Joint NER and Classification', 'Multilingual text classification', 'Conditional Text Generation', 'Real-World Adversarial Attack', 'Distractor Generation', 'Atari Games 100k', 'Genre classification', 'Music Auto-Tagging', 'Music Genre Classification', 'text-based games', 'Knowledge Base Completion', '3D Plane Detection', 'Arrhythmia Detection', 'Heterogeneous Face Recognition', 'Poll Generation', 'Retinal OCT Disease Classification', 'Cyber Attack Detection', 'Solar Irradiance Forecasting', 'Cross-Lingual Entity Linking', 'Scanpath prediction', 'Music Tagging', 'Graph Sampling', 'Pose Retrieval', 'Abnormal Event Detection In Video', 'Semi-supervised Anomaly Detection', 'Side Channel Analysis', 'Photo-To-Caricature Translation', 'Lightfield', 'Active Object Detection', 'Unsupervised Anomaly Detection In Sound', 'Image Outpainting', 'One-shot visual object segmentation', 'Game of Poker', 'Moment Retrieval', 'Drug–drug Interaction Extraction', 'set matching', 'Computer Security', 'Graph Reconstruction', 'Colorectal Gland Segmentation:', 'Multi-tissue Nucleus Segmentation', 'Sparse Learning', 'Change Point Detection', 'Document-level Event Extraction', 'Extract Aspect', 'FLUE', 'OrangeSum', 'tabular-classification', 'Biologically-plausible Training', 'Hand Segmentation', 'Visual Prompting', 'Design Synthesis', 'Clustering Multivariate Time Series', 'Multivariate Time Series Imputation', 'Selection bias', 'Air Pollution Prediction', 'Single-View 3D Reconstruction', 'Passage Ranking', 'Landslide segmentation', 'Financial Relation Extraction', 'SENTER', 'Friction', 'Traffic Classification', 'Text to 3D', 'Question Rewriting', 'Audio-Visual Active Speaker Detection', 'RGB-D Salient Object Detection', 'Lexical Normalization', 'Graph Question Answering', 'Video Games', 'Weakly-supervised Temporal Action Localization', 'Weakly Supervised Temporal Action Localization', 'Temporal Relation Classification', 'Table Search', 'Heart rate estimation', 'Motion Synthesis', 'Curved Text Detection', 'Kiss Detection', 'Robust Face Recognition', 'Cross-Lingual Sentiment Classification', 'Stance Classification', 'Building change detection for remote sensing images', 'Change detection for remote sensing images', 'Cross-Lingual Semantic Textual Similarity', 'Music Emotion Recognition', 'Face Morphing Attack Detection', 'Polyp Segmentation', 'Medical Image Enhancement', 'Physics-informed machine learning', 'Ontology Matching', 'News Generation', 'Recipe Generation', 'Reference-based Super-Resolution', 'Edge Classification', 'Visual Storytelling', 'multimodal generation', 'Online Clustering', 'Text Effects Transfer', 'Traffic Data Imputation', 'Optic Disc Segmentation', 'Privacy Preserving Deep Learning', 'Singer Identification', 'Classifier calibration', 'Lake Detection', 'Lake Ice Monitoring', 'Remote Sensing Image Classification', 'Segmentation Of Remote Sensing Imagery', 'The Semantic Segmentation Of Remote Sensing Imagery', 'Webcam (RGB) image classification', 'Conformal Prediction', 'Prediction Intervals', 'Surgical Gesture Recognition', 'Complex Query Answering', 'Object Detection in Artwork', 'Intrinsic Image Decomposition', 'Econometrics', 'Inductive logic programming', 'English Conversational Speech Recognition', 'Linear Mode Connectivity', 'CCG Supertagging', 'Chemical-Protein Interaction Extraction', 'Multi-modal Named Entity Recognition', 'Scene-Aware Dialogue', 'Heart Segmentation', 'Grasp Contact Prediction', 'Micro Expression Recognition', 'Micro-Expression Recognition', 'Chinese Sentiment Analysis', 'Video Polyp Segmentation', 'Protein Folding', 'Twitter Event Detection', 'Veracity Classification', 'DrugProt', 'Keyword Spotting CSS', 'Sentiment Analysis (Product + User)', 'Scene Graph Classification', 'Scene Graph Detection', 'Streaming Target Sound Extraction', 'Target Sound Extraction', 'Text-to-Music Generation', 'Named Entity Recognition In Vietnamese', 'Anomaly Classification', 'Chinese Spell Checking', 'Zero-Shot Video Object Segmentation', 'Tree Decomposition', 'SVBRDF Estimation', 'Traffic Object Detection', 'Summarization', 'Semi-supervised time series classification', 'Saliency Ranking', 'Action Assessment', 'Vehicle Speed Estimation', 'One-stage Anchor-free Oriented Object Detection', 'Cross-Domain Text Classification', 'Dialogue Rewriting', 'Facial expression generation', 'Video Similarity', 'Off-policy evaluation', 'Spoken Command Recognition', '3D Shape Reconstruction from Videos', 'Model Poisoning', 'Exponential degradation', 'Weakly-supervised panoptic segmentation', 'Multiview Gait Recognition', 'satellite image super-resolution', 'Sign Language Translation', 'Reconstruction', 'Subject Transfer', 'Aspect Category Detection', 'Hidden Aspect Detection', 'Latent Aspect Detection', 'Small-Footprint Keyword Spotting', 'Text Infilling', 'Heartbeat Classification', 'Dependency Grammar Induction', 'Unsupervised Dependency Parsing', 'Malware Classification', 'Multi-Modal Document Classification', 'Classify 3D Point Clouds', 'Scientific Results Extraction', \"Alzheimer's Disease Detection\", 'Multi-Label Classification Of Biomedical Texts', 'Rgb-T Tracking', 'Constrained Lip-synchronization', 'Voice Query Recognition', 'Weakly-supervised 3D Human Pose Estimation', 'Popularity Forecasting', 'Intent Classification and Slot Filling', '3D Shape Retrieval', 'EEG Denoising', 'Muscle Tendon Junction Identification', 'Comment Generation', 'Dynamic Reconstruction', 'Geophysics', 'Molecule Captioning', 'Text-based de novo Molecule Generation', 'Salt-And-Pepper Noise Removal', 'Variational Monte Carlo', 'Zero Shot Segmentation', 'Hyperspectral Image Denoising', 'Camera Localization', 'Loop Closure Detection', 'Action Recognition In Still Images', 'Split and Rephrase', 'Monocular Cross-View Road Scene Parsing(Road)', 'Monocular Cross-View Road Scene Parsing(Vehicle)', 'Few-Shot action recognition', 'Few Shot Action Recognition', 'Zero-Shot Transfer Image Classification', 'Zero-Shot Transfer Image Classification (CN)', 'Unsupervised Few-Shot Image Classification', 'Arousal Estimation', 'Link Sign Prediction', 'Face Sketch Synthesis', 'Nutrition', 'Story Visualization', '3D Molecule Generation', 'Multilingual Word Embeddings', 'Node Clustering', 'Pose Tracking', 'Zero-Shot Video Question Answer', 'Semi-Supervised RGBD Semantic Segmentation', 'Steiner Tree Problem', 'Blind Image Deblurring', 'Temporal Tagging', 'Continual Pretraining', 'Image to 3D', 'Multi-Hypotheses 3D Human Pose Estimation', 'Unsupervised Facial Landmark Detection', 'Unsupervised Facial Landmark Detection on MAFL', 'Unsupervised Human Pose Estimation', 'Unsupervised Keypoint Estimation', 'Unsupervised Keypoints', 'Unsupervised Landmark Detection', 'Unsupervised 3D Multi-Person Pose Estimation', 'Multi Class Text Classification', 'Binary Relation Extraction', 'Sleep apnea detection', 'News Summarization', 'Animal Pose Estimation', 'Music Compression', 'Evolving Domain Generalization', 'Neural Network simulation', 'Hindi Image Captioning', 'Hurtful Sentence Completion', 'Multiple Object Tracking with Transformer', 'Robust Face Alignment', 'Physical Attribute Prediction', 'Remaining Useful Lifetime Estimation', 'Community Search', 'Semi Supervised Learning for Image Captioning', 'Audio Tagging', 'Line Segment Detection', 'Im2Spec', 'Materials Imaging', 'Defocus Blur Detection', 'Language-Based Temporal Localization', 'Natural Language Visual Grounding', 'Person-centric Visual Grounding', 'Spatio-Temporal Video Grounding', 'Video Grounding', 'Core Promoter Detection', 'Covid Variant Prediction', 'DNA analysis', 'Epigenetic Marks Prediction', 'Genome Understanding', 'Promoter Detection', 'Splice Site Prediction', 'Transcription Factor Binding Site Prediction', 'Transcription Factor Binding Site Prediction (Human)', 'Transcription Factor Binding Site Prediction (Mouse)', 'Cross-Domain Iris Presentation Attack Detection', 'Speech Dereverberation', 'Parameter Prediction', 'Sketch-Based Image Retrieval', 'Contextualised Word Representations', 'Online Multi-Object Tracking', '3D Human Pose Tracking', 'Unsupervised Object Segmentation', 'Node Property Prediction', 'One-Shot 3D Action Recognition', 'Smart Grid Prediction', 'RGBD Semantic Segmentation', 'Setting-1/4', 'Filling Level Estimation', 'Filling Mass Estimation', 'Filling Type Estimation', 'Lung Nodule 3D Classification', 'Lung Nodule 3D Detection', 'Lung Nodule Detection', 'Inductive knowledge graph completion', 'Fundus to Angiography Generation', 'Sketch-to-Image Translation', 'Point Cloud Super Resolution', 'Cloze (multi-choices) (Few-Shot)', 'Cloze (multi-choices) (One-Shot)', 'Cloze (multi-choices) (Zero-Shot)', 'Common Sense Reasoning (Few-Shot)', 'Common Sense Reasoning (One-Shot)', 'Common Sense Reasoning (Zero-Shot)', 'Natural Language Inference (Few-Shot)', 'Natural Language Inference (One-Shot)', 'Natural Language Inference (Zero-Shot)', 'Reading Comprehension (Few-Shot)', 'Reading Comprehension (One-Shot)', 'Reading Comprehension (Zero-Shot)', 'Commonsense Causal Reasoning', 'Reverse Dictionary', 'Dial Meter Reading', 'Image-based Automatic Meter Reading', 'Meter Reading', 'Human Part Segmentation', 'Multi-Human Parsing', 'Compressed Image Super-resolution', 'Cross-Modal Information Retrieval', 'Generative Visual Question Answering', 'Open Vocabulary Attribute Detection', 'Dynamic Link Prediction', 'Recognizing And Localizing Human Actions', 'Data Summarization', 'Contour Detection', 'Tumour Classification', 'Unsupervised semantic parsing', \"Rubik's Cube\", 'Quantum Chemistry Regression', 'Anachronisms', 'IUPAC Name Prediction', 'Protein Annotation', 'Stereotypical Bias Analysis', 'Universal Domain Adaptation', 'Image Animation', 'Protein Design', 'Protein Language Model', 'Multimodal Activity Recognition', 'Sequential sentence segmentation', 'Horizon Line Estimation', 'Semantic Text Matching', '3D-Aware Image Synthesis', 'Speech Extraction', 'Font Style Transfer', 'Dialog Act Classification', 'Emotional Dialogue Acts', 'Personality Recognition in Conversation', 'Personality Trait Recognition', 'Personalized and Emotional Conversation', 'Network Interpretation', 'Radar Object Detection', 'Viewpoint Estimation', '3D Multi-Object Tracking', 'Game of Football', 'Temporal Knowledge Graph Completion', 'Multi-Oriented Scene Text Detection', 'Mobile Security', 'Event-Driven Trading', 'Stock Trend Prediction', 'Text-Based Stock Prediction', '3D Object Reconstruction', 'Key Detection', 'Eeg Decoding', '3D Point Cloud Data Augmentation', 'Geometric Matching', 'Automated Pancreas Segmentation', 'ListOps', 'FAD', 'Image to Point Cloud Registration', 'Fine-Grained Image Inpainting', 'Discourse Segmentation', 'Point Clouds', 'Medical Image Deblurring', 'Unsupervised Sentence Summarization', 'Incomplete multi-view clustering', 'Multiview Clustering', 'Offline Handwritten Chinese Character Recognition', 'Feedback Vertex Set (FVS)', 'Factual Visual Question Answering', 'Generalized Few-Shot Learning', 'Computational Phenotyping', 'CAPTCHA Detection', 'Text Attribute Transfer', 'Perceptual Distance', 'Relation Linking', 'Domain-IL Continual Learning', 'Split-CIFAR-10', 'Split-MNIST', 'Thermal Infrared Object Tracking', 'Sleep Arousal Detection', 'Seismic Detection', 'Cross-View Image-to-Image Translation', 'Irregular Text Recognition', 'Event-based Optical Flow', 'Semantic entity labeling', 'Sleep Quality', '3D dense captioning', 'Few Shot Temporal Action Localization', 'Gender Bias Detection', 'Participant Intervention Comparison Outcome Extraction', 'Ischemic Stroke Lesion Segmentation', 'Classify murmurs', 'Phonocardiogram Classification', 'Predict clinical outcome', 'Table-based Fact Verification', 'Novel Class Discovery', 'Multi-Goal Reinforcement Learning', 'Interest Point Detection', 'Kinship face generation', 'Foveation', 'Valence Estimation', 'Classification Consistency', 'Jurisprudence', 'Component Classification', '2D Cyclist Detection', 'Vehicle Pose Estimation', 'Layout-to-Image Generation', 'Lip password classification', 'Seismic Inversion', 'Long Term Action Anticipation', 'Audio Multiple Target Classification', 'Body Detection', 'Source-Free Domain Adaptation', 'Distributed Optimization', 'Literature Mining', 'Fovea Detection', 'Lip to Speech Synthesis', 'Snow Removal', 'Embeddings Evaluation', 'Review Generation', 'Dialogue Interpretation', 'Implicatures', 'Dialogue Evaluation', 'Cloud Removal', 'hand-object pose', 'Counterfactual Inference', 'Action Understanding', 'Earth Surface Forecasting', 'Weakly-Supervised Object Segmentation', 'Trajectory Clustering', 'Weakly Supervised Defect Detection', 'Inverse-Tone-Mapping', 'Tone Mapping', 'Robust Design', 'Trajectory Planning', 'One-Shot Segmentation', 'Multi-Hop Reading Comprehension', 'Low-latency processing', 'Game of Chess', 'Game of Shogi', 'Text-to-Face Generation', 'Few-Shot NLI', 'Audio Question Answering', 'Chinese Reading Comprehension', 'Profile Generation', 'Webpage Object Detection', 'Data Free Quantization', 'Fault localization', 'Multilabel Text Classification', 'Time Series Alignment', 'Frame Duplication Detection', 'Dynamic Topic Modeling', 'Additive models', 'Fingertip Detection', 'Hand Detection', 'Superpixel Image Classification', 'Low Resource Named Entity Recognition', 'Ancient Text Restoration', 'EMG Gesture Recognition', 'text-guided-image-editing', 'Vessel Detection', 'K-complex detection', 'Sleep Micro-event detection', 'Spindle Detection', 'PAC learning', 'Automated Writing Evaluation', 'Single Image Haze Removal', 'SENTS', 'Bird Audio Detection', '3D Absolute Human Pose Estimation', 'NMR J-coupling', 'Semantic Contour Prediction', 'Cantilever Beam', '3D Point Cloud Reinforcement Learning', 'Image Classification with Human Noise', 'Image Classification with Label Noise', 'Aerial Scene Classification', 'Sports Analytics', 'Object Segmentation', 'Vietnamese Word Segmentation', 'Multi-future Trajectory Prediction', 'audio-visual event localization', 'Sequence-to-sequence Language Modeling', 'Multiple People Tracking', 'Multiview Learning', 'Video Style Transfer', 'Speech Synthesis - Assamese', 'Speech Synthesis - Bengali', 'Speech Synthesis - Bodo', 'Speech Synthesis - Gujarati', 'Speech Synthesis - Hindi', 'Speech Synthesis - Kannada', 'Speech Synthesis - Malayalam', 'Speech Synthesis - Manipuri', 'Speech Synthesis - Marathi', 'Speech Synthesis - Odia', 'Speech Synthesis - Rajasthani', 'Speech Synthesis - Tamil', 'Speech Synthesis - Telugu', 'Speculation Detection', 'Multi-modal Classification', 'Entity Extraction using GAN', 'Optic Cup Segmentation', 'Label Error Detection', 'Croatian Text Diacritization', 'Czech Text Diacritization', 'French Text Diacritization', 'Hungarian Text Diacritization', 'Irish Text Diacritization', 'Latvian Text Diacritization', 'Polish Text Diacritization', 'Romanian Text Diacritization', 'Slovak Text Diacritization', 'Spanish Text Diacritization', 'Turkish Text Diacritization', 'Vietnamese Text Diacritization', 'Action Recognition on HMDB-51', 'Animal Action Recognition', 'Irregular Time Series', 'Clustering Algorithms Evaluation', 'Image-Based Localization', 'Weakly Supervised Action Segmentation (Transcript)', 'Multi-Object Tracking and Segmentation', 'Junction Detection', 'Seismic Interpretation', 'Multi-step retrosynthesis', 'Cross-Lingual Document Classification', 'Duplicate-Question Retrieval', 'News Retrieval', 'Tweet Retrieval', 'Span-Extraction MRC', 'Sentence ReWriting', 'Face Age Editing', 'Phone-level pronunciation scoring', 'Utterance-level pronounciation scoring', 'Word-level pronunciation scoring', 'Blood pressure estimation', 'Skill Mastery', 'Cross-Lingual Abstractive Summarization', '3D Multi-Person Pose Estimation (absolute)', '3D Multi-Person Pose Estimation (root-relative)', 'Semantic Part Detection', 'Image-text Classification', 'Multilingual Image-Text Classification', 'Unsupervised Video Summarization', 'Spectral Super-Resolution', 'Pornography Detection', 'CARLA MAP Leaderboard', 'Few-Shot Audio Classification', 'Driver Identification', 'Clinical Assertion Status Detection', 'Epidemiology', 'Mass Segmentation From Mammograms', 'Complex Word Identification', 'Home Activity Monitoring', 'Physical Commonsense Reasoning', 'Multi-modal Entity Alignment', 'Optic Cup Detection', 'Optic Disc Detection', 'Chemical Indexing', 'abstractive question answering', 'Clothes Landmark Detection', 'Joint Radar-Communication', 'Diachronic Word Embeddings', 'Mapping Of Lung Nodules In Low-Dose Ct Images', 'API Sequence Recommendation', 'Code Comment Generation', 'Git Commit Message Generation', 'Preference Mapping', 'SNES Games', 'Medical Image Denoising', 'Underwater Acoustic Classification', 'Blood Cell Count', 'CBC TEST', 'Industrial Robots', 'Android Malware Detection']\n"
          ]
        }
      ]
    },
    {
      "cell_type": "code",
      "source": [
        "tasks_list = df['tasks'].to_list()\n",
        "revised_task_list = []\n",
        "indices_to_drop = []\n",
        "\n",
        "for idx, tasks in enumerate(tasks_list):\n",
        "    task_list = eval(tasks)\n",
        "    revised_tasks = []\n",
        "\n",
        "    for task in task_list:\n",
        "        if task not in rare_tasks:\n",
        "            revised_tasks.append(task)\n",
        "\n",
        "    if len(revised_tasks) == 0:\n",
        "        indices_to_drop.append(idx)\n",
        "    else:\n",
        "        revised_task_list.append(revised_tasks)\n",
        "\n",
        "df = df.drop(indices_to_drop).reset_index(drop=True)\n",
        "df.shape\n"
      ],
      "metadata": {
        "colab": {
          "base_uri": "https://localhost:8080/"
        },
        "id": "lVhh-iYFX_QG",
        "outputId": "eff2099e-2ef8-4e16-8db5-5a69ecca99f9"
      },
      "execution_count": null,
      "outputs": [
        {
          "output_type": "execute_result",
          "data": {
            "text/plain": [
              "(16304, 6)"
            ]
          },
          "metadata": {},
          "execution_count": 23
        }
      ]
    },
    {
      "cell_type": "code",
      "source": [
        "df"
      ],
      "metadata": {
        "colab": {
          "base_uri": "https://localhost:8080/",
          "height": 1000
        },
        "id": "7dUrlPTvsTNW",
        "outputId": "32201eb7-6cfb-42c7-ff04-0af1f4b8a022"
      },
      "execution_count": null,
      "outputs": [
        {
          "output_type": "execute_result",
          "data": {
            "text/plain": [
              "                                                                                                                                                         title  \\\n",
              "0                                                               A Lumen Segmentation Method in Ureteroscopy Images based on a Deep Residual U-Net architecture   \n",
              "1      Classification without (Proper) Representation: Political Heterogeneity in Social Media and Its Implications for Classification and Behavioral Analysis   \n",
              "2                                                       Multi-cropping Contrastive Learning and Domain Consistency for Unsupervised Image-to-Image Translation   \n",
              "3                                                                           Pretrained Language Model based Web Search Ranking: From Relevance to Satisfaction   \n",
              "4                                                                           A Deep Learning Approach for Determining Effects of Tuta Absoluta in Tomato Plants   \n",
              "...                                                                                                                                                        ...   \n",
              "16299                                                                                                       Laplacian2Mesh: Laplacian-Based Mesh Understanding   \n",
              "16300                                                          You Need Multiple Exiting: Dynamic Early Exiting for Accelerating Unified Vision Language Model   \n",
              "16301                                                              CodeRL: Mastering Code Generation through Pretrained Models and Deep Reinforcement Learning   \n",
              "16302                                                                End-to-end grasping policies for human-in-the-loop robots via deep reinforcement learning   \n",
              "16303                                                                                PolyFormer: Referring Image Segmentation as Sequential Polygon Generation   \n",
              "\n",
              "                                                                                                                                                                                                                                                                                                                                                                                                                                                                                                                                                                                                                      abstract  \\\n",
              "0      Ureteroscopy is becoming the first surgical treatment option for the majority of urinary affections. This procedure is performed using an endoscope which provides the surgeon with the visual information necessary to navigate inside the urinary tract. Having in mind the development of surgical assistance systems, that could enhance the performance of surgeon, the task of lumen segmentation is a fundamental part since this is the visual reference which marks the path that the endoscope should follow. This is something that has not been analyzed in ureteroscopy data before. However, this task...   \n",
              "1      Reddit is home to a broad spectrum of political activity, and users signal their political affiliations in multiple ways—from self-declarations to community participation. Frequently, computational studies have treated political users as a single bloc, both in developing models to infer political leaning and in studying political behavior. Here, we test this assumption of political users and show that commonly-used political-inference models do not generalize, indicating heterogeneous types of political users. The models remain imprecise at best for most users, regardless of which sources ...   \n",
              "2      Recently, unsupervised image-to-image translation methods based on contrastive learning have achieved state-of-the-art results in many tasks. However, in the previous works, the negatives are sampled from the input image itself, which inspires us to design a data augmentation method to improve the quality of the selected negatives. Moreover, the previous methods only preserve the content consistency via patch-wise contrastive learning in the embedding space, which ignores the domain consistency between the generated images and the real images of the target domain. In this paper, we propose...   \n",
              "3      Search engine plays a crucial role in satisfying users' diverse information needs. Recently, Pretrained Language Models (PLMs) based text ranking models have achieved huge success in web search. However, many state-of-the-art text ranking approaches only focus on core relevance while ignoring other dimensions that contribute to user satisfaction, e.g., document quality, recency, authority, etc. In this work, we focus on ranking user satisfaction rather than relevance in web search, and propose a PLM-based framework, namely SAT-Ranker, which comprehensively models different dimensions of us...   \n",
              "4      Early quantification of Tuta absoluta pest's effects in tomato plants is a very important factor in controlling and preventing serious damages of the pest. The invasion of Tuta absoluta is considered a major threat to tomato production causing heavy loss ranging from 80 to 100 percent when not properly managed. Therefore, real-time and early quantification of tomato leaf miner Tuta absoluta, can play an important role in addressing the issue of pest management and enhance farmers' decisions. In this study, we propose a Convolutional Neural Network (CNN) approach in determining the effects ...   \n",
              "...                                                                                                                                                                                                                                                                                                                                                                                                                                                                                                                                                                                                                        ...   \n",
              "16299  Geometric deep learning has sparked a rising interest in computer graphics to perform shape understanding tasks, such as shape classification and semantic segmentation. When the input is a polygonal surface, one has to suffer from the irregular mesh structure. Motivated by the geometric spectral theory, we introduce Laplacian2Mesh, a novel and flexible convolutional neural network (CNN) framework for coping with irregular triangle meshes (vertices may have any valence). By mapping the input mesh surface to the multi-dimensional Laplacian-Beltrami space, Laplacian2Mesh enables one to perfor...   \n",
              "16300  Large-scale Transformer models bring significant improvements for various downstream vision language tasks with a unified architecture. The performance improvements come with increasing model size, resulting in slow inference speed and increased cost for severing. While some certain predictions benefit from the full complexity of the large-scale model, not all of inputs need the same amount of computation to conduct, potentially leading to computation resource waste. To handle this challenge, early exiting is proposed to adaptively allocate computational power in term of input complexity t...   \n",
              "16301  Program synthesis or code generation aims to generate a program that satisfies a problem specification. Recent approaches using large-scale pretrained language models (LMs) have shown promising results, yet they have some critical limitations. In particular, they often follow a standard supervised fine-tuning procedure to train a code generation model only from the pairs of natural-language problem descriptions and ground-truth programs. Such paradigm largely ignores some important but potentially useful signals in the problem specification such as unit tests, which thus often results in p...   \n",
              "16302  State-of-the-art human-in-the-loop robot grasping is hugely suffered by Electromyography (EMG) inference robustness issues. As a workaround, researchers have been looking into integrating EMG with other signals, often in an ad hoc manner. In this paper, we are presenting a method for end-to-end training of a policy for human-in-the-loop robot grasping on real reaching trajectories. For this purpose we use Reinforcement Learning (RL) and Imitation Learning (IL) in DEXTRON (DEXTerity enviRONment), a stochastic simulation environment with real human trajectories that are augmented and selecte...   \n",
              "16303  In this work, instead of directly predicting the pixel-level segmentation masks, the problem of referring image segmentation is formulated as sequential polygon generation, and the predicted polygons can be later converted into segmentation masks. This is enabled by a new sequence-to-sequence framework, Polygon Transformer (PolyFormer), which takes a sequence of image patches and text query tokens as input, and outputs a sequence of polygon vertices autoregressively. For more accurate geometric localization, we propose a regression-based decoder, which predicts the precise floating-point c...   \n",
              "\n",
              "                                                                     datasets_used  \\\n",
              "0                                                                 ['Add Datasets']   \n",
              "1                                                                 ['Add Datasets']   \n",
              "2                                                                 ['Add Datasets']   \n",
              "3                                                                 ['Add Datasets']   \n",
              "4                                                                 ['PlantVillage']   \n",
              "...                                                                            ...   \n",
              "16299                                   ['ModelNet', 'SHREC', 'MPI FAUST Dataset']   \n",
              "16300                                                                  ['SNLI-VE']   \n",
              "16301                               ['CodeSearchNet', 'CodeXGLUE', 'MBPP', 'APPS']   \n",
              "16302                                                                   ['MuJoCo']   \n",
              "16303  ['RefCOCO', 'Referring Expressions for DAVIS 2016 & 2017', 'Google Refexp']   \n",
              "\n",
              "                                                                                                                                                                                                                                                                                                                                                                            methods  \\\n",
              "0                                                                                                                                                                                                                                                                                                   ['Concatenated Skip Connection', 'Convolution', 'Max Pooling', 'ReLU', 'U-Net']   \n",
              "1                                                                                             ['Absolute Position Encodings', 'Adam', 'BPE', 'Dense Connections', 'Dropout', 'Label Smoothing', 'Layer Normalization', 'Linear Layer', 'Multi-Head Attention', 'Position-Wise Feed-Forward Layer', 'Residual Connection', 'Scaled Dot-Product Attention', 'Softmax', 'Transformer']   \n",
              "2                                                                                                 ['Average Pooling', 'Channel attention', 'Contrastive Learning', 'Convolution', 'Coordinate attention', 'Dense Connections', 'Global Average Pooling', 'Kaiming Initialization', 'Max Pooling', 'ReLU', 'SENet', 'Sigmoid Activation', 'Softmax', 'Squeeze-and-Excitation Block']   \n",
              "3                                                                                                                                                                                                                                                                                                                                                                         ['Focus']   \n",
              "4      ['1x1 Convolution', 'Adam', 'Auxiliary Classifier', 'Average Pooling', 'Batch Normalization', 'Bottleneck Residual Block', 'Convolution', 'Dense Connections', 'Dropout', 'Global Average Pooling', 'Inception-v3', 'Inception-v3 Module', 'Kaiming Initialization', 'Label Smoothing', 'Max Pooling', 'ReLU', 'Residual Block', 'Residual Connection', 'ResNet', 'Softmax']   \n",
              "...                                                                                                                                                                                                                                                                                                                                                                             ...   \n",
              "16299                                                                                                                                                                                                                                                                                                                                                               ['Convolution']   \n",
              "16300                                                               ['Absolute Position Encodings', 'Adam', 'BPE', 'Dense Connections', 'Dropout', 'Early exiting', 'Label Smoothing', 'Layer Normalization', 'Linear Layer', 'Multi-Head Attention', 'Position-Wise Feed-Forward Layer', 'Residual Connection', 'Scaled Dot-Product Attention', 'Softmax', 'SPEED', 'Transformer']   \n",
              "16301                                                                                              ['Adafactor', 'Attention Dropout', 'BPE', 'Dense Connections', 'Dropout', 'GELU', 'GLU', 'Inverse Square Root Schedule', 'Layer Normalization', 'Linear Layer', 'Multi-Head Attention', 'Residual Connection', 'Scaled Dot-Product Attention', 'SentencePiece', 'Softmax', 'T5']   \n",
              "16302                                                                                                                                                                                                                                                                                        ['Adam', 'Dense Connections', 'Experience Replay', 'HOC', 'ReLU', 'Soft Actor Critic']   \n",
              "16303                                                                                         ['Absolute Position Encodings', 'Adam', 'BPE', 'Dense Connections', 'Dropout', 'Label Smoothing', 'Layer Normalization', 'Linear Layer', 'Multi-Head Attention', 'Position-Wise Feed-Forward Layer', 'Residual Connection', 'Scaled Dot-Product Attention', 'Softmax', 'Transformer']   \n",
              "\n",
              "                                                                                                                                                                                                 tasks  \\\n",
              "0                                                                                                                                                                                         ['Navigate']   \n",
              "1                                                                                                                                                                                   ['Classification']   \n",
              "2                                                                ['Contrastive Learning', 'Data Augmentation', 'Image-to-Image Translation', 'Translation', 'Unsupervised Image-To-Image Translation']   \n",
              "3                                                                                                                                                                               ['Language Modelling']   \n",
              "4                                                                                                                                                                                       ['Management']   \n",
              "...                                                                                                                                                                                                ...   \n",
              "16299                                                                                                                                              ['Semantic Segmentation', 'Surface Reconstruction']   \n",
              "16300                                                                                                                                                                           ['Language Modelling']   \n",
              "16301                                                                                                ['Code Generation', 'Program Synthesis', 'reinforcement-learning', 'Reinforcement Learning (RL)']   \n",
              "16302                                                                                                                  ['Electromyography (EMG)', 'Imitation Learning', 'Reinforcement Learning (RL)']   \n",
              "16303  ['Image Segmentation', 'Quantization', 'Referring Expression Comprehension', 'Referring Expression Segmentation', 'Semantic Segmentation', 'Video Segmentation', 'Video Semantic Segmentation']   \n",
              "\n",
              "                         task  \n",
              "0                    Navigate  \n",
              "1              Classification  \n",
              "2        Contrastive Learning  \n",
              "3          Language Modelling  \n",
              "4                  Management  \n",
              "...                       ...  \n",
              "16299   Semantic Segmentation  \n",
              "16300      Language Modelling  \n",
              "16301         Code Generation  \n",
              "16302  Electromyography (EMG)  \n",
              "16303      Image Segmentation  \n",
              "\n",
              "[16304 rows x 6 columns]"
            ],
            "text/html": [
              "\n",
              "  <div id=\"df-5c5b4dba-0a7d-4bae-819c-261e5ff9c19e\" class=\"colab-df-container\">\n",
              "    <div>\n",
              "<style scoped>\n",
              "    .dataframe tbody tr th:only-of-type {\n",
              "        vertical-align: middle;\n",
              "    }\n",
              "\n",
              "    .dataframe tbody tr th {\n",
              "        vertical-align: top;\n",
              "    }\n",
              "\n",
              "    .dataframe thead th {\n",
              "        text-align: right;\n",
              "    }\n",
              "</style>\n",
              "<table border=\"1\" class=\"dataframe\">\n",
              "  <thead>\n",
              "    <tr style=\"text-align: right;\">\n",
              "      <th></th>\n",
              "      <th>title</th>\n",
              "      <th>abstract</th>\n",
              "      <th>datasets_used</th>\n",
              "      <th>methods</th>\n",
              "      <th>tasks</th>\n",
              "      <th>task</th>\n",
              "    </tr>\n",
              "  </thead>\n",
              "  <tbody>\n",
              "    <tr>\n",
              "      <th>0</th>\n",
              "      <td>A Lumen Segmentation Method in Ureteroscopy Images based on a Deep Residual U-Net architecture</td>\n",
              "      <td>Ureteroscopy is becoming the first surgical treatment option for the majority of urinary affections. This procedure is performed using an endoscope which provides the surgeon with the visual information necessary to navigate inside the urinary tract. Having in mind the development of surgical assistance systems, that could enhance the performance of surgeon, the task of lumen segmentation is a fundamental part since this is the visual reference which marks the path that the endoscope should follow. This is something that has not been analyzed in ureteroscopy data before. However, this task...</td>\n",
              "      <td>['Add Datasets']</td>\n",
              "      <td>['Concatenated Skip Connection', 'Convolution', 'Max Pooling', 'ReLU', 'U-Net']</td>\n",
              "      <td>['Navigate']</td>\n",
              "      <td>Navigate</td>\n",
              "    </tr>\n",
              "    <tr>\n",
              "      <th>1</th>\n",
              "      <td>Classification without (Proper) Representation: Political Heterogeneity in Social Media and Its Implications for Classification and Behavioral Analysis</td>\n",
              "      <td>Reddit is home to a broad spectrum of political activity, and users signal their political affiliations in multiple ways—from self-declarations to community participation. Frequently, computational studies have treated political users as a single bloc, both in developing models to infer political leaning and in studying political behavior. Here, we test this assumption of political users and show that commonly-used political-inference models do not generalize, indicating heterogeneous types of political users. The models remain imprecise at best for most users, regardless of which sources ...</td>\n",
              "      <td>['Add Datasets']</td>\n",
              "      <td>['Absolute Position Encodings', 'Adam', 'BPE', 'Dense Connections', 'Dropout', 'Label Smoothing', 'Layer Normalization', 'Linear Layer', 'Multi-Head Attention', 'Position-Wise Feed-Forward Layer', 'Residual Connection', 'Scaled Dot-Product Attention', 'Softmax', 'Transformer']</td>\n",
              "      <td>['Classification']</td>\n",
              "      <td>Classification</td>\n",
              "    </tr>\n",
              "    <tr>\n",
              "      <th>2</th>\n",
              "      <td>Multi-cropping Contrastive Learning and Domain Consistency for Unsupervised Image-to-Image Translation</td>\n",
              "      <td>Recently, unsupervised image-to-image translation methods based on contrastive learning have achieved state-of-the-art results in many tasks. However, in the previous works, the negatives are sampled from the input image itself, which inspires us to design a data augmentation method to improve the quality of the selected negatives. Moreover, the previous methods only preserve the content consistency via patch-wise contrastive learning in the embedding space, which ignores the domain consistency between the generated images and the real images of the target domain. In this paper, we propose...</td>\n",
              "      <td>['Add Datasets']</td>\n",
              "      <td>['Average Pooling', 'Channel attention', 'Contrastive Learning', 'Convolution', 'Coordinate attention', 'Dense Connections', 'Global Average Pooling', 'Kaiming Initialization', 'Max Pooling', 'ReLU', 'SENet', 'Sigmoid Activation', 'Softmax', 'Squeeze-and-Excitation Block']</td>\n",
              "      <td>['Contrastive Learning', 'Data Augmentation', 'Image-to-Image Translation', 'Translation', 'Unsupervised Image-To-Image Translation']</td>\n",
              "      <td>Contrastive Learning</td>\n",
              "    </tr>\n",
              "    <tr>\n",
              "      <th>3</th>\n",
              "      <td>Pretrained Language Model based Web Search Ranking: From Relevance to Satisfaction</td>\n",
              "      <td>Search engine plays a crucial role in satisfying users' diverse information needs. Recently, Pretrained Language Models (PLMs) based text ranking models have achieved huge success in web search. However, many state-of-the-art text ranking approaches only focus on core relevance while ignoring other dimensions that contribute to user satisfaction, e.g., document quality, recency, authority, etc. In this work, we focus on ranking user satisfaction rather than relevance in web search, and propose a PLM-based framework, namely SAT-Ranker, which comprehensively models different dimensions of us...</td>\n",
              "      <td>['Add Datasets']</td>\n",
              "      <td>['Focus']</td>\n",
              "      <td>['Language Modelling']</td>\n",
              "      <td>Language Modelling</td>\n",
              "    </tr>\n",
              "    <tr>\n",
              "      <th>4</th>\n",
              "      <td>A Deep Learning Approach for Determining Effects of Tuta Absoluta in Tomato Plants</td>\n",
              "      <td>Early quantification of Tuta absoluta pest's effects in tomato plants is a very important factor in controlling and preventing serious damages of the pest. The invasion of Tuta absoluta is considered a major threat to tomato production causing heavy loss ranging from 80 to 100 percent when not properly managed. Therefore, real-time and early quantification of tomato leaf miner Tuta absoluta, can play an important role in addressing the issue of pest management and enhance farmers' decisions. In this study, we propose a Convolutional Neural Network (CNN) approach in determining the effects ...</td>\n",
              "      <td>['PlantVillage']</td>\n",
              "      <td>['1x1 Convolution', 'Adam', 'Auxiliary Classifier', 'Average Pooling', 'Batch Normalization', 'Bottleneck Residual Block', 'Convolution', 'Dense Connections', 'Dropout', 'Global Average Pooling', 'Inception-v3', 'Inception-v3 Module', 'Kaiming Initialization', 'Label Smoothing', 'Max Pooling', 'ReLU', 'Residual Block', 'Residual Connection', 'ResNet', 'Softmax']</td>\n",
              "      <td>['Management']</td>\n",
              "      <td>Management</td>\n",
              "    </tr>\n",
              "    <tr>\n",
              "      <th>...</th>\n",
              "      <td>...</td>\n",
              "      <td>...</td>\n",
              "      <td>...</td>\n",
              "      <td>...</td>\n",
              "      <td>...</td>\n",
              "      <td>...</td>\n",
              "    </tr>\n",
              "    <tr>\n",
              "      <th>16299</th>\n",
              "      <td>Laplacian2Mesh: Laplacian-Based Mesh Understanding</td>\n",
              "      <td>Geometric deep learning has sparked a rising interest in computer graphics to perform shape understanding tasks, such as shape classification and semantic segmentation. When the input is a polygonal surface, one has to suffer from the irregular mesh structure. Motivated by the geometric spectral theory, we introduce Laplacian2Mesh, a novel and flexible convolutional neural network (CNN) framework for coping with irregular triangle meshes (vertices may have any valence). By mapping the input mesh surface to the multi-dimensional Laplacian-Beltrami space, Laplacian2Mesh enables one to perfor...</td>\n",
              "      <td>['ModelNet', 'SHREC', 'MPI FAUST Dataset']</td>\n",
              "      <td>['Convolution']</td>\n",
              "      <td>['Semantic Segmentation', 'Surface Reconstruction']</td>\n",
              "      <td>Semantic Segmentation</td>\n",
              "    </tr>\n",
              "    <tr>\n",
              "      <th>16300</th>\n",
              "      <td>You Need Multiple Exiting: Dynamic Early Exiting for Accelerating Unified Vision Language Model</td>\n",
              "      <td>Large-scale Transformer models bring significant improvements for various downstream vision language tasks with a unified architecture. The performance improvements come with increasing model size, resulting in slow inference speed and increased cost for severing. While some certain predictions benefit from the full complexity of the large-scale model, not all of inputs need the same amount of computation to conduct, potentially leading to computation resource waste. To handle this challenge, early exiting is proposed to adaptively allocate computational power in term of input complexity t...</td>\n",
              "      <td>['SNLI-VE']</td>\n",
              "      <td>['Absolute Position Encodings', 'Adam', 'BPE', 'Dense Connections', 'Dropout', 'Early exiting', 'Label Smoothing', 'Layer Normalization', 'Linear Layer', 'Multi-Head Attention', 'Position-Wise Feed-Forward Layer', 'Residual Connection', 'Scaled Dot-Product Attention', 'Softmax', 'SPEED', 'Transformer']</td>\n",
              "      <td>['Language Modelling']</td>\n",
              "      <td>Language Modelling</td>\n",
              "    </tr>\n",
              "    <tr>\n",
              "      <th>16301</th>\n",
              "      <td>CodeRL: Mastering Code Generation through Pretrained Models and Deep Reinforcement Learning</td>\n",
              "      <td>Program synthesis or code generation aims to generate a program that satisfies a problem specification. Recent approaches using large-scale pretrained language models (LMs) have shown promising results, yet they have some critical limitations. In particular, they often follow a standard supervised fine-tuning procedure to train a code generation model only from the pairs of natural-language problem descriptions and ground-truth programs. Such paradigm largely ignores some important but potentially useful signals in the problem specification such as unit tests, which thus often results in p...</td>\n",
              "      <td>['CodeSearchNet', 'CodeXGLUE', 'MBPP', 'APPS']</td>\n",
              "      <td>['Adafactor', 'Attention Dropout', 'BPE', 'Dense Connections', 'Dropout', 'GELU', 'GLU', 'Inverse Square Root Schedule', 'Layer Normalization', 'Linear Layer', 'Multi-Head Attention', 'Residual Connection', 'Scaled Dot-Product Attention', 'SentencePiece', 'Softmax', 'T5']</td>\n",
              "      <td>['Code Generation', 'Program Synthesis', 'reinforcement-learning', 'Reinforcement Learning (RL)']</td>\n",
              "      <td>Code Generation</td>\n",
              "    </tr>\n",
              "    <tr>\n",
              "      <th>16302</th>\n",
              "      <td>End-to-end grasping policies for human-in-the-loop robots via deep reinforcement learning</td>\n",
              "      <td>State-of-the-art human-in-the-loop robot grasping is hugely suffered by Electromyography (EMG) inference robustness issues. As a workaround, researchers have been looking into integrating EMG with other signals, often in an ad hoc manner. In this paper, we are presenting a method for end-to-end training of a policy for human-in-the-loop robot grasping on real reaching trajectories. For this purpose we use Reinforcement Learning (RL) and Imitation Learning (IL) in DEXTRON (DEXTerity enviRONment), a stochastic simulation environment with real human trajectories that are augmented and selecte...</td>\n",
              "      <td>['MuJoCo']</td>\n",
              "      <td>['Adam', 'Dense Connections', 'Experience Replay', 'HOC', 'ReLU', 'Soft Actor Critic']</td>\n",
              "      <td>['Electromyography (EMG)', 'Imitation Learning', 'Reinforcement Learning (RL)']</td>\n",
              "      <td>Electromyography (EMG)</td>\n",
              "    </tr>\n",
              "    <tr>\n",
              "      <th>16303</th>\n",
              "      <td>PolyFormer: Referring Image Segmentation as Sequential Polygon Generation</td>\n",
              "      <td>In this work, instead of directly predicting the pixel-level segmentation masks, the problem of referring image segmentation is formulated as sequential polygon generation, and the predicted polygons can be later converted into segmentation masks. This is enabled by a new sequence-to-sequence framework, Polygon Transformer (PolyFormer), which takes a sequence of image patches and text query tokens as input, and outputs a sequence of polygon vertices autoregressively. For more accurate geometric localization, we propose a regression-based decoder, which predicts the precise floating-point c...</td>\n",
              "      <td>['RefCOCO', 'Referring Expressions for DAVIS 2016 &amp; 2017', 'Google Refexp']</td>\n",
              "      <td>['Absolute Position Encodings', 'Adam', 'BPE', 'Dense Connections', 'Dropout', 'Label Smoothing', 'Layer Normalization', 'Linear Layer', 'Multi-Head Attention', 'Position-Wise Feed-Forward Layer', 'Residual Connection', 'Scaled Dot-Product Attention', 'Softmax', 'Transformer']</td>\n",
              "      <td>['Image Segmentation', 'Quantization', 'Referring Expression Comprehension', 'Referring Expression Segmentation', 'Semantic Segmentation', 'Video Segmentation', 'Video Semantic Segmentation']</td>\n",
              "      <td>Image Segmentation</td>\n",
              "    </tr>\n",
              "  </tbody>\n",
              "</table>\n",
              "<p>16304 rows × 6 columns</p>\n",
              "</div>\n",
              "    <div class=\"colab-df-buttons\">\n",
              "\n",
              "  <div class=\"colab-df-container\">\n",
              "    <button class=\"colab-df-convert\" onclick=\"convertToInteractive('df-5c5b4dba-0a7d-4bae-819c-261e5ff9c19e')\"\n",
              "            title=\"Convert this dataframe to an interactive table.\"\n",
              "            style=\"display:none;\">\n",
              "\n",
              "  <svg xmlns=\"http://www.w3.org/2000/svg\" height=\"24px\" viewBox=\"0 -960 960 960\">\n",
              "    <path d=\"M120-120v-720h720v720H120Zm60-500h600v-160H180v160Zm220 220h160v-160H400v160Zm0 220h160v-160H400v160ZM180-400h160v-160H180v160Zm440 0h160v-160H620v160ZM180-180h160v-160H180v160Zm440 0h160v-160H620v160Z\"/>\n",
              "  </svg>\n",
              "    </button>\n",
              "\n",
              "  <style>\n",
              "    .colab-df-container {\n",
              "      display:flex;\n",
              "      gap: 12px;\n",
              "    }\n",
              "\n",
              "    .colab-df-convert {\n",
              "      background-color: #E8F0FE;\n",
              "      border: none;\n",
              "      border-radius: 50%;\n",
              "      cursor: pointer;\n",
              "      display: none;\n",
              "      fill: #1967D2;\n",
              "      height: 32px;\n",
              "      padding: 0 0 0 0;\n",
              "      width: 32px;\n",
              "    }\n",
              "\n",
              "    .colab-df-convert:hover {\n",
              "      background-color: #E2EBFA;\n",
              "      box-shadow: 0px 1px 2px rgba(60, 64, 67, 0.3), 0px 1px 3px 1px rgba(60, 64, 67, 0.15);\n",
              "      fill: #174EA6;\n",
              "    }\n",
              "\n",
              "    .colab-df-buttons div {\n",
              "      margin-bottom: 4px;\n",
              "    }\n",
              "\n",
              "    [theme=dark] .colab-df-convert {\n",
              "      background-color: #3B4455;\n",
              "      fill: #D2E3FC;\n",
              "    }\n",
              "\n",
              "    [theme=dark] .colab-df-convert:hover {\n",
              "      background-color: #434B5C;\n",
              "      box-shadow: 0px 1px 3px 1px rgba(0, 0, 0, 0.15);\n",
              "      filter: drop-shadow(0px 1px 2px rgba(0, 0, 0, 0.3));\n",
              "      fill: #FFFFFF;\n",
              "    }\n",
              "  </style>\n",
              "\n",
              "    <script>\n",
              "      const buttonEl =\n",
              "        document.querySelector('#df-5c5b4dba-0a7d-4bae-819c-261e5ff9c19e button.colab-df-convert');\n",
              "      buttonEl.style.display =\n",
              "        google.colab.kernel.accessAllowed ? 'block' : 'none';\n",
              "\n",
              "      async function convertToInteractive(key) {\n",
              "        const element = document.querySelector('#df-5c5b4dba-0a7d-4bae-819c-261e5ff9c19e');\n",
              "        const dataTable =\n",
              "          await google.colab.kernel.invokeFunction('convertToInteractive',\n",
              "                                                    [key], {});\n",
              "        if (!dataTable) return;\n",
              "\n",
              "        const docLinkHtml = 'Like what you see? Visit the ' +\n",
              "          '<a target=\"_blank\" href=https://colab.research.google.com/notebooks/data_table.ipynb>data table notebook</a>'\n",
              "          + ' to learn more about interactive tables.';\n",
              "        element.innerHTML = '';\n",
              "        dataTable['output_type'] = 'display_data';\n",
              "        await google.colab.output.renderOutput(dataTable, element);\n",
              "        const docLink = document.createElement('div');\n",
              "        docLink.innerHTML = docLinkHtml;\n",
              "        element.appendChild(docLink);\n",
              "      }\n",
              "    </script>\n",
              "  </div>\n",
              "\n",
              "\n",
              "<div id=\"df-2072d835-6189-47c6-91fb-55e86c51d24b\">\n",
              "  <button class=\"colab-df-quickchart\" onclick=\"quickchart('df-2072d835-6189-47c6-91fb-55e86c51d24b')\"\n",
              "            title=\"Suggest charts.\"\n",
              "            style=\"display:none;\">\n",
              "\n",
              "<svg xmlns=\"http://www.w3.org/2000/svg\" height=\"24px\"viewBox=\"0 0 24 24\"\n",
              "     width=\"24px\">\n",
              "    <g>\n",
              "        <path d=\"M19 3H5c-1.1 0-2 .9-2 2v14c0 1.1.9 2 2 2h14c1.1 0 2-.9 2-2V5c0-1.1-.9-2-2-2zM9 17H7v-7h2v7zm4 0h-2V7h2v10zm4 0h-2v-4h2v4z\"/>\n",
              "    </g>\n",
              "</svg>\n",
              "  </button>\n",
              "\n",
              "<style>\n",
              "  .colab-df-quickchart {\n",
              "    background-color: #E8F0FE;\n",
              "    border: none;\n",
              "    border-radius: 50%;\n",
              "    cursor: pointer;\n",
              "    display: none;\n",
              "    fill: #1967D2;\n",
              "    height: 32px;\n",
              "    padding: 0 0 0 0;\n",
              "    width: 32px;\n",
              "  }\n",
              "\n",
              "  .colab-df-quickchart:hover {\n",
              "    background-color: #E2EBFA;\n",
              "    box-shadow: 0px 1px 2px rgba(60, 64, 67, 0.3), 0px 1px 3px 1px rgba(60, 64, 67, 0.15);\n",
              "    fill: #174EA6;\n",
              "  }\n",
              "\n",
              "  [theme=dark] .colab-df-quickchart {\n",
              "    background-color: #3B4455;\n",
              "    fill: #D2E3FC;\n",
              "  }\n",
              "\n",
              "  [theme=dark] .colab-df-quickchart:hover {\n",
              "    background-color: #434B5C;\n",
              "    box-shadow: 0px 1px 3px 1px rgba(0, 0, 0, 0.15);\n",
              "    filter: drop-shadow(0px 1px 2px rgba(0, 0, 0, 0.3));\n",
              "    fill: #FFFFFF;\n",
              "  }\n",
              "</style>\n",
              "\n",
              "  <script>\n",
              "    async function quickchart(key) {\n",
              "      const charts = await google.colab.kernel.invokeFunction(\n",
              "          'suggestCharts', [key], {});\n",
              "    }\n",
              "    (() => {\n",
              "      let quickchartButtonEl =\n",
              "        document.querySelector('#df-2072d835-6189-47c6-91fb-55e86c51d24b button');\n",
              "      quickchartButtonEl.style.display =\n",
              "        google.colab.kernel.accessAllowed ? 'block' : 'none';\n",
              "    })();\n",
              "  </script>\n",
              "</div>\n",
              "    </div>\n",
              "  </div>\n"
            ]
          },
          "metadata": {},
          "execution_count": 24
        }
      ]
    },
    {
      "cell_type": "code",
      "source": [
        "df['revised_tasks'] = revised_task_list"
      ],
      "metadata": {
        "id": "q2PGJ3JdsgH3"
      },
      "execution_count": null,
      "outputs": []
    },
    {
      "cell_type": "code",
      "source": [
        "df"
      ],
      "metadata": {
        "colab": {
          "base_uri": "https://localhost:8080/",
          "height": 1000
        },
        "id": "UeTbz3Fgu32i",
        "outputId": "ca952acc-e736-41b7-9523-5c28f9bd2fc5"
      },
      "execution_count": null,
      "outputs": [
        {
          "output_type": "execute_result",
          "data": {
            "text/plain": [
              "                                                                                                                                                         title  \\\n",
              "0                                                               A Lumen Segmentation Method in Ureteroscopy Images based on a Deep Residual U-Net architecture   \n",
              "1      Classification without (Proper) Representation: Political Heterogeneity in Social Media and Its Implications for Classification and Behavioral Analysis   \n",
              "2                                                       Multi-cropping Contrastive Learning and Domain Consistency for Unsupervised Image-to-Image Translation   \n",
              "3                                                                           Pretrained Language Model based Web Search Ranking: From Relevance to Satisfaction   \n",
              "4                                                                           A Deep Learning Approach for Determining Effects of Tuta Absoluta in Tomato Plants   \n",
              "...                                                                                                                                                        ...   \n",
              "16299                                                                                                       Laplacian2Mesh: Laplacian-Based Mesh Understanding   \n",
              "16300                                                          You Need Multiple Exiting: Dynamic Early Exiting for Accelerating Unified Vision Language Model   \n",
              "16301                                                              CodeRL: Mastering Code Generation through Pretrained Models and Deep Reinforcement Learning   \n",
              "16302                                                                End-to-end grasping policies for human-in-the-loop robots via deep reinforcement learning   \n",
              "16303                                                                                PolyFormer: Referring Image Segmentation as Sequential Polygon Generation   \n",
              "\n",
              "                                                                                                                                                                                                                                                                                                                                                                                                                                                                                                                                                                                                                      abstract  \\\n",
              "0      Ureteroscopy is becoming the first surgical treatment option for the majority of urinary affections. This procedure is performed using an endoscope which provides the surgeon with the visual information necessary to navigate inside the urinary tract. Having in mind the development of surgical assistance systems, that could enhance the performance of surgeon, the task of lumen segmentation is a fundamental part since this is the visual reference which marks the path that the endoscope should follow. This is something that has not been analyzed in ureteroscopy data before. However, this task...   \n",
              "1      Reddit is home to a broad spectrum of political activity, and users signal their political affiliations in multiple ways—from self-declarations to community participation. Frequently, computational studies have treated political users as a single bloc, both in developing models to infer political leaning and in studying political behavior. Here, we test this assumption of political users and show that commonly-used political-inference models do not generalize, indicating heterogeneous types of political users. The models remain imprecise at best for most users, regardless of which sources ...   \n",
              "2      Recently, unsupervised image-to-image translation methods based on contrastive learning have achieved state-of-the-art results in many tasks. However, in the previous works, the negatives are sampled from the input image itself, which inspires us to design a data augmentation method to improve the quality of the selected negatives. Moreover, the previous methods only preserve the content consistency via patch-wise contrastive learning in the embedding space, which ignores the domain consistency between the generated images and the real images of the target domain. In this paper, we propose...   \n",
              "3      Search engine plays a crucial role in satisfying users' diverse information needs. Recently, Pretrained Language Models (PLMs) based text ranking models have achieved huge success in web search. However, many state-of-the-art text ranking approaches only focus on core relevance while ignoring other dimensions that contribute to user satisfaction, e.g., document quality, recency, authority, etc. In this work, we focus on ranking user satisfaction rather than relevance in web search, and propose a PLM-based framework, namely SAT-Ranker, which comprehensively models different dimensions of us...   \n",
              "4      Early quantification of Tuta absoluta pest's effects in tomato plants is a very important factor in controlling and preventing serious damages of the pest. The invasion of Tuta absoluta is considered a major threat to tomato production causing heavy loss ranging from 80 to 100 percent when not properly managed. Therefore, real-time and early quantification of tomato leaf miner Tuta absoluta, can play an important role in addressing the issue of pest management and enhance farmers' decisions. In this study, we propose a Convolutional Neural Network (CNN) approach in determining the effects ...   \n",
              "...                                                                                                                                                                                                                                                                                                                                                                                                                                                                                                                                                                                                                        ...   \n",
              "16299  Geometric deep learning has sparked a rising interest in computer graphics to perform shape understanding tasks, such as shape classification and semantic segmentation. When the input is a polygonal surface, one has to suffer from the irregular mesh structure. Motivated by the geometric spectral theory, we introduce Laplacian2Mesh, a novel and flexible convolutional neural network (CNN) framework for coping with irregular triangle meshes (vertices may have any valence). By mapping the input mesh surface to the multi-dimensional Laplacian-Beltrami space, Laplacian2Mesh enables one to perfor...   \n",
              "16300  Large-scale Transformer models bring significant improvements for various downstream vision language tasks with a unified architecture. The performance improvements come with increasing model size, resulting in slow inference speed and increased cost for severing. While some certain predictions benefit from the full complexity of the large-scale model, not all of inputs need the same amount of computation to conduct, potentially leading to computation resource waste. To handle this challenge, early exiting is proposed to adaptively allocate computational power in term of input complexity t...   \n",
              "16301  Program synthesis or code generation aims to generate a program that satisfies a problem specification. Recent approaches using large-scale pretrained language models (LMs) have shown promising results, yet they have some critical limitations. In particular, they often follow a standard supervised fine-tuning procedure to train a code generation model only from the pairs of natural-language problem descriptions and ground-truth programs. Such paradigm largely ignores some important but potentially useful signals in the problem specification such as unit tests, which thus often results in p...   \n",
              "16302  State-of-the-art human-in-the-loop robot grasping is hugely suffered by Electromyography (EMG) inference robustness issues. As a workaround, researchers have been looking into integrating EMG with other signals, often in an ad hoc manner. In this paper, we are presenting a method for end-to-end training of a policy for human-in-the-loop robot grasping on real reaching trajectories. For this purpose we use Reinforcement Learning (RL) and Imitation Learning (IL) in DEXTRON (DEXTerity enviRONment), a stochastic simulation environment with real human trajectories that are augmented and selecte...   \n",
              "16303  In this work, instead of directly predicting the pixel-level segmentation masks, the problem of referring image segmentation is formulated as sequential polygon generation, and the predicted polygons can be later converted into segmentation masks. This is enabled by a new sequence-to-sequence framework, Polygon Transformer (PolyFormer), which takes a sequence of image patches and text query tokens as input, and outputs a sequence of polygon vertices autoregressively. For more accurate geometric localization, we propose a regression-based decoder, which predicts the precise floating-point c...   \n",
              "\n",
              "                                                                     datasets_used  \\\n",
              "0                                                                 ['Add Datasets']   \n",
              "1                                                                 ['Add Datasets']   \n",
              "2                                                                 ['Add Datasets']   \n",
              "3                                                                 ['Add Datasets']   \n",
              "4                                                                 ['PlantVillage']   \n",
              "...                                                                            ...   \n",
              "16299                                   ['ModelNet', 'SHREC', 'MPI FAUST Dataset']   \n",
              "16300                                                                  ['SNLI-VE']   \n",
              "16301                               ['CodeSearchNet', 'CodeXGLUE', 'MBPP', 'APPS']   \n",
              "16302                                                                   ['MuJoCo']   \n",
              "16303  ['RefCOCO', 'Referring Expressions for DAVIS 2016 & 2017', 'Google Refexp']   \n",
              "\n",
              "                                                                                                                                                                                                                                                                                                                                                                            methods  \\\n",
              "0                                                                                                                                                                                                                                                                                                   ['Concatenated Skip Connection', 'Convolution', 'Max Pooling', 'ReLU', 'U-Net']   \n",
              "1                                                                                             ['Absolute Position Encodings', 'Adam', 'BPE', 'Dense Connections', 'Dropout', 'Label Smoothing', 'Layer Normalization', 'Linear Layer', 'Multi-Head Attention', 'Position-Wise Feed-Forward Layer', 'Residual Connection', 'Scaled Dot-Product Attention', 'Softmax', 'Transformer']   \n",
              "2                                                                                                 ['Average Pooling', 'Channel attention', 'Contrastive Learning', 'Convolution', 'Coordinate attention', 'Dense Connections', 'Global Average Pooling', 'Kaiming Initialization', 'Max Pooling', 'ReLU', 'SENet', 'Sigmoid Activation', 'Softmax', 'Squeeze-and-Excitation Block']   \n",
              "3                                                                                                                                                                                                                                                                                                                                                                         ['Focus']   \n",
              "4      ['1x1 Convolution', 'Adam', 'Auxiliary Classifier', 'Average Pooling', 'Batch Normalization', 'Bottleneck Residual Block', 'Convolution', 'Dense Connections', 'Dropout', 'Global Average Pooling', 'Inception-v3', 'Inception-v3 Module', 'Kaiming Initialization', 'Label Smoothing', 'Max Pooling', 'ReLU', 'Residual Block', 'Residual Connection', 'ResNet', 'Softmax']   \n",
              "...                                                                                                                                                                                                                                                                                                                                                                             ...   \n",
              "16299                                                                                                                                                                                                                                                                                                                                                               ['Convolution']   \n",
              "16300                                                               ['Absolute Position Encodings', 'Adam', 'BPE', 'Dense Connections', 'Dropout', 'Early exiting', 'Label Smoothing', 'Layer Normalization', 'Linear Layer', 'Multi-Head Attention', 'Position-Wise Feed-Forward Layer', 'Residual Connection', 'Scaled Dot-Product Attention', 'Softmax', 'SPEED', 'Transformer']   \n",
              "16301                                                                                              ['Adafactor', 'Attention Dropout', 'BPE', 'Dense Connections', 'Dropout', 'GELU', 'GLU', 'Inverse Square Root Schedule', 'Layer Normalization', 'Linear Layer', 'Multi-Head Attention', 'Residual Connection', 'Scaled Dot-Product Attention', 'SentencePiece', 'Softmax', 'T5']   \n",
              "16302                                                                                                                                                                                                                                                                                        ['Adam', 'Dense Connections', 'Experience Replay', 'HOC', 'ReLU', 'Soft Actor Critic']   \n",
              "16303                                                                                         ['Absolute Position Encodings', 'Adam', 'BPE', 'Dense Connections', 'Dropout', 'Label Smoothing', 'Layer Normalization', 'Linear Layer', 'Multi-Head Attention', 'Position-Wise Feed-Forward Layer', 'Residual Connection', 'Scaled Dot-Product Attention', 'Softmax', 'Transformer']   \n",
              "\n",
              "                                                                                                                                                                                                 tasks  \\\n",
              "0                                                                                                                                                                                         ['Navigate']   \n",
              "1                                                                                                                                                                                   ['Classification']   \n",
              "2                                                                ['Contrastive Learning', 'Data Augmentation', 'Image-to-Image Translation', 'Translation', 'Unsupervised Image-To-Image Translation']   \n",
              "3                                                                                                                                                                               ['Language Modelling']   \n",
              "4                                                                                                                                                                                       ['Management']   \n",
              "...                                                                                                                                                                                                ...   \n",
              "16299                                                                                                                                              ['Semantic Segmentation', 'Surface Reconstruction']   \n",
              "16300                                                                                                                                                                           ['Language Modelling']   \n",
              "16301                                                                                                ['Code Generation', 'Program Synthesis', 'reinforcement-learning', 'Reinforcement Learning (RL)']   \n",
              "16302                                                                                                                  ['Electromyography (EMG)', 'Imitation Learning', 'Reinforcement Learning (RL)']   \n",
              "16303  ['Image Segmentation', 'Quantization', 'Referring Expression Comprehension', 'Referring Expression Segmentation', 'Semantic Segmentation', 'Video Segmentation', 'Video Semantic Segmentation']   \n",
              "\n",
              "                         task  \\\n",
              "0                    Navigate   \n",
              "1              Classification   \n",
              "2        Contrastive Learning   \n",
              "3          Language Modelling   \n",
              "4                  Management   \n",
              "...                       ...   \n",
              "16299   Semantic Segmentation   \n",
              "16300      Language Modelling   \n",
              "16301         Code Generation   \n",
              "16302  Electromyography (EMG)   \n",
              "16303      Image Segmentation   \n",
              "\n",
              "                                                                                revised_tasks  \n",
              "0                                                                                  [Navigate]  \n",
              "1                                                                            [Classification]  \n",
              "2          [Contrastive Learning, Data Augmentation, Image-to-Image Translation, Translation]  \n",
              "3                                                                        [Language Modelling]  \n",
              "4                                                                                [Management]  \n",
              "...                                                                                       ...  \n",
              "16299                                                                 [Semantic Segmentation]  \n",
              "16300                                                                    [Language Modelling]  \n",
              "16301                  [Code Generation, reinforcement-learning, Reinforcement Learning (RL)]  \n",
              "16302                                       [Imitation Learning, Reinforcement Learning (RL)]  \n",
              "16303  [Image Segmentation, Quantization, Semantic Segmentation, Video Semantic Segmentation]  \n",
              "\n",
              "[16304 rows x 7 columns]"
            ],
            "text/html": [
              "\n",
              "  <div id=\"df-1d57ad07-c133-4c82-af66-16d456ee995b\" class=\"colab-df-container\">\n",
              "    <div>\n",
              "<style scoped>\n",
              "    .dataframe tbody tr th:only-of-type {\n",
              "        vertical-align: middle;\n",
              "    }\n",
              "\n",
              "    .dataframe tbody tr th {\n",
              "        vertical-align: top;\n",
              "    }\n",
              "\n",
              "    .dataframe thead th {\n",
              "        text-align: right;\n",
              "    }\n",
              "</style>\n",
              "<table border=\"1\" class=\"dataframe\">\n",
              "  <thead>\n",
              "    <tr style=\"text-align: right;\">\n",
              "      <th></th>\n",
              "      <th>title</th>\n",
              "      <th>abstract</th>\n",
              "      <th>datasets_used</th>\n",
              "      <th>methods</th>\n",
              "      <th>tasks</th>\n",
              "      <th>task</th>\n",
              "      <th>revised_tasks</th>\n",
              "    </tr>\n",
              "  </thead>\n",
              "  <tbody>\n",
              "    <tr>\n",
              "      <th>0</th>\n",
              "      <td>A Lumen Segmentation Method in Ureteroscopy Images based on a Deep Residual U-Net architecture</td>\n",
              "      <td>Ureteroscopy is becoming the first surgical treatment option for the majority of urinary affections. This procedure is performed using an endoscope which provides the surgeon with the visual information necessary to navigate inside the urinary tract. Having in mind the development of surgical assistance systems, that could enhance the performance of surgeon, the task of lumen segmentation is a fundamental part since this is the visual reference which marks the path that the endoscope should follow. This is something that has not been analyzed in ureteroscopy data before. However, this task...</td>\n",
              "      <td>['Add Datasets']</td>\n",
              "      <td>['Concatenated Skip Connection', 'Convolution', 'Max Pooling', 'ReLU', 'U-Net']</td>\n",
              "      <td>['Navigate']</td>\n",
              "      <td>Navigate</td>\n",
              "      <td>[Navigate]</td>\n",
              "    </tr>\n",
              "    <tr>\n",
              "      <th>1</th>\n",
              "      <td>Classification without (Proper) Representation: Political Heterogeneity in Social Media and Its Implications for Classification and Behavioral Analysis</td>\n",
              "      <td>Reddit is home to a broad spectrum of political activity, and users signal their political affiliations in multiple ways—from self-declarations to community participation. Frequently, computational studies have treated political users as a single bloc, both in developing models to infer political leaning and in studying political behavior. Here, we test this assumption of political users and show that commonly-used political-inference models do not generalize, indicating heterogeneous types of political users. The models remain imprecise at best for most users, regardless of which sources ...</td>\n",
              "      <td>['Add Datasets']</td>\n",
              "      <td>['Absolute Position Encodings', 'Adam', 'BPE', 'Dense Connections', 'Dropout', 'Label Smoothing', 'Layer Normalization', 'Linear Layer', 'Multi-Head Attention', 'Position-Wise Feed-Forward Layer', 'Residual Connection', 'Scaled Dot-Product Attention', 'Softmax', 'Transformer']</td>\n",
              "      <td>['Classification']</td>\n",
              "      <td>Classification</td>\n",
              "      <td>[Classification]</td>\n",
              "    </tr>\n",
              "    <tr>\n",
              "      <th>2</th>\n",
              "      <td>Multi-cropping Contrastive Learning and Domain Consistency for Unsupervised Image-to-Image Translation</td>\n",
              "      <td>Recently, unsupervised image-to-image translation methods based on contrastive learning have achieved state-of-the-art results in many tasks. However, in the previous works, the negatives are sampled from the input image itself, which inspires us to design a data augmentation method to improve the quality of the selected negatives. Moreover, the previous methods only preserve the content consistency via patch-wise contrastive learning in the embedding space, which ignores the domain consistency between the generated images and the real images of the target domain. In this paper, we propose...</td>\n",
              "      <td>['Add Datasets']</td>\n",
              "      <td>['Average Pooling', 'Channel attention', 'Contrastive Learning', 'Convolution', 'Coordinate attention', 'Dense Connections', 'Global Average Pooling', 'Kaiming Initialization', 'Max Pooling', 'ReLU', 'SENet', 'Sigmoid Activation', 'Softmax', 'Squeeze-and-Excitation Block']</td>\n",
              "      <td>['Contrastive Learning', 'Data Augmentation', 'Image-to-Image Translation', 'Translation', 'Unsupervised Image-To-Image Translation']</td>\n",
              "      <td>Contrastive Learning</td>\n",
              "      <td>[Contrastive Learning, Data Augmentation, Image-to-Image Translation, Translation]</td>\n",
              "    </tr>\n",
              "    <tr>\n",
              "      <th>3</th>\n",
              "      <td>Pretrained Language Model based Web Search Ranking: From Relevance to Satisfaction</td>\n",
              "      <td>Search engine plays a crucial role in satisfying users' diverse information needs. Recently, Pretrained Language Models (PLMs) based text ranking models have achieved huge success in web search. However, many state-of-the-art text ranking approaches only focus on core relevance while ignoring other dimensions that contribute to user satisfaction, e.g., document quality, recency, authority, etc. In this work, we focus on ranking user satisfaction rather than relevance in web search, and propose a PLM-based framework, namely SAT-Ranker, which comprehensively models different dimensions of us...</td>\n",
              "      <td>['Add Datasets']</td>\n",
              "      <td>['Focus']</td>\n",
              "      <td>['Language Modelling']</td>\n",
              "      <td>Language Modelling</td>\n",
              "      <td>[Language Modelling]</td>\n",
              "    </tr>\n",
              "    <tr>\n",
              "      <th>4</th>\n",
              "      <td>A Deep Learning Approach for Determining Effects of Tuta Absoluta in Tomato Plants</td>\n",
              "      <td>Early quantification of Tuta absoluta pest's effects in tomato plants is a very important factor in controlling and preventing serious damages of the pest. The invasion of Tuta absoluta is considered a major threat to tomato production causing heavy loss ranging from 80 to 100 percent when not properly managed. Therefore, real-time and early quantification of tomato leaf miner Tuta absoluta, can play an important role in addressing the issue of pest management and enhance farmers' decisions. In this study, we propose a Convolutional Neural Network (CNN) approach in determining the effects ...</td>\n",
              "      <td>['PlantVillage']</td>\n",
              "      <td>['1x1 Convolution', 'Adam', 'Auxiliary Classifier', 'Average Pooling', 'Batch Normalization', 'Bottleneck Residual Block', 'Convolution', 'Dense Connections', 'Dropout', 'Global Average Pooling', 'Inception-v3', 'Inception-v3 Module', 'Kaiming Initialization', 'Label Smoothing', 'Max Pooling', 'ReLU', 'Residual Block', 'Residual Connection', 'ResNet', 'Softmax']</td>\n",
              "      <td>['Management']</td>\n",
              "      <td>Management</td>\n",
              "      <td>[Management]</td>\n",
              "    </tr>\n",
              "    <tr>\n",
              "      <th>...</th>\n",
              "      <td>...</td>\n",
              "      <td>...</td>\n",
              "      <td>...</td>\n",
              "      <td>...</td>\n",
              "      <td>...</td>\n",
              "      <td>...</td>\n",
              "      <td>...</td>\n",
              "    </tr>\n",
              "    <tr>\n",
              "      <th>16299</th>\n",
              "      <td>Laplacian2Mesh: Laplacian-Based Mesh Understanding</td>\n",
              "      <td>Geometric deep learning has sparked a rising interest in computer graphics to perform shape understanding tasks, such as shape classification and semantic segmentation. When the input is a polygonal surface, one has to suffer from the irregular mesh structure. Motivated by the geometric spectral theory, we introduce Laplacian2Mesh, a novel and flexible convolutional neural network (CNN) framework for coping with irregular triangle meshes (vertices may have any valence). By mapping the input mesh surface to the multi-dimensional Laplacian-Beltrami space, Laplacian2Mesh enables one to perfor...</td>\n",
              "      <td>['ModelNet', 'SHREC', 'MPI FAUST Dataset']</td>\n",
              "      <td>['Convolution']</td>\n",
              "      <td>['Semantic Segmentation', 'Surface Reconstruction']</td>\n",
              "      <td>Semantic Segmentation</td>\n",
              "      <td>[Semantic Segmentation]</td>\n",
              "    </tr>\n",
              "    <tr>\n",
              "      <th>16300</th>\n",
              "      <td>You Need Multiple Exiting: Dynamic Early Exiting for Accelerating Unified Vision Language Model</td>\n",
              "      <td>Large-scale Transformer models bring significant improvements for various downstream vision language tasks with a unified architecture. The performance improvements come with increasing model size, resulting in slow inference speed and increased cost for severing. While some certain predictions benefit from the full complexity of the large-scale model, not all of inputs need the same amount of computation to conduct, potentially leading to computation resource waste. To handle this challenge, early exiting is proposed to adaptively allocate computational power in term of input complexity t...</td>\n",
              "      <td>['SNLI-VE']</td>\n",
              "      <td>['Absolute Position Encodings', 'Adam', 'BPE', 'Dense Connections', 'Dropout', 'Early exiting', 'Label Smoothing', 'Layer Normalization', 'Linear Layer', 'Multi-Head Attention', 'Position-Wise Feed-Forward Layer', 'Residual Connection', 'Scaled Dot-Product Attention', 'Softmax', 'SPEED', 'Transformer']</td>\n",
              "      <td>['Language Modelling']</td>\n",
              "      <td>Language Modelling</td>\n",
              "      <td>[Language Modelling]</td>\n",
              "    </tr>\n",
              "    <tr>\n",
              "      <th>16301</th>\n",
              "      <td>CodeRL: Mastering Code Generation through Pretrained Models and Deep Reinforcement Learning</td>\n",
              "      <td>Program synthesis or code generation aims to generate a program that satisfies a problem specification. Recent approaches using large-scale pretrained language models (LMs) have shown promising results, yet they have some critical limitations. In particular, they often follow a standard supervised fine-tuning procedure to train a code generation model only from the pairs of natural-language problem descriptions and ground-truth programs. Such paradigm largely ignores some important but potentially useful signals in the problem specification such as unit tests, which thus often results in p...</td>\n",
              "      <td>['CodeSearchNet', 'CodeXGLUE', 'MBPP', 'APPS']</td>\n",
              "      <td>['Adafactor', 'Attention Dropout', 'BPE', 'Dense Connections', 'Dropout', 'GELU', 'GLU', 'Inverse Square Root Schedule', 'Layer Normalization', 'Linear Layer', 'Multi-Head Attention', 'Residual Connection', 'Scaled Dot-Product Attention', 'SentencePiece', 'Softmax', 'T5']</td>\n",
              "      <td>['Code Generation', 'Program Synthesis', 'reinforcement-learning', 'Reinforcement Learning (RL)']</td>\n",
              "      <td>Code Generation</td>\n",
              "      <td>[Code Generation, reinforcement-learning, Reinforcement Learning (RL)]</td>\n",
              "    </tr>\n",
              "    <tr>\n",
              "      <th>16302</th>\n",
              "      <td>End-to-end grasping policies for human-in-the-loop robots via deep reinforcement learning</td>\n",
              "      <td>State-of-the-art human-in-the-loop robot grasping is hugely suffered by Electromyography (EMG) inference robustness issues. As a workaround, researchers have been looking into integrating EMG with other signals, often in an ad hoc manner. In this paper, we are presenting a method for end-to-end training of a policy for human-in-the-loop robot grasping on real reaching trajectories. For this purpose we use Reinforcement Learning (RL) and Imitation Learning (IL) in DEXTRON (DEXTerity enviRONment), a stochastic simulation environment with real human trajectories that are augmented and selecte...</td>\n",
              "      <td>['MuJoCo']</td>\n",
              "      <td>['Adam', 'Dense Connections', 'Experience Replay', 'HOC', 'ReLU', 'Soft Actor Critic']</td>\n",
              "      <td>['Electromyography (EMG)', 'Imitation Learning', 'Reinforcement Learning (RL)']</td>\n",
              "      <td>Electromyography (EMG)</td>\n",
              "      <td>[Imitation Learning, Reinforcement Learning (RL)]</td>\n",
              "    </tr>\n",
              "    <tr>\n",
              "      <th>16303</th>\n",
              "      <td>PolyFormer: Referring Image Segmentation as Sequential Polygon Generation</td>\n",
              "      <td>In this work, instead of directly predicting the pixel-level segmentation masks, the problem of referring image segmentation is formulated as sequential polygon generation, and the predicted polygons can be later converted into segmentation masks. This is enabled by a new sequence-to-sequence framework, Polygon Transformer (PolyFormer), which takes a sequence of image patches and text query tokens as input, and outputs a sequence of polygon vertices autoregressively. For more accurate geometric localization, we propose a regression-based decoder, which predicts the precise floating-point c...</td>\n",
              "      <td>['RefCOCO', 'Referring Expressions for DAVIS 2016 &amp; 2017', 'Google Refexp']</td>\n",
              "      <td>['Absolute Position Encodings', 'Adam', 'BPE', 'Dense Connections', 'Dropout', 'Label Smoothing', 'Layer Normalization', 'Linear Layer', 'Multi-Head Attention', 'Position-Wise Feed-Forward Layer', 'Residual Connection', 'Scaled Dot-Product Attention', 'Softmax', 'Transformer']</td>\n",
              "      <td>['Image Segmentation', 'Quantization', 'Referring Expression Comprehension', 'Referring Expression Segmentation', 'Semantic Segmentation', 'Video Segmentation', 'Video Semantic Segmentation']</td>\n",
              "      <td>Image Segmentation</td>\n",
              "      <td>[Image Segmentation, Quantization, Semantic Segmentation, Video Semantic Segmentation]</td>\n",
              "    </tr>\n",
              "  </tbody>\n",
              "</table>\n",
              "<p>16304 rows × 7 columns</p>\n",
              "</div>\n",
              "    <div class=\"colab-df-buttons\">\n",
              "\n",
              "  <div class=\"colab-df-container\">\n",
              "    <button class=\"colab-df-convert\" onclick=\"convertToInteractive('df-1d57ad07-c133-4c82-af66-16d456ee995b')\"\n",
              "            title=\"Convert this dataframe to an interactive table.\"\n",
              "            style=\"display:none;\">\n",
              "\n",
              "  <svg xmlns=\"http://www.w3.org/2000/svg\" height=\"24px\" viewBox=\"0 -960 960 960\">\n",
              "    <path d=\"M120-120v-720h720v720H120Zm60-500h600v-160H180v160Zm220 220h160v-160H400v160Zm0 220h160v-160H400v160ZM180-400h160v-160H180v160Zm440 0h160v-160H620v160ZM180-180h160v-160H180v160Zm440 0h160v-160H620v160Z\"/>\n",
              "  </svg>\n",
              "    </button>\n",
              "\n",
              "  <style>\n",
              "    .colab-df-container {\n",
              "      display:flex;\n",
              "      gap: 12px;\n",
              "    }\n",
              "\n",
              "    .colab-df-convert {\n",
              "      background-color: #E8F0FE;\n",
              "      border: none;\n",
              "      border-radius: 50%;\n",
              "      cursor: pointer;\n",
              "      display: none;\n",
              "      fill: #1967D2;\n",
              "      height: 32px;\n",
              "      padding: 0 0 0 0;\n",
              "      width: 32px;\n",
              "    }\n",
              "\n",
              "    .colab-df-convert:hover {\n",
              "      background-color: #E2EBFA;\n",
              "      box-shadow: 0px 1px 2px rgba(60, 64, 67, 0.3), 0px 1px 3px 1px rgba(60, 64, 67, 0.15);\n",
              "      fill: #174EA6;\n",
              "    }\n",
              "\n",
              "    .colab-df-buttons div {\n",
              "      margin-bottom: 4px;\n",
              "    }\n",
              "\n",
              "    [theme=dark] .colab-df-convert {\n",
              "      background-color: #3B4455;\n",
              "      fill: #D2E3FC;\n",
              "    }\n",
              "\n",
              "    [theme=dark] .colab-df-convert:hover {\n",
              "      background-color: #434B5C;\n",
              "      box-shadow: 0px 1px 3px 1px rgba(0, 0, 0, 0.15);\n",
              "      filter: drop-shadow(0px 1px 2px rgba(0, 0, 0, 0.3));\n",
              "      fill: #FFFFFF;\n",
              "    }\n",
              "  </style>\n",
              "\n",
              "    <script>\n",
              "      const buttonEl =\n",
              "        document.querySelector('#df-1d57ad07-c133-4c82-af66-16d456ee995b button.colab-df-convert');\n",
              "      buttonEl.style.display =\n",
              "        google.colab.kernel.accessAllowed ? 'block' : 'none';\n",
              "\n",
              "      async function convertToInteractive(key) {\n",
              "        const element = document.querySelector('#df-1d57ad07-c133-4c82-af66-16d456ee995b');\n",
              "        const dataTable =\n",
              "          await google.colab.kernel.invokeFunction('convertToInteractive',\n",
              "                                                    [key], {});\n",
              "        if (!dataTable) return;\n",
              "\n",
              "        const docLinkHtml = 'Like what you see? Visit the ' +\n",
              "          '<a target=\"_blank\" href=https://colab.research.google.com/notebooks/data_table.ipynb>data table notebook</a>'\n",
              "          + ' to learn more about interactive tables.';\n",
              "        element.innerHTML = '';\n",
              "        dataTable['output_type'] = 'display_data';\n",
              "        await google.colab.output.renderOutput(dataTable, element);\n",
              "        const docLink = document.createElement('div');\n",
              "        docLink.innerHTML = docLinkHtml;\n",
              "        element.appendChild(docLink);\n",
              "      }\n",
              "    </script>\n",
              "  </div>\n",
              "\n",
              "\n",
              "<div id=\"df-020408a7-98bb-4cbf-82c0-c5d742b26655\">\n",
              "  <button class=\"colab-df-quickchart\" onclick=\"quickchart('df-020408a7-98bb-4cbf-82c0-c5d742b26655')\"\n",
              "            title=\"Suggest charts.\"\n",
              "            style=\"display:none;\">\n",
              "\n",
              "<svg xmlns=\"http://www.w3.org/2000/svg\" height=\"24px\"viewBox=\"0 0 24 24\"\n",
              "     width=\"24px\">\n",
              "    <g>\n",
              "        <path d=\"M19 3H5c-1.1 0-2 .9-2 2v14c0 1.1.9 2 2 2h14c1.1 0 2-.9 2-2V5c0-1.1-.9-2-2-2zM9 17H7v-7h2v7zm4 0h-2V7h2v10zm4 0h-2v-4h2v4z\"/>\n",
              "    </g>\n",
              "</svg>\n",
              "  </button>\n",
              "\n",
              "<style>\n",
              "  .colab-df-quickchart {\n",
              "    background-color: #E8F0FE;\n",
              "    border: none;\n",
              "    border-radius: 50%;\n",
              "    cursor: pointer;\n",
              "    display: none;\n",
              "    fill: #1967D2;\n",
              "    height: 32px;\n",
              "    padding: 0 0 0 0;\n",
              "    width: 32px;\n",
              "  }\n",
              "\n",
              "  .colab-df-quickchart:hover {\n",
              "    background-color: #E2EBFA;\n",
              "    box-shadow: 0px 1px 2px rgba(60, 64, 67, 0.3), 0px 1px 3px 1px rgba(60, 64, 67, 0.15);\n",
              "    fill: #174EA6;\n",
              "  }\n",
              "\n",
              "  [theme=dark] .colab-df-quickchart {\n",
              "    background-color: #3B4455;\n",
              "    fill: #D2E3FC;\n",
              "  }\n",
              "\n",
              "  [theme=dark] .colab-df-quickchart:hover {\n",
              "    background-color: #434B5C;\n",
              "    box-shadow: 0px 1px 3px 1px rgba(0, 0, 0, 0.15);\n",
              "    filter: drop-shadow(0px 1px 2px rgba(0, 0, 0, 0.3));\n",
              "    fill: #FFFFFF;\n",
              "  }\n",
              "</style>\n",
              "\n",
              "  <script>\n",
              "    async function quickchart(key) {\n",
              "      const charts = await google.colab.kernel.invokeFunction(\n",
              "          'suggestCharts', [key], {});\n",
              "    }\n",
              "    (() => {\n",
              "      let quickchartButtonEl =\n",
              "        document.querySelector('#df-020408a7-98bb-4cbf-82c0-c5d742b26655 button');\n",
              "      quickchartButtonEl.style.display =\n",
              "        google.colab.kernel.accessAllowed ? 'block' : 'none';\n",
              "    })();\n",
              "  </script>\n",
              "</div>\n",
              "    </div>\n",
              "  </div>\n"
            ]
          },
          "metadata": {},
          "execution_count": 26
        }
      ]
    },
    {
      "cell_type": "code",
      "source": [
        "# df.to_csv(\"papersWithCode_data_multiLabel.csv\", index=False)"
      ],
      "metadata": {
        "id": "5r7uKvHJ0iql"
      },
      "execution_count": null,
      "outputs": []
    },
    {
      "cell_type": "code",
      "source": [
        "revised_tasks_list = df['revised_tasks'].to_list()\n",
        "revised_task_count = {}\n",
        "\n",
        "for tasks in revised_tasks_list:\n",
        "    task_list = tasks\n",
        "    for task in task_list:\n",
        "        if task in revised_task_count.keys():\n",
        "            revised_task_count[task] += 1\n",
        "        else:\n",
        "            revised_task_count[task] = 1\n",
        "\n",
        "print(f\"Number of tasks: {len(revised_task_count)}\")\n",
        "print(revised_task_count)"
      ],
      "metadata": {
        "colab": {
          "base_uri": "https://localhost:8080/"
        },
        "id": "0F6PaSHgu4HK",
        "outputId": "c685d348-da27-4913-8fe9-1c96dda0ca15"
      },
      "execution_count": null,
      "outputs": [
        {
          "output_type": "stream",
          "name": "stdout",
          "text": [
            "Number of tasks: 260\n",
            "{'Navigate': 45, 'Classification': 708, 'Contrastive Learning': 277, 'Data Augmentation': 543, 'Image-to-Image Translation': 145, 'Translation': 879, 'Language Modelling': 1333, 'Management': 219, 'Adversarial Robustness': 42, 'Knowledge Distillation': 244, 'Model Compression': 142, 'General Classification': 928, 'object-detection': 967, 'Object Detection': 1068, 'Question Answering': 572, 'Visual Question Answering': 81, 'Visual Question Answering (VQA)': 114, 'Domain Adaptation': 233, 'Image Generation': 421, 'Unsupervised Domain Adaptation': 54, 'Fairness': 66, 'Recommendation Systems': 119, 'Retrieval': 573, 'Tumor Segmentation': 78, 'Quantization': 277, 'Image Classification': 945, 'Clustering': 327, 'Transfer Learning': 752, 'Denoising': 407, 'Natural Language Understanding': 227, 'Machine Translation': 627, 'NMT': 138, 'Time Series Analysis': 493, 'Time Series Classification': 54, 'Representation Learning': 663, 'Multi-Task Learning': 189, 'Semantic Parsing': 94, 'Style Transfer': 129, 'Action Detection': 36, 'Action Recognition': 204, 'Region Proposal': 49, 'Skeleton Based Action Recognition': 41, 'Decision Making': 256, 'Event Detection': 35, 'Disentanglement': 139, 'Voice Conversion': 47, 'Machine Reading Comprehension': 59, 'Reading Comprehension': 118, 'Speaker Verification': 39, 'Inductive Bias': 133, 'Scheduling': 68, 'Semantic Segmentation': 1168, 'Object Recognition': 109, 'Domain Generalization': 56, 'Video Understanding': 48, 'Multi-agent Reinforcement Learning': 61, 'Abstractive Text Summarization': 104, 'Question Generation': 40, 'Question-Generation': 36, 'Re-Ranking': 47, 'Image Segmentation': 380, 'Medical Image Segmentation': 188, 'regression': 205, 'Vocal Bursts Intensity Prediction': 135, 'Zero-Shot Learning': 79, 'Graph Embedding': 55, 'speech-recognition': 359, 'Speech Recognition': 376, 'Node Classification': 81, 'Automatic Speech Recognition': 195, 'Automatic Speech Recognition (ASR)': 191, 'Federated Learning': 74, 'Activity Recognition': 61, 'Relation Extraction': 132, 'Electroencephalogram (EEG)': 55, 'Time Series Forecasting': 89, 'Text Summarization': 113, 'Conditional Image Generation': 46, 'Semantic Similarity': 84, 'Semantic Textual Similarity': 128, 'Sentence Embeddings': 75, 'Sentiment Analysis': 400, 'Depth Estimation': 84, 'Monocular Depth Estimation': 30, 'Self-Supervised Learning': 271, 'BIG-bench Machine Learning': 222, 'Multiple-choice': 41, 'Word Embeddings': 380, 'Feature Engineering': 78, 'Instance Segmentation': 259, 'Informativeness': 31, 'Pose Estimation': 192, 'Benchmarking': 145, 'Image Captioning': 129, 'Optical Flow Estimation': 95, 'Neural Architecture Search': 290, 'named-entity-recognition': 208, 'Named Entity Recognition': 218, 'Named Entity Recognition (NER)': 231, 'NER': 151, 'Computed Tomography (CT)': 79, 'Face Swapping': 41, 'Image Super-Resolution': 145, 'Super-Resolution': 245, 'Sentence Classification': 32, 'text-classification': 283, 'Text Classification': 336, 'Information Retrieval': 171, 'AutoML': 32, 'Model Selection': 41, 'Q-Learning': 466, 'Sentence Embedding': 51, 'Sentence-Embedding': 48, 'slot-filling': 35, 'Slot Filling': 41, 'Spoken Language Understanding': 43, 'Privacy Preserving': 51, 'Natural Language Inference': 196, 'Atari Games': 93, 'Reinforcement Learning (RL)': 923, 'Emotion Recognition': 112, 'Autonomous Driving': 214, 'Imitation Learning': 56, 'reinforcement-learning': 788, 'Human Activity Recognition': 35, 'Text Generation': 383, 'Deblurring': 53, 'Image Reconstruction': 113, 'Dependency Parsing': 74, 'Part-Of-Speech Tagging': 50, 'XLM-R': 92, 'Anomaly Detection': 268, 'SSIM': 82, 'Object Tracking': 76, 'Active Learning': 59, 'Anatomy': 64, 'Knowledge Graphs': 82, 'Graph Classification': 54, 'Lesion Segmentation': 60, 'Optical Character Recognition (OCR)': 64, 'Image Retrieval': 99, 'Entity Linking': 30, 'Language Identification': 51, 'Bayesian Optimization': 38, 'Image Augmentation': 30, 'Meta-Learning': 109, 'Person Re-Identification': 56, '3D Human Pose Estimation': 48, '3D Reconstruction': 45, 'Cross-Lingual Transfer': 72, 'Aspect-Based Sentiment Analysis (ABSA)': 39, 'Scene Understanding': 56, 'POS': 71, 'Continuous Control': 90, 'Link Prediction': 56, 'Action Classification': 37, 'Temporal Action Localization': 111, 'Few-Shot Learning': 148, 'Edge-computing': 49, 'Document Summarization': 43, 'Variational Inference': 91, 'Ensemble Learning': 53, 'Graph Attention': 50, 'Trajectory Prediction': 50, 'Face Generation': 41, 'Dimensionality Reduction': 114, 'Response Generation': 68, 'Text Detection': 38, 'Real-Time Object Detection': 52, 'Autonomous Vehicles': 91, 'Adversarial Attack': 73, 'Change Detection': 49, 'Multiple Instance Learning': 32, 'Bayesian Inference': 35, 'Image Enhancement': 40, 'Image Restoration': 86, 'Panoptic Segmentation': 54, 'Dynamic Time Warping': 74, 'Metric Learning': 37, 'Gaussian Processes': 35, 'feature selection': 61, 'Image Denoising': 73, 'Masked Language Modeling': 83, 'Face Recognition': 90, 'Vocal Bursts Valence Prediction': 41, 'Image Compression': 57, 'Image Registration': 39, 'Pedestrian Detection': 39, 'Outlier Detection': 35, 'Text-to-Image Generation': 30, 'Sentiment Classification': 90, 'Video Generation': 43, 'Misinformation': 39, 'Binarization': 34, 'Out-of-Distribution Detection': 37, 'Density Estimation': 56, 'Object Localization': 41, 'OpenAI Gym': 45, 'Music Generation': 46, 'Graph Generation': 34, 'Graph Representation Learning': 47, 'Memorization': 34, 'Graph Learning': 54, 'Brain Tumor Segmentation': 47, 'Fake News Detection': 41, 'Unsupervised Anomaly Detection': 43, 'Binary Classification': 103, 'Drug Discovery': 53, 'Unsupervised Pre-training': 32, 'Dialogue Generation': 40, 'Speech Synthesis': 116, 'Speech Enhancement': 69, 'Traffic Prediction': 34, 'Video Prediction': 42, 'Self-Driving Cars': 31, 'Chatbot': 49, 'Document Classification': 43, 'Image Manipulation': 43, 'Hate Speech Detection': 49, 'TAG': 55, 'Relation Classification': 31, 'Code Generation': 57, 'Speech Emotion Recognition': 31, 'whole slide images': 30, 'Image Inpainting': 55, 'Network Pruning': 51, 'Visual Grounding': 31, 'Weakly supervised Semantic Segmentation': 30, 'Weakly-Supervised Semantic Segmentation': 31, 'Face Detection': 30, 'Continual Learning': 54, 'Word Sense Disambiguation': 37, 'Coreference Resolution': 31, 'Open-Domain Question Answering': 37, 'Offline RL': 45, 'Multi-class Classification': 34, 'Video Classification': 39, 'STS': 41, 'Facial Expression Recognition (FER)': 31, 'Imputation': 41, 'Open-Ended Question Answering': 31, 'Specificity': 80, 'Salient Object Detection': 36, 'intent-classification': 32, 'Intent Classification': 33, 'Collaborative Filtering': 38, 'Video Recognition': 36, '3D Object Detection': 62, 'Combinatorial Optimization': 33, 'Video Semantic Segmentation': 39, 'Image Quality Assessment': 34, 'Video Captioning': 33, 'Text-To-Speech Synthesis': 37, 'Multi-Label Classification': 58, 'Descriptive': 54, 'Common Sense Reasoning': 51, 'Text Retrieval': 31, 'Intent Detection': 30, 'Prompt Engineering': 32, 'Explainable Artificial Intelligence (XAI)': 32}\n"
          ]
        }
      ]
    },
    {
      "cell_type": "code",
      "source": [
        "encode_task_types = { key: idx for idx, (key, value) in enumerate(revised_task_count.items()) }\n",
        "with open(\"task_types_encoded.json\", \"w\") as fp:\n",
        "    json.dump(encode_task_types, fp)"
      ],
      "metadata": {
        "id": "4LiB_WDpw9QP"
      },
      "execution_count": null,
      "outputs": []
    },
    {
      "cell_type": "code",
      "source": [
        "categorical_task_list = []\n",
        "revised_tasks_list = df['revised_tasks'].to_list()\n",
        "\n",
        "for revised_tasks in revised_tasks_list:\n",
        "    categorical_list = [0] * len(encode_task_types)\n",
        "    for task in revised_tasks:\n",
        "        task_type_index = encode_task_types[task]\n",
        "        categorical_list[task_type_index] = 1\n",
        "    categorical_task_list.append(categorical_list)\n",
        "\n"
      ],
      "metadata": {
        "id": "K6Ef0r4b0HOf"
      },
      "execution_count": null,
      "outputs": []
    },
    {
      "cell_type": "code",
      "source": [
        "categorical_task_list[5][:20]"
      ],
      "metadata": {
        "colab": {
          "base_uri": "https://localhost:8080/"
        },
        "id": "Sv_68nUL2KuM",
        "outputId": "580a1761-44a4-4034-f849-a6c59669eaaf"
      },
      "execution_count": null,
      "outputs": [
        {
          "output_type": "execute_result",
          "data": {
            "text/plain": [
              "[0, 0, 0, 0, 0, 0, 0, 0, 1, 1, 1, 0, 0, 0, 0, 0, 0, 0, 0, 0]"
            ]
          },
          "metadata": {},
          "execution_count": 30
        }
      ]
    },
    {
      "cell_type": "code",
      "source": [
        "df['task_categories'] = categorical_task_list"
      ],
      "metadata": {
        "id": "SDDAHzK_2nrV"
      },
      "execution_count": null,
      "outputs": []
    },
    {
      "cell_type": "code",
      "source": [
        "df.head()"
      ],
      "metadata": {
        "colab": {
          "base_uri": "https://localhost:8080/",
          "height": 1000
        },
        "id": "4aYWRIVV3AJC",
        "outputId": "44992671-8967-4b47-e683-0aec093ba5f6"
      },
      "execution_count": null,
      "outputs": [
        {
          "output_type": "execute_result",
          "data": {
            "text/plain": [
              "                                                                                                                                                     title  \\\n",
              "0                                                           A Lumen Segmentation Method in Ureteroscopy Images based on a Deep Residual U-Net architecture   \n",
              "1  Classification without (Proper) Representation: Political Heterogeneity in Social Media and Its Implications for Classification and Behavioral Analysis   \n",
              "2                                                   Multi-cropping Contrastive Learning and Domain Consistency for Unsupervised Image-to-Image Translation   \n",
              "3                                                                       Pretrained Language Model based Web Search Ranking: From Relevance to Satisfaction   \n",
              "4                                                                       A Deep Learning Approach for Determining Effects of Tuta Absoluta in Tomato Plants   \n",
              "\n",
              "                                                                                                                                                                                                                                                                                                                                                                                                                                                                                                                                                                                                                  abstract  \\\n",
              "0  Ureteroscopy is becoming the first surgical treatment option for the majority of urinary affections. This procedure is performed using an endoscope which provides the surgeon with the visual information necessary to navigate inside the urinary tract. Having in mind the development of surgical assistance systems, that could enhance the performance of surgeon, the task of lumen segmentation is a fundamental part since this is the visual reference which marks the path that the endoscope should follow. This is something that has not been analyzed in ureteroscopy data before. However, this task...   \n",
              "1  Reddit is home to a broad spectrum of political activity, and users signal their political affiliations in multiple ways—from self-declarations to community participation. Frequently, computational studies have treated political users as a single bloc, both in developing models to infer political leaning and in studying political behavior. Here, we test this assumption of political users and show that commonly-used political-inference models do not generalize, indicating heterogeneous types of political users. The models remain imprecise at best for most users, regardless of which sources ...   \n",
              "2  Recently, unsupervised image-to-image translation methods based on contrastive learning have achieved state-of-the-art results in many tasks. However, in the previous works, the negatives are sampled from the input image itself, which inspires us to design a data augmentation method to improve the quality of the selected negatives. Moreover, the previous methods only preserve the content consistency via patch-wise contrastive learning in the embedding space, which ignores the domain consistency between the generated images and the real images of the target domain. In this paper, we propose...   \n",
              "3  Search engine plays a crucial role in satisfying users' diverse information needs. Recently, Pretrained Language Models (PLMs) based text ranking models have achieved huge success in web search. However, many state-of-the-art text ranking approaches only focus on core relevance while ignoring other dimensions that contribute to user satisfaction, e.g., document quality, recency, authority, etc. In this work, we focus on ranking user satisfaction rather than relevance in web search, and propose a PLM-based framework, namely SAT-Ranker, which comprehensively models different dimensions of us...   \n",
              "4  Early quantification of Tuta absoluta pest's effects in tomato plants is a very important factor in controlling and preventing serious damages of the pest. The invasion of Tuta absoluta is considered a major threat to tomato production causing heavy loss ranging from 80 to 100 percent when not properly managed. Therefore, real-time and early quantification of tomato leaf miner Tuta absoluta, can play an important role in addressing the issue of pest management and enhance farmers' decisions. In this study, we propose a Convolutional Neural Network (CNN) approach in determining the effects ...   \n",
              "\n",
              "      datasets_used  \\\n",
              "0  ['Add Datasets']   \n",
              "1  ['Add Datasets']   \n",
              "2  ['Add Datasets']   \n",
              "3  ['Add Datasets']   \n",
              "4  ['PlantVillage']   \n",
              "\n",
              "                                                                                                                                                                                                                                                                                                                                                                        methods  \\\n",
              "0                                                                                                                                                                                                                                                                                               ['Concatenated Skip Connection', 'Convolution', 'Max Pooling', 'ReLU', 'U-Net']   \n",
              "1                                                                                         ['Absolute Position Encodings', 'Adam', 'BPE', 'Dense Connections', 'Dropout', 'Label Smoothing', 'Layer Normalization', 'Linear Layer', 'Multi-Head Attention', 'Position-Wise Feed-Forward Layer', 'Residual Connection', 'Scaled Dot-Product Attention', 'Softmax', 'Transformer']   \n",
              "2                                                                                             ['Average Pooling', 'Channel attention', 'Contrastive Learning', 'Convolution', 'Coordinate attention', 'Dense Connections', 'Global Average Pooling', 'Kaiming Initialization', 'Max Pooling', 'ReLU', 'SENet', 'Sigmoid Activation', 'Softmax', 'Squeeze-and-Excitation Block']   \n",
              "3                                                                                                                                                                                                                                                                                                                                                                     ['Focus']   \n",
              "4  ['1x1 Convolution', 'Adam', 'Auxiliary Classifier', 'Average Pooling', 'Batch Normalization', 'Bottleneck Residual Block', 'Convolution', 'Dense Connections', 'Dropout', 'Global Average Pooling', 'Inception-v3', 'Inception-v3 Module', 'Kaiming Initialization', 'Label Smoothing', 'Max Pooling', 'ReLU', 'Residual Block', 'Residual Connection', 'ResNet', 'Softmax']   \n",
              "\n",
              "                                                                                                                                   tasks  \\\n",
              "0                                                                                                                           ['Navigate']   \n",
              "1                                                                                                                     ['Classification']   \n",
              "2  ['Contrastive Learning', 'Data Augmentation', 'Image-to-Image Translation', 'Translation', 'Unsupervised Image-To-Image Translation']   \n",
              "3                                                                                                                 ['Language Modelling']   \n",
              "4                                                                                                                         ['Management']   \n",
              "\n",
              "                   task  \\\n",
              "0              Navigate   \n",
              "1        Classification   \n",
              "2  Contrastive Learning   \n",
              "3    Language Modelling   \n",
              "4            Management   \n",
              "\n",
              "                                                                        revised_tasks  \\\n",
              "0                                                                          [Navigate]   \n",
              "1                                                                    [Classification]   \n",
              "2  [Contrastive Learning, Data Augmentation, Image-to-Image Translation, Translation]   \n",
              "3                                                                [Language Modelling]   \n",
              "4                                                                        [Management]   \n",
              "\n",
              "                                                                                                                                                                                                                                                                                                     task_categories  \n",
              "0  [1, 0, 0, 0, 0, 0, 0, 0, 0, 0, 0, 0, 0, 0, 0, 0, 0, 0, 0, 0, 0, 0, 0, 0, 0, 0, 0, 0, 0, 0, 0, 0, 0, 0, 0, 0, 0, 0, 0, 0, 0, 0, 0, 0, 0, 0, 0, 0, 0, 0, 0, 0, 0, 0, 0, 0, 0, 0, 0, 0, 0, 0, 0, 0, 0, 0, 0, 0, 0, 0, 0, 0, 0, 0, 0, 0, 0, 0, 0, 0, 0, 0, 0, 0, 0, 0, 0, 0, 0, 0, 0, 0, 0, 0, 0, 0, 0, 0, 0, 0, ...]  \n",
              "1  [0, 1, 0, 0, 0, 0, 0, 0, 0, 0, 0, 0, 0, 0, 0, 0, 0, 0, 0, 0, 0, 0, 0, 0, 0, 0, 0, 0, 0, 0, 0, 0, 0, 0, 0, 0, 0, 0, 0, 0, 0, 0, 0, 0, 0, 0, 0, 0, 0, 0, 0, 0, 0, 0, 0, 0, 0, 0, 0, 0, 0, 0, 0, 0, 0, 0, 0, 0, 0, 0, 0, 0, 0, 0, 0, 0, 0, 0, 0, 0, 0, 0, 0, 0, 0, 0, 0, 0, 0, 0, 0, 0, 0, 0, 0, 0, 0, 0, 0, 0, ...]  \n",
              "2  [0, 0, 1, 1, 1, 1, 0, 0, 0, 0, 0, 0, 0, 0, 0, 0, 0, 0, 0, 0, 0, 0, 0, 0, 0, 0, 0, 0, 0, 0, 0, 0, 0, 0, 0, 0, 0, 0, 0, 0, 0, 0, 0, 0, 0, 0, 0, 0, 0, 0, 0, 0, 0, 0, 0, 0, 0, 0, 0, 0, 0, 0, 0, 0, 0, 0, 0, 0, 0, 0, 0, 0, 0, 0, 0, 0, 0, 0, 0, 0, 0, 0, 0, 0, 0, 0, 0, 0, 0, 0, 0, 0, 0, 0, 0, 0, 0, 0, 0, 0, ...]  \n",
              "3  [0, 0, 0, 0, 0, 0, 1, 0, 0, 0, 0, 0, 0, 0, 0, 0, 0, 0, 0, 0, 0, 0, 0, 0, 0, 0, 0, 0, 0, 0, 0, 0, 0, 0, 0, 0, 0, 0, 0, 0, 0, 0, 0, 0, 0, 0, 0, 0, 0, 0, 0, 0, 0, 0, 0, 0, 0, 0, 0, 0, 0, 0, 0, 0, 0, 0, 0, 0, 0, 0, 0, 0, 0, 0, 0, 0, 0, 0, 0, 0, 0, 0, 0, 0, 0, 0, 0, 0, 0, 0, 0, 0, 0, 0, 0, 0, 0, 0, 0, 0, ...]  \n",
              "4  [0, 0, 0, 0, 0, 0, 0, 1, 0, 0, 0, 0, 0, 0, 0, 0, 0, 0, 0, 0, 0, 0, 0, 0, 0, 0, 0, 0, 0, 0, 0, 0, 0, 0, 0, 0, 0, 0, 0, 0, 0, 0, 0, 0, 0, 0, 0, 0, 0, 0, 0, 0, 0, 0, 0, 0, 0, 0, 0, 0, 0, 0, 0, 0, 0, 0, 0, 0, 0, 0, 0, 0, 0, 0, 0, 0, 0, 0, 0, 0, 0, 0, 0, 0, 0, 0, 0, 0, 0, 0, 0, 0, 0, 0, 0, 0, 0, 0, 0, 0, ...]  "
            ],
            "text/html": [
              "\n",
              "  <div id=\"df-bfaec040-fc69-4a4e-bf08-864e39a44e03\" class=\"colab-df-container\">\n",
              "    <div>\n",
              "<style scoped>\n",
              "    .dataframe tbody tr th:only-of-type {\n",
              "        vertical-align: middle;\n",
              "    }\n",
              "\n",
              "    .dataframe tbody tr th {\n",
              "        vertical-align: top;\n",
              "    }\n",
              "\n",
              "    .dataframe thead th {\n",
              "        text-align: right;\n",
              "    }\n",
              "</style>\n",
              "<table border=\"1\" class=\"dataframe\">\n",
              "  <thead>\n",
              "    <tr style=\"text-align: right;\">\n",
              "      <th></th>\n",
              "      <th>title</th>\n",
              "      <th>abstract</th>\n",
              "      <th>datasets_used</th>\n",
              "      <th>methods</th>\n",
              "      <th>tasks</th>\n",
              "      <th>task</th>\n",
              "      <th>revised_tasks</th>\n",
              "      <th>task_categories</th>\n",
              "    </tr>\n",
              "  </thead>\n",
              "  <tbody>\n",
              "    <tr>\n",
              "      <th>0</th>\n",
              "      <td>A Lumen Segmentation Method in Ureteroscopy Images based on a Deep Residual U-Net architecture</td>\n",
              "      <td>Ureteroscopy is becoming the first surgical treatment option for the majority of urinary affections. This procedure is performed using an endoscope which provides the surgeon with the visual information necessary to navigate inside the urinary tract. Having in mind the development of surgical assistance systems, that could enhance the performance of surgeon, the task of lumen segmentation is a fundamental part since this is the visual reference which marks the path that the endoscope should follow. This is something that has not been analyzed in ureteroscopy data before. However, this task...</td>\n",
              "      <td>['Add Datasets']</td>\n",
              "      <td>['Concatenated Skip Connection', 'Convolution', 'Max Pooling', 'ReLU', 'U-Net']</td>\n",
              "      <td>['Navigate']</td>\n",
              "      <td>Navigate</td>\n",
              "      <td>[Navigate]</td>\n",
              "      <td>[1, 0, 0, 0, 0, 0, 0, 0, 0, 0, 0, 0, 0, 0, 0, 0, 0, 0, 0, 0, 0, 0, 0, 0, 0, 0, 0, 0, 0, 0, 0, 0, 0, 0, 0, 0, 0, 0, 0, 0, 0, 0, 0, 0, 0, 0, 0, 0, 0, 0, 0, 0, 0, 0, 0, 0, 0, 0, 0, 0, 0, 0, 0, 0, 0, 0, 0, 0, 0, 0, 0, 0, 0, 0, 0, 0, 0, 0, 0, 0, 0, 0, 0, 0, 0, 0, 0, 0, 0, 0, 0, 0, 0, 0, 0, 0, 0, 0, 0, 0, ...]</td>\n",
              "    </tr>\n",
              "    <tr>\n",
              "      <th>1</th>\n",
              "      <td>Classification without (Proper) Representation: Political Heterogeneity in Social Media and Its Implications for Classification and Behavioral Analysis</td>\n",
              "      <td>Reddit is home to a broad spectrum of political activity, and users signal their political affiliations in multiple ways—from self-declarations to community participation. Frequently, computational studies have treated political users as a single bloc, both in developing models to infer political leaning and in studying political behavior. Here, we test this assumption of political users and show that commonly-used political-inference models do not generalize, indicating heterogeneous types of political users. The models remain imprecise at best for most users, regardless of which sources ...</td>\n",
              "      <td>['Add Datasets']</td>\n",
              "      <td>['Absolute Position Encodings', 'Adam', 'BPE', 'Dense Connections', 'Dropout', 'Label Smoothing', 'Layer Normalization', 'Linear Layer', 'Multi-Head Attention', 'Position-Wise Feed-Forward Layer', 'Residual Connection', 'Scaled Dot-Product Attention', 'Softmax', 'Transformer']</td>\n",
              "      <td>['Classification']</td>\n",
              "      <td>Classification</td>\n",
              "      <td>[Classification]</td>\n",
              "      <td>[0, 1, 0, 0, 0, 0, 0, 0, 0, 0, 0, 0, 0, 0, 0, 0, 0, 0, 0, 0, 0, 0, 0, 0, 0, 0, 0, 0, 0, 0, 0, 0, 0, 0, 0, 0, 0, 0, 0, 0, 0, 0, 0, 0, 0, 0, 0, 0, 0, 0, 0, 0, 0, 0, 0, 0, 0, 0, 0, 0, 0, 0, 0, 0, 0, 0, 0, 0, 0, 0, 0, 0, 0, 0, 0, 0, 0, 0, 0, 0, 0, 0, 0, 0, 0, 0, 0, 0, 0, 0, 0, 0, 0, 0, 0, 0, 0, 0, 0, 0, ...]</td>\n",
              "    </tr>\n",
              "    <tr>\n",
              "      <th>2</th>\n",
              "      <td>Multi-cropping Contrastive Learning and Domain Consistency for Unsupervised Image-to-Image Translation</td>\n",
              "      <td>Recently, unsupervised image-to-image translation methods based on contrastive learning have achieved state-of-the-art results in many tasks. However, in the previous works, the negatives are sampled from the input image itself, which inspires us to design a data augmentation method to improve the quality of the selected negatives. Moreover, the previous methods only preserve the content consistency via patch-wise contrastive learning in the embedding space, which ignores the domain consistency between the generated images and the real images of the target domain. In this paper, we propose...</td>\n",
              "      <td>['Add Datasets']</td>\n",
              "      <td>['Average Pooling', 'Channel attention', 'Contrastive Learning', 'Convolution', 'Coordinate attention', 'Dense Connections', 'Global Average Pooling', 'Kaiming Initialization', 'Max Pooling', 'ReLU', 'SENet', 'Sigmoid Activation', 'Softmax', 'Squeeze-and-Excitation Block']</td>\n",
              "      <td>['Contrastive Learning', 'Data Augmentation', 'Image-to-Image Translation', 'Translation', 'Unsupervised Image-To-Image Translation']</td>\n",
              "      <td>Contrastive Learning</td>\n",
              "      <td>[Contrastive Learning, Data Augmentation, Image-to-Image Translation, Translation]</td>\n",
              "      <td>[0, 0, 1, 1, 1, 1, 0, 0, 0, 0, 0, 0, 0, 0, 0, 0, 0, 0, 0, 0, 0, 0, 0, 0, 0, 0, 0, 0, 0, 0, 0, 0, 0, 0, 0, 0, 0, 0, 0, 0, 0, 0, 0, 0, 0, 0, 0, 0, 0, 0, 0, 0, 0, 0, 0, 0, 0, 0, 0, 0, 0, 0, 0, 0, 0, 0, 0, 0, 0, 0, 0, 0, 0, 0, 0, 0, 0, 0, 0, 0, 0, 0, 0, 0, 0, 0, 0, 0, 0, 0, 0, 0, 0, 0, 0, 0, 0, 0, 0, 0, ...]</td>\n",
              "    </tr>\n",
              "    <tr>\n",
              "      <th>3</th>\n",
              "      <td>Pretrained Language Model based Web Search Ranking: From Relevance to Satisfaction</td>\n",
              "      <td>Search engine plays a crucial role in satisfying users' diverse information needs. Recently, Pretrained Language Models (PLMs) based text ranking models have achieved huge success in web search. However, many state-of-the-art text ranking approaches only focus on core relevance while ignoring other dimensions that contribute to user satisfaction, e.g., document quality, recency, authority, etc. In this work, we focus on ranking user satisfaction rather than relevance in web search, and propose a PLM-based framework, namely SAT-Ranker, which comprehensively models different dimensions of us...</td>\n",
              "      <td>['Add Datasets']</td>\n",
              "      <td>['Focus']</td>\n",
              "      <td>['Language Modelling']</td>\n",
              "      <td>Language Modelling</td>\n",
              "      <td>[Language Modelling]</td>\n",
              "      <td>[0, 0, 0, 0, 0, 0, 1, 0, 0, 0, 0, 0, 0, 0, 0, 0, 0, 0, 0, 0, 0, 0, 0, 0, 0, 0, 0, 0, 0, 0, 0, 0, 0, 0, 0, 0, 0, 0, 0, 0, 0, 0, 0, 0, 0, 0, 0, 0, 0, 0, 0, 0, 0, 0, 0, 0, 0, 0, 0, 0, 0, 0, 0, 0, 0, 0, 0, 0, 0, 0, 0, 0, 0, 0, 0, 0, 0, 0, 0, 0, 0, 0, 0, 0, 0, 0, 0, 0, 0, 0, 0, 0, 0, 0, 0, 0, 0, 0, 0, 0, ...]</td>\n",
              "    </tr>\n",
              "    <tr>\n",
              "      <th>4</th>\n",
              "      <td>A Deep Learning Approach for Determining Effects of Tuta Absoluta in Tomato Plants</td>\n",
              "      <td>Early quantification of Tuta absoluta pest's effects in tomato plants is a very important factor in controlling and preventing serious damages of the pest. The invasion of Tuta absoluta is considered a major threat to tomato production causing heavy loss ranging from 80 to 100 percent when not properly managed. Therefore, real-time and early quantification of tomato leaf miner Tuta absoluta, can play an important role in addressing the issue of pest management and enhance farmers' decisions. In this study, we propose a Convolutional Neural Network (CNN) approach in determining the effects ...</td>\n",
              "      <td>['PlantVillage']</td>\n",
              "      <td>['1x1 Convolution', 'Adam', 'Auxiliary Classifier', 'Average Pooling', 'Batch Normalization', 'Bottleneck Residual Block', 'Convolution', 'Dense Connections', 'Dropout', 'Global Average Pooling', 'Inception-v3', 'Inception-v3 Module', 'Kaiming Initialization', 'Label Smoothing', 'Max Pooling', 'ReLU', 'Residual Block', 'Residual Connection', 'ResNet', 'Softmax']</td>\n",
              "      <td>['Management']</td>\n",
              "      <td>Management</td>\n",
              "      <td>[Management]</td>\n",
              "      <td>[0, 0, 0, 0, 0, 0, 0, 1, 0, 0, 0, 0, 0, 0, 0, 0, 0, 0, 0, 0, 0, 0, 0, 0, 0, 0, 0, 0, 0, 0, 0, 0, 0, 0, 0, 0, 0, 0, 0, 0, 0, 0, 0, 0, 0, 0, 0, 0, 0, 0, 0, 0, 0, 0, 0, 0, 0, 0, 0, 0, 0, 0, 0, 0, 0, 0, 0, 0, 0, 0, 0, 0, 0, 0, 0, 0, 0, 0, 0, 0, 0, 0, 0, 0, 0, 0, 0, 0, 0, 0, 0, 0, 0, 0, 0, 0, 0, 0, 0, 0, ...]</td>\n",
              "    </tr>\n",
              "  </tbody>\n",
              "</table>\n",
              "</div>\n",
              "    <div class=\"colab-df-buttons\">\n",
              "\n",
              "  <div class=\"colab-df-container\">\n",
              "    <button class=\"colab-df-convert\" onclick=\"convertToInteractive('df-bfaec040-fc69-4a4e-bf08-864e39a44e03')\"\n",
              "            title=\"Convert this dataframe to an interactive table.\"\n",
              "            style=\"display:none;\">\n",
              "\n",
              "  <svg xmlns=\"http://www.w3.org/2000/svg\" height=\"24px\" viewBox=\"0 -960 960 960\">\n",
              "    <path d=\"M120-120v-720h720v720H120Zm60-500h600v-160H180v160Zm220 220h160v-160H400v160Zm0 220h160v-160H400v160ZM180-400h160v-160H180v160Zm440 0h160v-160H620v160ZM180-180h160v-160H180v160Zm440 0h160v-160H620v160Z\"/>\n",
              "  </svg>\n",
              "    </button>\n",
              "\n",
              "  <style>\n",
              "    .colab-df-container {\n",
              "      display:flex;\n",
              "      gap: 12px;\n",
              "    }\n",
              "\n",
              "    .colab-df-convert {\n",
              "      background-color: #E8F0FE;\n",
              "      border: none;\n",
              "      border-radius: 50%;\n",
              "      cursor: pointer;\n",
              "      display: none;\n",
              "      fill: #1967D2;\n",
              "      height: 32px;\n",
              "      padding: 0 0 0 0;\n",
              "      width: 32px;\n",
              "    }\n",
              "\n",
              "    .colab-df-convert:hover {\n",
              "      background-color: #E2EBFA;\n",
              "      box-shadow: 0px 1px 2px rgba(60, 64, 67, 0.3), 0px 1px 3px 1px rgba(60, 64, 67, 0.15);\n",
              "      fill: #174EA6;\n",
              "    }\n",
              "\n",
              "    .colab-df-buttons div {\n",
              "      margin-bottom: 4px;\n",
              "    }\n",
              "\n",
              "    [theme=dark] .colab-df-convert {\n",
              "      background-color: #3B4455;\n",
              "      fill: #D2E3FC;\n",
              "    }\n",
              "\n",
              "    [theme=dark] .colab-df-convert:hover {\n",
              "      background-color: #434B5C;\n",
              "      box-shadow: 0px 1px 3px 1px rgba(0, 0, 0, 0.15);\n",
              "      filter: drop-shadow(0px 1px 2px rgba(0, 0, 0, 0.3));\n",
              "      fill: #FFFFFF;\n",
              "    }\n",
              "  </style>\n",
              "\n",
              "    <script>\n",
              "      const buttonEl =\n",
              "        document.querySelector('#df-bfaec040-fc69-4a4e-bf08-864e39a44e03 button.colab-df-convert');\n",
              "      buttonEl.style.display =\n",
              "        google.colab.kernel.accessAllowed ? 'block' : 'none';\n",
              "\n",
              "      async function convertToInteractive(key) {\n",
              "        const element = document.querySelector('#df-bfaec040-fc69-4a4e-bf08-864e39a44e03');\n",
              "        const dataTable =\n",
              "          await google.colab.kernel.invokeFunction('convertToInteractive',\n",
              "                                                    [key], {});\n",
              "        if (!dataTable) return;\n",
              "\n",
              "        const docLinkHtml = 'Like what you see? Visit the ' +\n",
              "          '<a target=\"_blank\" href=https://colab.research.google.com/notebooks/data_table.ipynb>data table notebook</a>'\n",
              "          + ' to learn more about interactive tables.';\n",
              "        element.innerHTML = '';\n",
              "        dataTable['output_type'] = 'display_data';\n",
              "        await google.colab.output.renderOutput(dataTable, element);\n",
              "        const docLink = document.createElement('div');\n",
              "        docLink.innerHTML = docLinkHtml;\n",
              "        element.appendChild(docLink);\n",
              "      }\n",
              "    </script>\n",
              "  </div>\n",
              "\n",
              "\n",
              "<div id=\"df-6f637356-c827-40ba-94d1-09e87e35b671\">\n",
              "  <button class=\"colab-df-quickchart\" onclick=\"quickchart('df-6f637356-c827-40ba-94d1-09e87e35b671')\"\n",
              "            title=\"Suggest charts.\"\n",
              "            style=\"display:none;\">\n",
              "\n",
              "<svg xmlns=\"http://www.w3.org/2000/svg\" height=\"24px\"viewBox=\"0 0 24 24\"\n",
              "     width=\"24px\">\n",
              "    <g>\n",
              "        <path d=\"M19 3H5c-1.1 0-2 .9-2 2v14c0 1.1.9 2 2 2h14c1.1 0 2-.9 2-2V5c0-1.1-.9-2-2-2zM9 17H7v-7h2v7zm4 0h-2V7h2v10zm4 0h-2v-4h2v4z\"/>\n",
              "    </g>\n",
              "</svg>\n",
              "  </button>\n",
              "\n",
              "<style>\n",
              "  .colab-df-quickchart {\n",
              "    background-color: #E8F0FE;\n",
              "    border: none;\n",
              "    border-radius: 50%;\n",
              "    cursor: pointer;\n",
              "    display: none;\n",
              "    fill: #1967D2;\n",
              "    height: 32px;\n",
              "    padding: 0 0 0 0;\n",
              "    width: 32px;\n",
              "  }\n",
              "\n",
              "  .colab-df-quickchart:hover {\n",
              "    background-color: #E2EBFA;\n",
              "    box-shadow: 0px 1px 2px rgba(60, 64, 67, 0.3), 0px 1px 3px 1px rgba(60, 64, 67, 0.15);\n",
              "    fill: #174EA6;\n",
              "  }\n",
              "\n",
              "  [theme=dark] .colab-df-quickchart {\n",
              "    background-color: #3B4455;\n",
              "    fill: #D2E3FC;\n",
              "  }\n",
              "\n",
              "  [theme=dark] .colab-df-quickchart:hover {\n",
              "    background-color: #434B5C;\n",
              "    box-shadow: 0px 1px 3px 1px rgba(0, 0, 0, 0.15);\n",
              "    filter: drop-shadow(0px 1px 2px rgba(0, 0, 0, 0.3));\n",
              "    fill: #FFFFFF;\n",
              "  }\n",
              "</style>\n",
              "\n",
              "  <script>\n",
              "    async function quickchart(key) {\n",
              "      const charts = await google.colab.kernel.invokeFunction(\n",
              "          'suggestCharts', [key], {});\n",
              "    }\n",
              "    (() => {\n",
              "      let quickchartButtonEl =\n",
              "        document.querySelector('#df-6f637356-c827-40ba-94d1-09e87e35b671 button');\n",
              "      quickchartButtonEl.style.display =\n",
              "        google.colab.kernel.accessAllowed ? 'block' : 'none';\n",
              "    })();\n",
              "  </script>\n",
              "</div>\n",
              "    </div>\n",
              "  </div>\n"
            ]
          },
          "metadata": {},
          "execution_count": 32
        }
      ]
    },
    {
      "cell_type": "code",
      "source": [
        "# df.to_csv(\"papersWithCode_data_multiLabel.csv\", index=False)"
      ],
      "metadata": {
        "id": "pp3U24Ns3Aua"
      },
      "execution_count": null,
      "outputs": []
    },
    {
      "cell_type": "markdown",
      "source": [
        "## Dataloaders and modeling"
      ],
      "metadata": {
        "id": "mLCm4KYG3gDU"
      }
    },
    {
      "cell_type": "markdown",
      "source": [
        "Load the data"
      ],
      "metadata": {
        "id": "wacsgDEB3v6H"
      }
    },
    {
      "cell_type": "code",
      "source": [
        "# df = pd.read_csv(\"papersWithCode_data_multiLabel.csv\")"
      ],
      "metadata": {
        "id": "Ku9PTLEj3vG2"
      },
      "execution_count": null,
      "outputs": []
    },
    {
      "cell_type": "code",
      "source": [
        "# df"
      ],
      "metadata": {
        "id": "lyIZrn599GUQ"
      },
      "execution_count": null,
      "outputs": []
    },
    {
      "cell_type": "code",
      "source": [
        "labels = list(encode_task_types.keys())\n",
        "print(labels)\n",
        "\n",
        "# with open(\"task_types_encoded.json\", \"r\") as fp:\n",
        "#     enc = json.load(fp)\n",
        "# labels = list(enc.keys())\n",
        "# print(labels)"
      ],
      "metadata": {
        "colab": {
          "base_uri": "https://localhost:8080/"
        },
        "id": "qyzsDKcf4E6d",
        "outputId": "e58e672a-ec01-4a6b-f70b-ad186bcd9b07"
      },
      "execution_count": null,
      "outputs": [
        {
          "output_type": "stream",
          "name": "stdout",
          "text": [
            "['Navigate', 'Classification', 'Contrastive Learning', 'Data Augmentation', 'Image-to-Image Translation', 'Translation', 'Language Modelling', 'Management', 'Adversarial Robustness', 'Knowledge Distillation', 'Model Compression', 'General Classification', 'object-detection', 'Object Detection', 'Question Answering', 'Visual Question Answering', 'Visual Question Answering (VQA)', 'Domain Adaptation', 'Image Generation', 'Unsupervised Domain Adaptation', 'Fairness', 'Recommendation Systems', 'Retrieval', 'Tumor Segmentation', 'Quantization', 'Image Classification', 'Clustering', 'Transfer Learning', 'Denoising', 'Natural Language Understanding', 'Machine Translation', 'NMT', 'Time Series Analysis', 'Time Series Classification', 'Representation Learning', 'Multi-Task Learning', 'Semantic Parsing', 'Style Transfer', 'Action Detection', 'Action Recognition', 'Region Proposal', 'Skeleton Based Action Recognition', 'Decision Making', 'Event Detection', 'Disentanglement', 'Voice Conversion', 'Machine Reading Comprehension', 'Reading Comprehension', 'Speaker Verification', 'Inductive Bias', 'Scheduling', 'Semantic Segmentation', 'Object Recognition', 'Domain Generalization', 'Video Understanding', 'Multi-agent Reinforcement Learning', 'Abstractive Text Summarization', 'Question Generation', 'Question-Generation', 'Re-Ranking', 'Image Segmentation', 'Medical Image Segmentation', 'regression', 'Vocal Bursts Intensity Prediction', 'Zero-Shot Learning', 'Graph Embedding', 'speech-recognition', 'Speech Recognition', 'Node Classification', 'Automatic Speech Recognition', 'Automatic Speech Recognition (ASR)', 'Federated Learning', 'Activity Recognition', 'Relation Extraction', 'Electroencephalogram (EEG)', 'Time Series Forecasting', 'Text Summarization', 'Conditional Image Generation', 'Semantic Similarity', 'Semantic Textual Similarity', 'Sentence Embeddings', 'Sentiment Analysis', 'Depth Estimation', 'Monocular Depth Estimation', 'Self-Supervised Learning', 'BIG-bench Machine Learning', 'Multiple-choice', 'Word Embeddings', 'Feature Engineering', 'Instance Segmentation', 'Informativeness', 'Pose Estimation', 'Benchmarking', 'Image Captioning', 'Optical Flow Estimation', 'Neural Architecture Search', 'named-entity-recognition', 'Named Entity Recognition', 'Named Entity Recognition (NER)', 'NER', 'Computed Tomography (CT)', 'Face Swapping', 'Image Super-Resolution', 'Super-Resolution', 'Sentence Classification', 'text-classification', 'Text Classification', 'Information Retrieval', 'AutoML', 'Model Selection', 'Q-Learning', 'Sentence Embedding', 'Sentence-Embedding', 'slot-filling', 'Slot Filling', 'Spoken Language Understanding', 'Privacy Preserving', 'Natural Language Inference', 'Atari Games', 'Reinforcement Learning (RL)', 'Emotion Recognition', 'Autonomous Driving', 'Imitation Learning', 'reinforcement-learning', 'Human Activity Recognition', 'Text Generation', 'Deblurring', 'Image Reconstruction', 'Dependency Parsing', 'Part-Of-Speech Tagging', 'XLM-R', 'Anomaly Detection', 'SSIM', 'Object Tracking', 'Active Learning', 'Anatomy', 'Knowledge Graphs', 'Graph Classification', 'Lesion Segmentation', 'Optical Character Recognition (OCR)', 'Image Retrieval', 'Entity Linking', 'Language Identification', 'Bayesian Optimization', 'Image Augmentation', 'Meta-Learning', 'Person Re-Identification', '3D Human Pose Estimation', '3D Reconstruction', 'Cross-Lingual Transfer', 'Aspect-Based Sentiment Analysis (ABSA)', 'Scene Understanding', 'POS', 'Continuous Control', 'Link Prediction', 'Action Classification', 'Temporal Action Localization', 'Few-Shot Learning', 'Edge-computing', 'Document Summarization', 'Variational Inference', 'Ensemble Learning', 'Graph Attention', 'Trajectory Prediction', 'Face Generation', 'Dimensionality Reduction', 'Response Generation', 'Text Detection', 'Real-Time Object Detection', 'Autonomous Vehicles', 'Adversarial Attack', 'Change Detection', 'Multiple Instance Learning', 'Bayesian Inference', 'Image Enhancement', 'Image Restoration', 'Panoptic Segmentation', 'Dynamic Time Warping', 'Metric Learning', 'Gaussian Processes', 'feature selection', 'Image Denoising', 'Masked Language Modeling', 'Face Recognition', 'Vocal Bursts Valence Prediction', 'Image Compression', 'Image Registration', 'Pedestrian Detection', 'Outlier Detection', 'Text-to-Image Generation', 'Sentiment Classification', 'Video Generation', 'Misinformation', 'Binarization', 'Out-of-Distribution Detection', 'Density Estimation', 'Object Localization', 'OpenAI Gym', 'Music Generation', 'Graph Generation', 'Graph Representation Learning', 'Memorization', 'Graph Learning', 'Brain Tumor Segmentation', 'Fake News Detection', 'Unsupervised Anomaly Detection', 'Binary Classification', 'Drug Discovery', 'Unsupervised Pre-training', 'Dialogue Generation', 'Speech Synthesis', 'Speech Enhancement', 'Traffic Prediction', 'Video Prediction', 'Self-Driving Cars', 'Chatbot', 'Document Classification', 'Image Manipulation', 'Hate Speech Detection', 'TAG', 'Relation Classification', 'Code Generation', 'Speech Emotion Recognition', 'whole slide images', 'Image Inpainting', 'Network Pruning', 'Visual Grounding', 'Weakly supervised Semantic Segmentation', 'Weakly-Supervised Semantic Segmentation', 'Face Detection', 'Continual Learning', 'Word Sense Disambiguation', 'Coreference Resolution', 'Open-Domain Question Answering', 'Offline RL', 'Multi-class Classification', 'Video Classification', 'STS', 'Facial Expression Recognition (FER)', 'Imputation', 'Open-Ended Question Answering', 'Specificity', 'Salient Object Detection', 'intent-classification', 'Intent Classification', 'Collaborative Filtering', 'Video Recognition', '3D Object Detection', 'Combinatorial Optimization', 'Video Semantic Segmentation', 'Image Quality Assessment', 'Video Captioning', 'Text-To-Speech Synthesis', 'Multi-Label Classification', 'Descriptive', 'Common Sense Reasoning', 'Text Retrieval', 'Intent Detection', 'Prompt Engineering', 'Explainable Artificial Intelligence (XAI)']\n"
          ]
        }
      ]
    },
    {
      "cell_type": "code",
      "source": [
        "model_name = \"distilroberta-base\"\n",
        "model_cls = AutoModelForSequenceClassification\n",
        "config = AutoConfig.from_pretrained(model_name)\n",
        "config.num_labels = len(labels)\n",
        "\n",
        "hf_arch, hf_config, hf_tokenizer, hf_model = get_hf_objects(model_name, model_cls=model_cls, config=config)\n",
        "hf_model.config.problem_type = \"multi_label_classification\""
      ],
      "metadata": {
        "id": "PQF9mpj73Jny",
        "colab": {
          "base_uri": "https://localhost:8080/",
          "height": 177,
          "referenced_widgets": [
            "b5dad9f3abad4cd591ac1f1e494619cb",
            "b0d2144e3cf043d986f4484de9b2dd07",
            "0ba3fcc93f2444bf8bfdd5d104cd3f7c",
            "1ddfcea861ab4fc9a7c5eb9adf535a21",
            "5f17d0b24f9b4a69827b4656eed347be",
            "fdaf25ecaf5f4630a0f496bb716e20ea",
            "ea91df7511f440e3b8ba585494cdc983",
            "459f458f55a44d3fbd2bad85be9e266f",
            "91921952e42c499c93ca637834cf9434",
            "f4340d71300845d580e97b208921c09d",
            "7ba3968051b94b58a651b707950b2b69",
            "b39a14b7a61d4bc29d2e23d908f734b7",
            "07220d5de2594c44ac25f05c7a6dd0a3",
            "b030cf30e40a44b8b2eb134320e31d3d",
            "4197d27b6d28485a924db467a7e2b60a",
            "d1552b2b146e4201b098de2d1ba97eff",
            "71ba595f23a94a3289ae46b26114d920",
            "69eb9a2f91354cfa81fb28371055ea91",
            "3d8f1a10e9aa40949d9c725ce6499790",
            "5483b7df81444e0c8d321f5c61648607",
            "f795ba941dc748058f7e065d88e3cc13",
            "f1fb55e464ec433f8b90b74b32f09b7b",
            "3e31e1a0342c482e898a1d41e8156a49",
            "e149af2ee40b4b569e06e577721896d8",
            "9bc126862e854249ac53451d5d440fdf",
            "e5f27770106344949e720b16316882d8",
            "6d3de34d356f447e8c51953f39cb4bff",
            "fdf47906c3804f79b301b96bfb5a4fde",
            "861272b136654502b9d025492b766bf1",
            "cd6ba2b812854a1d8bef3174ad508cd0",
            "de45038f3db043f7939362036fbb8343",
            "db128d8e4bde424d8e6a464925ff7710",
            "16f02c73b65f44bba6ea71de25dfbc67",
            "6345212d4fc6443a81605faf998fe400",
            "98af93976f614b5784ca57db18aca912",
            "e297aaa4b2094ae78acce41cbd21e81b",
            "92e810b27fc947faa059a04917db21ff",
            "58536d8d8f0f405d91d88f5cf124593d",
            "9a31a7dd0cfe44f49ecea4396102c69e",
            "401fb93769a741a8b779467f4cbe57d6",
            "3460dd2359cd4bff8d7c16b72565e310",
            "3a175eeb24b344ba8e6f1d81406a936b",
            "ad4aa2b089544922a38804b944955a52",
            "a456582d3aa940869d2cf8ed9e882b92",
            "c058e2692b784709921e01702b683a65",
            "a60fd8f95be441c2bdcccb45b143205e",
            "9414eb41f2bd493d848cf1005c055068",
            "b816ae49178242708fcb1f01bf846832",
            "c5ae2e319ef84f67bbe67a490617534e",
            "a5cec3a4986348e0928784cd987d01b5",
            "630776e2ff2641519e3486fbd3a2e9b8",
            "327fe74493bb4da3bc2fd4efabf0739e",
            "4b3e5279ccff4f6fbd2169b89519c1c8",
            "c8f5168d5d594e508315736f34e56f7e",
            "d520fda50ace452c942e629e82adaf02"
          ]
        },
        "outputId": "5f688d29-0982-4243-f346-2d3233e1830e"
      },
      "execution_count": null,
      "outputs": [
        {
          "output_type": "display_data",
          "data": {
            "text/plain": [
              "Downloading (…)lve/main/config.json:   0%|          | 0.00/480 [00:00<?, ?B/s]"
            ],
            "application/vnd.jupyter.widget-view+json": {
              "version_major": 2,
              "version_minor": 0,
              "model_id": "b5dad9f3abad4cd591ac1f1e494619cb"
            }
          },
          "metadata": {}
        },
        {
          "output_type": "display_data",
          "data": {
            "text/plain": [
              "Downloading (…)olve/main/vocab.json:   0%|          | 0.00/899k [00:00<?, ?B/s]"
            ],
            "application/vnd.jupyter.widget-view+json": {
              "version_major": 2,
              "version_minor": 0,
              "model_id": "b39a14b7a61d4bc29d2e23d908f734b7"
            }
          },
          "metadata": {}
        },
        {
          "output_type": "display_data",
          "data": {
            "text/plain": [
              "Downloading (…)olve/main/merges.txt:   0%|          | 0.00/456k [00:00<?, ?B/s]"
            ],
            "application/vnd.jupyter.widget-view+json": {
              "version_major": 2,
              "version_minor": 0,
              "model_id": "3e31e1a0342c482e898a1d41e8156a49"
            }
          },
          "metadata": {}
        },
        {
          "output_type": "display_data",
          "data": {
            "text/plain": [
              "Downloading (…)/main/tokenizer.json:   0%|          | 0.00/1.36M [00:00<?, ?B/s]"
            ],
            "application/vnd.jupyter.widget-view+json": {
              "version_major": 2,
              "version_minor": 0,
              "model_id": "6345212d4fc6443a81605faf998fe400"
            }
          },
          "metadata": {}
        },
        {
          "output_type": "display_data",
          "data": {
            "text/plain": [
              "Downloading model.safetensors:   0%|          | 0.00/331M [00:00<?, ?B/s]"
            ],
            "application/vnd.jupyter.widget-view+json": {
              "version_major": 2,
              "version_minor": 0,
              "model_id": "c058e2692b784709921e01702b683a65"
            }
          },
          "metadata": {}
        }
      ]
    },
    {
      "cell_type": "code",
      "source": [
        "blocks = (TextBlock(hf_arch, hf_config, hf_tokenizer, hf_model), MultiCategoryBlock(encoded=True, vocab=labels))\n",
        "dblock = DataBlock(blocks=blocks, get_x=ColReader('abstract'), get_y=ColReader('task_categories'),\n",
        "                   splitter=RandomSplitter(valid_pct=0.1, seed=22))"
      ],
      "metadata": {
        "id": "tgT73hJ57RZv"
      },
      "execution_count": null,
      "outputs": []
    },
    {
      "cell_type": "code",
      "source": [
        "dls = dblock.dataloaders(df, bs=32)\n",
        "torch.save(dls, \"dataloaders/dls_multilabel_paper_task_classifier.pkl\")"
      ],
      "metadata": {
        "id": "OttFbmV37_-p"
      },
      "execution_count": null,
      "outputs": []
    },
    {
      "cell_type": "code",
      "source": [
        "# dls.vocab"
      ],
      "metadata": {
        "id": "ZrGOWIZB8VS9"
      },
      "execution_count": null,
      "outputs": []
    },
    {
      "cell_type": "code",
      "source": [
        "dls.show_batch(dataloaders=dls, max_n=8, trunc_at=512)"
      ],
      "metadata": {
        "colab": {
          "base_uri": "https://localhost:8080/",
          "height": 717
        },
        "id": "BAVVzGlg-aeC",
        "outputId": "37e3631b-6bc5-48ac-d444-32f915ea5fe9"
      },
      "execution_count": null,
      "outputs": [
        {
          "output_type": "display_data",
          "data": {
            "text/plain": [
              "<IPython.core.display.HTML object>"
            ],
            "text/html": [
              "<table border=\"1\" class=\"dataframe\">\n",
              "  <thead>\n",
              "    <tr style=\"text-align: right;\">\n",
              "      <th></th>\n",
              "      <th>text</th>\n",
              "      <th>target</th>\n",
              "    </tr>\n",
              "  </thead>\n",
              "  <tbody>\n",
              "    <tr>\n",
              "      <th>0</th>\n",
              "      <td>In essence, a neural network is an arbitrary differentiable, parametrized function. Choosing a neural network architecture for any task is as complex as searching the space of those functions. For the last few years, 'neural architecture design' has been largely synonymous with 'neural architecture search' (NAS), i.e. brute-force, large-scale search. NAS has yielded significant gains on practical tasks. However, NAS methods end up searching for a local optimum in architecture space in a small neighborhood</td>\n",
              "      <td>[Neural Architecture Search]</td>\n",
              "    </tr>\n",
              "    <tr>\n",
              "      <th>1</th>\n",
              "      <td>The emergence of multi-parametric magnetic resonance imaging (mpMRI) has had a profound impact on the diagnosis of prostate cancers (PCa), which is the most prevalent malignancy in males in the western world, enabling a better selection of patients for confirmation biopsy. However, analyzing these images is complex even for experts, hence opening an opportunity for computer-aided diagnosis systems to seize. This paper proposes a fully automatic system based on Deep Learning that takes a prostate mpMRI from</td>\n",
              "      <td>[Specificity]</td>\n",
              "    </tr>\n",
              "    <tr>\n",
              "      <th>2</th>\n",
              "      <td>Recently, spoken language understanding (SLU) has attracted extensive research interests, and various SLU datasets have been proposed to promote the development. However, most of the existing methods focus on a single individual dataset, the efforts to improve the robustness of models and obtain better performance by combining the merits of various datasets are not well studied. In this paper, we argue that if these SLU datasets are considered together, different knowledge from different datasets could be</td>\n",
              "      <td>[Transfer Learning, Federated Learning, slot-filling, Slot Filling, Spoken Language Understanding, Intent Detection]</td>\n",
              "    </tr>\n",
              "    <tr>\n",
              "      <th>3</th>\n",
              "      <td>Masked AutoEncoder (MAE) has recently led the trends of visual self-supervision area by an elegant asymmetric encoder-decoder design, which significantly optimizes both the pre-training efficiency and fine-tuning accuracy. Notably, the success of the asymmetric structure relies on the \"global\" property of Vanilla Vision Transformer (ViT), whose self-attention mechanism reasons over arbitrary subset of discrete image patches. However, it is still unclear how the advanced Pyramid-based ViTs (e.g., PVT, Swin)</td>\n",
              "      <td>[Object Detection]</td>\n",
              "    </tr>\n",
              "    <tr>\n",
              "      <th>4</th>\n",
              "      <td>VAST, the Valence-Assessing Semantics Test, is a novel intrinsic evaluation task for contextualized word embeddings (CWEs). VAST uses valence, the association of a word with pleasantness, to measure the correspondence of word-level LM semantics with widely used human judgments, and examines the effects of contextualization, tokenization, and LM-specific geometry. Because prior research has found that CWEs from GPT-2 perform poorly on other intrinsic evaluations, we select GPT-2 as our primary subject, and</td>\n",
              "      <td>[Word Embeddings]</td>\n",
              "    </tr>\n",
              "    <tr>\n",
              "      <th>5</th>\n",
              "      <td>Learning from large amounts of unsupervised data and a small amount of supervision is an important open problem in computer vision. We propose a new semi-supervised learning method, Semantic Positives via Pseudo-Labels (SemPPL), that combines labelled and unlabelled data to learn informative representations. Our method extends self-supervised contrastive learning -- where representations are shaped by distinguishing whether two samples represent the same underlying datum (positives) or not (negatives) -- w</td>\n",
              "      <td>[Contrastive Learning]</td>\n",
              "    </tr>\n",
              "    <tr>\n",
              "      <th>6</th>\n",
              "      <td>Mixture-of-experts (MoE) is becoming popular due to its success in improving the model quality, especially in Transformers. By routing tokens with a sparse gate to a few experts (i.e., a small pieces of the full model), MoE can easily increase the model parameters to a very large scale while keeping the computation cost in a constant level. Most existing works just initialize some random experts, set a fixed gating strategy (e.g., Top-k), and train the model from scratch in an ad-hoc way. We identify that</td>\n",
              "      <td>[Language Modelling, Machine Translation, Masked Language Modeling]</td>\n",
              "    </tr>\n",
              "    <tr>\n",
              "      <th>7</th>\n",
              "      <td>With the rapid advances of autonomous driving, it becomes critical to equip its sensing system with more holistic 3D perception. However, existing works focus on parsing either the objects (e.g. cars and pedestrians) or scenes (e.g. trees and buildings) from the LiDAR sensor. In this work, we address the task of LiDAR-based panoptic segmentation, which aims to parse both objects and scenes in a unified manner. As one of the first endeavors towards this new challenging task, we propose the Dynamic Shifting</td>\n",
              "      <td>[Clustering, Autonomous Driving, Panoptic Segmentation]</td>\n",
              "    </tr>\n",
              "  </tbody>\n",
              "</table>"
            ]
          },
          "metadata": {}
        }
      ]
    },
    {
      "cell_type": "code",
      "source": [
        "doc(accuracy_multi)"
      ],
      "metadata": {
        "colab": {
          "base_uri": "https://localhost:8080/",
          "height": 155
        },
        "id": "BXvekQ0--kwP",
        "outputId": "e41a4cfd-0d82-42d7-9e4f-50c8cd800b01"
      },
      "execution_count": null,
      "outputs": [
        {
          "output_type": "display_data",
          "data": {
            "text/plain": [
              "<IPython.core.display.HTML object>"
            ],
            "text/html": [
              "<hr/>\n",
              "<h3>accuracy_multi</h3>\n",
              "<blockquote><pre><code>accuracy_multi(inp, targ, thresh=0.5, sigmoid=True)</code></pre></blockquote><p>Compute accuracy when `inp` and `targ` are the same size.</p>\n",
              "<p><a href=\"https://docs.fast.ai/metrics.html#accuracy_multi\" target=\"_blank\" rel=\"noreferrer noopener\">Show in docs</a></p>"
            ]
          },
          "metadata": {}
        }
      ]
    },
    {
      "cell_type": "code",
      "source": [
        "model = BaseModelWrapper(hf_model)\n",
        "acc_02 = partial(accuracy_multi, thresh=0.2)\n",
        "\n",
        "learner = Learner(dls,\n",
        "                  model,\n",
        "                  opt_func=partial(OptimWrapper, opt=torch.optim.Adam),\n",
        "                  loss_func=BCEWithLogitsLossFlat(),\n",
        "                  metrics=[acc_02],\n",
        "                  cbs=[BaseModelCallback],\n",
        "                  splitter=blurr_splitter).to_fp16()"
      ],
      "metadata": {
        "id": "cPRVq84u-9Hu"
      },
      "execution_count": null,
      "outputs": []
    },
    {
      "cell_type": "code",
      "source": [
        "doc(BCEWithLogitsLossFlat)"
      ],
      "metadata": {
        "colab": {
          "base_uri": "https://localhost:8080/",
          "height": 175
        },
        "id": "IXSXLgXuAfcI",
        "outputId": "8e5c7b36-a1c9-4687-a9e0-35f9715fa9aa"
      },
      "execution_count": null,
      "outputs": [
        {
          "output_type": "display_data",
          "data": {
            "text/plain": [
              "<IPython.core.display.HTML object>"
            ],
            "text/html": [
              "<hr/>\n",
              "<h3>BCEWithLogitsLossFlat</h3>\n",
              "<blockquote><pre><code>BCEWithLogitsLossFlat(*args, axis:int=-1, floatify:bool=True, thresh:float=0.5, weight=None, reduction='mean', pos_weight=None, flatten:bool=True, is_2d:bool=True)</code></pre></blockquote><p>Same as `nn.BCEWithLogitsLoss`, but flattens input and target.</p>\n",
              "<p><a href=\"https://docs.fast.ai/losses.html#bcewithlogitslossflat\" target=\"_blank\" rel=\"noreferrer noopener\">Show in docs</a></p>"
            ]
          },
          "metadata": {}
        }
      ]
    },
    {
      "cell_type": "markdown",
      "source": [
        "## stage 0"
      ],
      "metadata": {
        "id": "GvieZ3JgBbMT"
      }
    },
    {
      "cell_type": "code",
      "source": [
        "learner.freeze()"
      ],
      "metadata": {
        "id": "JddY9NN_AhtB"
      },
      "execution_count": null,
      "outputs": []
    },
    {
      "cell_type": "code",
      "source": [
        "learner.lr_find(suggest_funcs=[slide, valley])"
      ],
      "metadata": {
        "colab": {
          "base_uri": "https://localhost:8080/",
          "height": 472
        },
        "id": "YO6GP3KnBffw",
        "outputId": "afc0d67b-8c55-4903-c80c-a8af20904da0"
      },
      "execution_count": null,
      "outputs": [
        {
          "output_type": "display_data",
          "data": {
            "text/plain": [
              "<IPython.core.display.HTML object>"
            ],
            "text/html": [
              "\n",
              "<style>\n",
              "    /* Turns off some styling */\n",
              "    progress {\n",
              "        /* gets rid of default border in Firefox and Opera. */\n",
              "        border: none;\n",
              "        /* Needs to be in here for Safari polyfill so background images work as expected. */\n",
              "        background-size: auto;\n",
              "    }\n",
              "    progress:not([value]), progress:not([value])::-webkit-progress-bar {\n",
              "        background: repeating-linear-gradient(45deg, #7e7e7e, #7e7e7e 10px, #5c5c5c 10px, #5c5c5c 20px);\n",
              "    }\n",
              "    .progress-bar-interrupted, .progress-bar-interrupted::-webkit-progress-bar {\n",
              "        background: #F44336;\n",
              "    }\n",
              "</style>\n"
            ]
          },
          "metadata": {}
        },
        {
          "output_type": "display_data",
          "data": {
            "text/plain": [
              "<IPython.core.display.HTML object>"
            ],
            "text/html": []
          },
          "metadata": {}
        },
        {
          "output_type": "execute_result",
          "data": {
            "text/plain": [
              "SuggestedLRs(slide=0.0010000000474974513, valley=0.0003311311302240938)"
            ]
          },
          "metadata": {},
          "execution_count": 43
        },
        {
          "output_type": "display_data",
          "data": {
            "text/plain": [
              "<Figure size 640x480 with 1 Axes>"
            ],
            "image/png": "[encoded data removed]"
          },
          "metadata": {}
        }
      ]
    },
    {
      "cell_type": "code",
      "source": [
        "(1e-3 + 3.3e-4) / 2"
      ],
      "metadata": {
        "colab": {
          "base_uri": "https://localhost:8080/"
        },
        "id": "gJMWKT3WCIYk",
        "outputId": "814a532f-4a00-4228-b13b-63eeb2ea00d0"
      },
      "execution_count": null,
      "outputs": [
        {
          "output_type": "execute_result",
          "data": {
            "text/plain": [
              "0.000665"
            ]
          },
          "metadata": {},
          "execution_count": 45
        }
      ]
    },
    {
      "cell_type": "code",
      "source": [
        "learner.fit_one_cycle(2, 6.5e-4)"
      ],
      "metadata": {
        "colab": {
          "base_uri": "https://localhost:8080/",
          "height": 112
        },
        "id": "J41S0NG-BlXM",
        "outputId": "3d3c1059-4e6b-4093-dbd5-c99dfcafce87"
      },
      "execution_count": null,
      "outputs": [
        {
          "output_type": "display_data",
          "data": {
            "text/plain": [
              "<IPython.core.display.HTML object>"
            ],
            "text/html": [
              "\n",
              "<style>\n",
              "    /* Turns off some styling */\n",
              "    progress {\n",
              "        /* gets rid of default border in Firefox and Opera. */\n",
              "        border: none;\n",
              "        /* Needs to be in here for Safari polyfill so background images work as expected. */\n",
              "        background-size: auto;\n",
              "    }\n",
              "    progress:not([value]), progress:not([value])::-webkit-progress-bar {\n",
              "        background: repeating-linear-gradient(45deg, #7e7e7e, #7e7e7e 10px, #5c5c5c 10px, #5c5c5c 20px);\n",
              "    }\n",
              "    .progress-bar-interrupted, .progress-bar-interrupted::-webkit-progress-bar {\n",
              "        background: #F44336;\n",
              "    }\n",
              "</style>\n"
            ]
          },
          "metadata": {}
        },
        {
          "output_type": "display_data",
          "data": {
            "text/plain": [
              "<IPython.core.display.HTML object>"
            ],
            "text/html": [
              "<table border=\"1\" class=\"dataframe\">\n",
              "  <thead>\n",
              "    <tr style=\"text-align: left;\">\n",
              "      <th>epoch</th>\n",
              "      <th>train_loss</th>\n",
              "      <th>valid_loss</th>\n",
              "      <th>accuracy_multi</th>\n",
              "      <th>time</th>\n",
              "    </tr>\n",
              "  </thead>\n",
              "  <tbody>\n",
              "    <tr>\n",
              "      <td>0</td>\n",
              "      <td>0.044099</td>\n",
              "      <td>0.044608</td>\n",
              "      <td>0.991066</td>\n",
              "      <td>01:55</td>\n",
              "    </tr>\n",
              "    <tr>\n",
              "      <td>1</td>\n",
              "      <td>0.038229</td>\n",
              "      <td>0.038484</td>\n",
              "      <td>0.990611</td>\n",
              "      <td>01:55</td>\n",
              "    </tr>\n",
              "  </tbody>\n",
              "</table>"
            ]
          },
          "metadata": {}
        }
      ]
    },
    {
      "cell_type": "code",
      "source": [
        "learner.save(\"multilabel_paper_task_classifier_stage_0\")"
      ],
      "metadata": {
        "colab": {
          "base_uri": "https://localhost:8080/"
        },
        "id": "BRcjdob0CYTB",
        "outputId": "8294af77-9932-40be-98da-40654a7393f4"
      },
      "execution_count": null,
      "outputs": [
        {
          "output_type": "execute_result",
          "data": {
            "text/plain": [
              "Path('models/multilabel_paper_task_classifier_stage_0.pth')"
            ]
          },
          "metadata": {},
          "execution_count": 47
        }
      ]
    },
    {
      "cell_type": "code",
      "source": [
        "learner.export(\"models/multilabel_paper_task_classifier_stage_0.pkl\")"
      ],
      "metadata": {
        "id": "IZ8m7nvDEjus"
      },
      "execution_count": null,
      "outputs": []
    },
    {
      "cell_type": "markdown",
      "source": [
        "## Stage 1"
      ],
      "metadata": {
        "id": "4XwJYhKREqdp"
      }
    },
    {
      "cell_type": "code",
      "source": [
        "learner.unfreeze()"
      ],
      "metadata": {
        "id": "rXHiOt0xEpiW"
      },
      "execution_count": null,
      "outputs": []
    },
    {
      "cell_type": "code",
      "source": [
        "learner.lr_find(suggest_funcs=[slide, valley])"
      ],
      "metadata": {
        "colab": {
          "base_uri": "https://localhost:8080/",
          "height": 472
        },
        "id": "AccsTickEul0",
        "outputId": "5dbf9202-18e9-4785-a752-789cdcbe1ef7"
      },
      "execution_count": null,
      "outputs": [
        {
          "output_type": "display_data",
          "data": {
            "text/plain": [
              "<IPython.core.display.HTML object>"
            ],
            "text/html": [
              "\n",
              "<style>\n",
              "    /* Turns off some styling */\n",
              "    progress {\n",
              "        /* gets rid of default border in Firefox and Opera. */\n",
              "        border: none;\n",
              "        /* Needs to be in here for Safari polyfill so background images work as expected. */\n",
              "        background-size: auto;\n",
              "    }\n",
              "    progress:not([value]), progress:not([value])::-webkit-progress-bar {\n",
              "        background: repeating-linear-gradient(45deg, #7e7e7e, #7e7e7e 10px, #5c5c5c 10px, #5c5c5c 20px);\n",
              "    }\n",
              "    .progress-bar-interrupted, .progress-bar-interrupted::-webkit-progress-bar {\n",
              "        background: #F44336;\n",
              "    }\n",
              "</style>\n"
            ]
          },
          "metadata": {}
        },
        {
          "output_type": "display_data",
          "data": {
            "text/plain": [
              "<IPython.core.display.HTML object>"
            ],
            "text/html": []
          },
          "metadata": {}
        },
        {
          "output_type": "execute_result",
          "data": {
            "text/plain": [
              "SuggestedLRs(slide=0.0002290867705596611, valley=0.00019054606673307717)"
            ]
          },
          "metadata": {},
          "execution_count": 42
        },
        {
          "output_type": "display_data",
          "data": {
            "text/plain": [
              "<Figure size 640x480 with 1 Axes>"
            ],
            "image/png": "[encoded data removed]"
          },
          "metadata": {}
        }
      ]
    },
    {
      "cell_type": "code",
      "source": [
        "learner.fit_one_cycle(3, slice(1.8e-5, 2e-4))"
      ],
      "metadata": {
        "colab": {
          "base_uri": "https://localhost:8080/",
          "height": 143
        },
        "id": "3XQVtRqDEz9m",
        "outputId": "b4274ee3-2842-4530-f195-0ea64806d8be"
      },
      "execution_count": null,
      "outputs": [
        {
          "output_type": "display_data",
          "data": {
            "text/plain": [
              "<IPython.core.display.HTML object>"
            ],
            "text/html": [
              "\n",
              "<style>\n",
              "    /* Turns off some styling */\n",
              "    progress {\n",
              "        /* gets rid of default border in Firefox and Opera. */\n",
              "        border: none;\n",
              "        /* Needs to be in here for Safari polyfill so background images work as expected. */\n",
              "        background-size: auto;\n",
              "    }\n",
              "    progress:not([value]), progress:not([value])::-webkit-progress-bar {\n",
              "        background: repeating-linear-gradient(45deg, #7e7e7e, #7e7e7e 10px, #5c5c5c 10px, #5c5c5c 20px);\n",
              "    }\n",
              "    .progress-bar-interrupted, .progress-bar-interrupted::-webkit-progress-bar {\n",
              "        background: #F44336;\n",
              "    }\n",
              "</style>\n"
            ]
          },
          "metadata": {}
        },
        {
          "output_type": "display_data",
          "data": {
            "text/plain": [
              "<IPython.core.display.HTML object>"
            ],
            "text/html": [
              "<table border=\"1\" class=\"dataframe\">\n",
              "  <thead>\n",
              "    <tr style=\"text-align: left;\">\n",
              "      <th>epoch</th>\n",
              "      <th>train_loss</th>\n",
              "      <th>valid_loss</th>\n",
              "      <th>accuracy_multi</th>\n",
              "      <th>time</th>\n",
              "    </tr>\n",
              "  </thead>\n",
              "  <tbody>\n",
              "    <tr>\n",
              "      <td>0</td>\n",
              "      <td>0.027041</td>\n",
              "      <td>0.024716</td>\n",
              "      <td>0.993568</td>\n",
              "      <td>02:23</td>\n",
              "    </tr>\n",
              "    <tr>\n",
              "      <td>1</td>\n",
              "      <td>0.019465</td>\n",
              "      <td>0.018561</td>\n",
              "      <td>0.994639</td>\n",
              "      <td>02:25</td>\n",
              "    </tr>\n",
              "    <tr>\n",
              "      <td>2</td>\n",
              "      <td>0.016922</td>\n",
              "      <td>0.017258</td>\n",
              "      <td>0.995127</td>\n",
              "      <td>02:23</td>\n",
              "    </tr>\n",
              "  </tbody>\n",
              "</table>"
            ]
          },
          "metadata": {}
        }
      ]
    },
    {
      "cell_type": "code",
      "source": [
        "learner.save(\"multilabel_paper_task_classifier_stage_1\")"
      ],
      "metadata": {
        "colab": {
          "base_uri": "https://localhost:8080/"
        },
        "id": "jcKBkiY2FhOd",
        "outputId": "98b5251c-96f0-462c-f0a8-db5d53bb74ea"
      },
      "execution_count": null,
      "outputs": [
        {
          "output_type": "execute_result",
          "data": {
            "text/plain": [
              "Path('models/multilabel_paper_task_classifier_stage_1.pth')"
            ]
          },
          "metadata": {},
          "execution_count": 51
        }
      ]
    },
    {
      "cell_type": "code",
      "source": [
        "learner.export(\"models/multilabel_paper_task_classifier_stage_1.pkl\")"
      ],
      "metadata": {
        "id": "b9mxoY6sHpjS"
      },
      "execution_count": null,
      "outputs": []
    }
  ]
}